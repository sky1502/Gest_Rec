{
 "cells": [
  {
   "cell_type": "code",
   "execution_count": 1,
   "metadata": {},
   "outputs": [],
   "source": [
    "import numpy as np\n",
    "import pandas as pd\n",
    "import matplotlib.pyplot as plt\n",
    "import seaborn as sns\n",
    "import cv2 \n",
    "import os\n",
    "from tqdm import tqdm\n",
    "import json\n",
    "import time\n",
    "import random\n",
    "import pickle"
   ]
  },
  {
   "cell_type": "code",
   "execution_count": 2,
   "metadata": {},
   "outputs": [],
   "source": [
    "df=pd.read_csv(r'E:\\capstone\\code\\WLASL-master\\WLASL-master\\start_kit\\data.csv',dtype={'video_id': str})"
   ]
  },
  {
   "cell_type": "code",
   "execution_count": 3,
   "metadata": {},
   "outputs": [
    {
     "data": {
      "text/html": [
       "<div>\n",
       "<style scoped>\n",
       "    .dataframe tbody tr th:only-of-type {\n",
       "        vertical-align: middle;\n",
       "    }\n",
       "\n",
       "    .dataframe tbody tr th {\n",
       "        vertical-align: top;\n",
       "    }\n",
       "\n",
       "    .dataframe thead th {\n",
       "        text-align: right;\n",
       "    }\n",
       "</style>\n",
       "<table border=\"1\" class=\"dataframe\">\n",
       "  <thead>\n",
       "    <tr style=\"text-align: right;\">\n",
       "      <th></th>\n",
       "      <th>gloss</th>\n",
       "      <th>video_id</th>\n",
       "      <th>xmin</th>\n",
       "      <th>ymin</th>\n",
       "      <th>xmax</th>\n",
       "      <th>ymax</th>\n",
       "      <th>fps</th>\n",
       "      <th>frame_end</th>\n",
       "      <th>frame_start</th>\n",
       "      <th>instance_id</th>\n",
       "      <th>signer_id</th>\n",
       "      <th>source</th>\n",
       "      <th>split</th>\n",
       "      <th>url</th>\n",
       "      <th>variation_id</th>\n",
       "    </tr>\n",
       "  </thead>\n",
       "  <tbody>\n",
       "    <tr>\n",
       "      <th>0</th>\n",
       "      <td>book</td>\n",
       "      <td>69241</td>\n",
       "      <td>385</td>\n",
       "      <td>37</td>\n",
       "      <td>885</td>\n",
       "      <td>720</td>\n",
       "      <td>25.0</td>\n",
       "      <td>-1</td>\n",
       "      <td>1</td>\n",
       "      <td>0</td>\n",
       "      <td>118</td>\n",
       "      <td>aslbrick</td>\n",
       "      <td>train</td>\n",
       "      <td>http://aslbricks.org/New/ASL-Videos/book.mp4</td>\n",
       "      <td>0</td>\n",
       "    </tr>\n",
       "    <tr>\n",
       "      <th>1</th>\n",
       "      <td>book</td>\n",
       "      <td>65225</td>\n",
       "      <td>190</td>\n",
       "      <td>25</td>\n",
       "      <td>489</td>\n",
       "      <td>370</td>\n",
       "      <td>25.0</td>\n",
       "      <td>-1</td>\n",
       "      <td>1</td>\n",
       "      <td>1</td>\n",
       "      <td>90</td>\n",
       "      <td>aslsignbank</td>\n",
       "      <td>train</td>\n",
       "      <td>https://aslsignbank.haskins.yale.edu/dictionar...</td>\n",
       "      <td>0</td>\n",
       "    </tr>\n",
       "    <tr>\n",
       "      <th>2</th>\n",
       "      <td>book</td>\n",
       "      <td>68011</td>\n",
       "      <td>262</td>\n",
       "      <td>1</td>\n",
       "      <td>652</td>\n",
       "      <td>480</td>\n",
       "      <td>25.0</td>\n",
       "      <td>-1</td>\n",
       "      <td>1</td>\n",
       "      <td>2</td>\n",
       "      <td>110</td>\n",
       "      <td>valencia-asl</td>\n",
       "      <td>train</td>\n",
       "      <td>https://www.youtube.com/watch?v=0UsjUE-TXns</td>\n",
       "      <td>0</td>\n",
       "    </tr>\n",
       "    <tr>\n",
       "      <th>3</th>\n",
       "      <td>book</td>\n",
       "      <td>68208</td>\n",
       "      <td>123</td>\n",
       "      <td>19</td>\n",
       "      <td>516</td>\n",
       "      <td>358</td>\n",
       "      <td>25.0</td>\n",
       "      <td>60</td>\n",
       "      <td>1</td>\n",
       "      <td>3</td>\n",
       "      <td>113</td>\n",
       "      <td>lillybauer</td>\n",
       "      <td>train</td>\n",
       "      <td>https://www.youtube.com/watch?v=1QOYOZ3g-aY</td>\n",
       "      <td>0</td>\n",
       "    </tr>\n",
       "    <tr>\n",
       "      <th>4</th>\n",
       "      <td>book</td>\n",
       "      <td>68012</td>\n",
       "      <td>95</td>\n",
       "      <td>0</td>\n",
       "      <td>1180</td>\n",
       "      <td>720</td>\n",
       "      <td>25.0</td>\n",
       "      <td>-1</td>\n",
       "      <td>1</td>\n",
       "      <td>4</td>\n",
       "      <td>109</td>\n",
       "      <td>valencia-asl</td>\n",
       "      <td>train</td>\n",
       "      <td>https://www.youtube.com/watch?v=aGtIHKEdCds</td>\n",
       "      <td>0</td>\n",
       "    </tr>\n",
       "  </tbody>\n",
       "</table>\n",
       "</div>"
      ],
      "text/plain": [
       "  gloss video_id  xmin  ymin  xmax  ymax   fps  frame_end  frame_start  \\\n",
       "0  book    69241   385    37   885   720  25.0         -1            1   \n",
       "1  book    65225   190    25   489   370  25.0         -1            1   \n",
       "2  book    68011   262     1   652   480  25.0         -1            1   \n",
       "3  book    68208   123    19   516   358  25.0         60            1   \n",
       "4  book    68012    95     0  1180   720  25.0         -1            1   \n",
       "\n",
       "   instance_id  signer_id        source  split  \\\n",
       "0            0        118      aslbrick  train   \n",
       "1            1         90   aslsignbank  train   \n",
       "2            2        110  valencia-asl  train   \n",
       "3            3        113    lillybauer  train   \n",
       "4            4        109  valencia-asl  train   \n",
       "\n",
       "                                                 url  variation_id  \n",
       "0       http://aslbricks.org/New/ASL-Videos/book.mp4             0  \n",
       "1  https://aslsignbank.haskins.yale.edu/dictionar...             0  \n",
       "2        https://www.youtube.com/watch?v=0UsjUE-TXns             0  \n",
       "3        https://www.youtube.com/watch?v=1QOYOZ3g-aY             0  \n",
       "4        https://www.youtube.com/watch?v=aGtIHKEdCds             0  "
      ]
     },
     "execution_count": 3,
     "metadata": {},
     "output_type": "execute_result"
    }
   ],
   "source": [
    "for i in df['fps'] :\n",
    "    if(i != 25):\n",
    "        print(df['fps'])\n",
    "df.head()"
   ]
  },
  {
   "cell_type": "code",
   "execution_count": 4,
   "metadata": {},
   "outputs": [
    {
     "data": {
      "text/plain": [
       "19060"
      ]
     },
     "execution_count": 4,
     "metadata": {},
     "output_type": "execute_result"
    }
   ],
   "source": [
    "len(os.listdir(r'E:\\capstone\\code\\WLASL-master\\WLASL-master\\start_kit\\videos'))"
   ]
  },
  {
   "cell_type": "code",
   "execution_count": 5,
   "metadata": {},
   "outputs": [
    {
     "name": "stderr",
     "output_type": "stream",
     "text": [
      "100%|████████████████████████████████████████████████████████████████████████████████| 500/500 [09:47<00:00,  1.17s/it]\n",
      "100%|████████████████████████████████████████████████████████████████████████████████| 500/500 [09:58<00:00,  1.20s/it]\n",
      "100%|████████████████████████████████████████████████████████████████████████████████| 500/500 [09:56<00:00,  1.19s/it]\n",
      "100%|████████████████████████████████████████████████████████████████████████████████| 500/500 [09:17<00:00,  1.12s/it]\n",
      "100%|████████████████████████████████████████████████████████████████████████████████| 500/500 [09:22<00:00,  1.12s/it]\n",
      "100%|████████████████████████████████████████████████████████████████████████████████| 500/500 [09:28<00:00,  1.14s/it]\n",
      "100%|████████████████████████████████████████████████████████████████████████████████| 500/500 [09:22<00:00,  1.12s/it]\n",
      "100%|████████████████████████████████████████████████████████████████████████████████| 500/500 [09:10<00:00,  1.10s/it]\n",
      "100%|████████████████████████████████████████████████████████████████████████████████| 500/500 [09:05<00:00,  1.09s/it]\n",
      "100%|████████████████████████████████████████████████████████████████████████████████| 500/500 [09:23<00:00,  1.13s/it]\n",
      "100%|████████████████████████████████████████████████████████████████████████████████| 500/500 [09:15<00:00,  1.11s/it]\n",
      "100%|████████████████████████████████████████████████████████████████████████████████| 500/500 [09:13<00:00,  1.11s/it]\n",
      "100%|████████████████████████████████████████████████████████████████████████████████| 500/500 [09:08<00:00,  1.10s/it]\n",
      "100%|████████████████████████████████████████████████████████████████████████████████| 500/500 [09:10<00:00,  1.10s/it]\n",
      "100%|████████████████████████████████████████████████████████████████████████████████| 500/500 [08:53<00:00,  1.07s/it]\n",
      "100%|████████████████████████████████████████████████████████████████████████████████| 500/500 [09:11<00:00,  1.10s/it]\n",
      "100%|████████████████████████████████████████████████████████████████████████████████| 500/500 [09:35<00:00,  1.15s/it]\n",
      "100%|████████████████████████████████████████████████████████████████████████████████| 500/500 [09:38<00:00,  1.16s/it]\n",
      "100%|████████████████████████████████████████████████████████████████████████████████| 500/500 [09:28<00:00,  1.14s/it]\n",
      "100%|████████████████████████████████████████████████████████████████████████████████| 500/500 [09:08<00:00,  1.10s/it]\n",
      "100%|████████████████████████████████████████████████████████████████████████████████| 500/500 [09:09<00:00,  1.10s/it]\n",
      "100%|████████████████████████████████████████████████████████████████████████████████| 500/500 [09:21<00:00,  1.12s/it]\n",
      "100%|████████████████████████████████████████████████████████████████████████████████| 500/500 [09:16<00:00,  1.11s/it]\n",
      "100%|████████████████████████████████████████████████████████████████████████████████| 500/500 [08:49<00:00,  1.06s/it]\n",
      "100%|████████████████████████████████████████████████████████████████████████████████| 500/500 [09:13<00:00,  1.11s/it]\n",
      "100%|████████████████████████████████████████████████████████████████████████████████| 500/500 [09:17<00:00,  1.12s/it]\n",
      "100%|████████████████████████████████████████████████████████████████████████████████| 500/500 [09:18<00:00,  1.12s/it]\n",
      "100%|████████████████████████████████████████████████████████████████████████████████| 500/500 [09:21<00:00,  1.12s/it]\n",
      "100%|████████████████████████████████████████████████████████████████████████████████| 500/500 [09:32<00:00,  1.15s/it]\n",
      "100%|████████████████████████████████████████████████████████████████████████████████| 500/500 [08:58<00:00,  1.08s/it]\n",
      "100%|████████████████████████████████████████████████████████████████████████████████| 500/500 [09:16<00:00,  1.11s/it]\n",
      "100%|████████████████████████████████████████████████████████████████████████████████| 500/500 [09:26<00:00,  1.13s/it]\n",
      "100%|████████████████████████████████████████████████████████████████████████████████| 500/500 [09:33<00:00,  1.15s/it]\n",
      "100%|████████████████████████████████████████████████████████████████████████████████| 500/500 [08:42<00:00,  1.05s/it]\n",
      "100%|████████████████████████████████████████████████████████████████████████████████| 500/500 [08:20<00:00,  1.00s/it]\n"
     ]
    },
    {
     "ename": "MemoryError",
     "evalue": "",
     "output_type": "error",
     "traceback": [
      "\u001b[1;31m---------------------------------------------------------------------------\u001b[0m",
      "\u001b[1;31mMemoryError\u001b[0m                               Traceback (most recent call last)",
      "\u001b[1;32m<ipython-input-5-48c34e014cad>\u001b[0m in \u001b[0;36m<module>\u001b[1;34m\u001b[0m\n\u001b[0;32m     95\u001b[0m     \u001b[0mall_error_vid\u001b[0m\u001b[1;33m.\u001b[0m\u001b[0mappend\u001b[0m\u001b[1;33m(\u001b[0m\u001b[0merror_videos\u001b[0m\u001b[1;33m)\u001b[0m\u001b[1;33m\u001b[0m\u001b[1;33m\u001b[0m\u001b[0m\n\u001b[0;32m     96\u001b[0m   \u001b[1;31m# pickle.dump(data, open(r'E:\\capstone\\code\\WLASL-master\\WLASL-master\\start_kit\\v_data_{}.pkl'.format(loop), \"wb\"))\u001b[0m\u001b[1;33m\u001b[0m\u001b[1;33m\u001b[0m\u001b[1;33m\u001b[0m\u001b[0m\n\u001b[1;32m---> 97\u001b[1;33m     \u001b[0mpickle\u001b[0m\u001b[1;33m.\u001b[0m\u001b[0mdump\u001b[0m\u001b[1;33m(\u001b[0m\u001b[0mdata_bw\u001b[0m\u001b[1;33m,\u001b[0m \u001b[0mopen\u001b[0m\u001b[1;33m(\u001b[0m\u001b[1;34mr'E:\\capstone\\code\\WLASL-master\\WLASL-master\\start_kit\\v_data_bw_{}.pkl'\u001b[0m\u001b[1;33m.\u001b[0m\u001b[0mformat\u001b[0m\u001b[1;33m(\u001b[0m\u001b[0mloop\u001b[0m\u001b[1;33m)\u001b[0m\u001b[1;33m,\u001b[0m \u001b[1;34m\"wb\"\u001b[0m\u001b[1;33m)\u001b[0m\u001b[1;33m)\u001b[0m\u001b[1;33m\u001b[0m\u001b[1;33m\u001b[0m\u001b[0m\n\u001b[0m\u001b[0;32m     98\u001b[0m   \u001b[1;31m# pickle.dump(data_focus_bw, open(r'E:\\capstone\\code\\WLASL-master\\WLASL-master\\start_kit\\v_data_focus_bw_{}.pkl'.format(loop), \"wb\"))\u001b[0m\u001b[1;33m\u001b[0m\u001b[1;33m\u001b[0m\u001b[1;33m\u001b[0m\u001b[0m\n\u001b[0;32m     99\u001b[0m   \u001b[1;31m# pickle.dump(data_focus, open(r'E:\\capstone\\code\\WLASL-master\\WLASL-master\\start_kit\\v_data_focus_{}.pkl'.format(loop), \"wb\"))\u001b[0m\u001b[1;33m\u001b[0m\u001b[1;33m\u001b[0m\u001b[1;33m\u001b[0m\u001b[0m\n",
      "\u001b[1;31mMemoryError\u001b[0m: "
     ]
    }
   ],
   "source": [
    "## checking fps\n",
    "all_error_vid=[]\n",
    "path=r'E:\\capstone\\code\\WLASL-master\\WLASL-master\\start_kit\\videos'\n",
    "for loop in range(0,len(os.listdir(path)),500):\n",
    "    data={}\n",
    "    data_bw={}\n",
    "   #data_focus={}\n",
    "   #data_focus_bw={}\n",
    "    error_videos=[]\n",
    "\n",
    "    video_data=[]\n",
    "   #video_data_focus=[]\n",
    "    fps=[]\n",
    "    orignal_fps=[]\n",
    "\n",
    "#tf = [], ttime = [], pf = []\n",
    "    try:\n",
    "        for v_path in tqdm(os.listdir(path)[loop:loop+500]):\n",
    "            try:\n",
    "                id_=v_path[:5]\n",
    "                det=df[df['video_id']==id_]\n",
    "                v_path=os.path.join(path, v_path)\n",
    "                cap=cv2.VideoCapture(v_path)\n",
    "                video=[]\n",
    "                video_bw=[]\n",
    "               #video_focus=[]\n",
    "               #video_focus_bw=[]\n",
    "        \n",
    "    \n",
    "    ##Frame Pruning Code development\n",
    "                num_breaks = 0\n",
    "                ffppss = cap.get(cv2.CAP_PROP_FPS)\n",
    "                orignal_fps.append(ffppss)\n",
    "                tot_frames = cap.get(cv2.CAP_PROP_FRAME_COUNT)\n",
    "    #tf.append(tot_frames)\n",
    "    #ttime.append(tot_frames / ffppss)\n",
    "                if(ffppss > 25):\n",
    "                    num_breaks = ffppss - 25\n",
    "                    num_breaks = int(num_breaks * tot_frames / ffppss)\n",
    "    \n",
    "                rand_frame = []\n",
    "                for i in range(0, num_breaks):\n",
    "                    x = random.randint(1, tot_frames)\n",
    "                    while(x in rand_frame):\n",
    "                        x = random.randint(1, tot_frames)\n",
    "                    rand_frame.append(x)\n",
    "    \n",
    "                frame_num = 0\n",
    "                processed_frames = 0\n",
    "    \n",
    "                while(cap.isOpened()):\n",
    "        \n",
    "                    ret, frame = cap.read()\n",
    "                    if ret==True:\n",
    "            \n",
    "            ##Frame pruning in action\n",
    "                        frame_num = frame_num + 1\n",
    "                        if(frame_num in rand_frame):\n",
    "                            continue\n",
    "            ##Frame pruning end\n",
    "            \n",
    "                        processed_frames += 1\n",
    "                        #frame_focus=frame[int(det['xmin']):int(det['xmax']),int(det['ymin']):int(det['ymax']),:]\n",
    "                        frame = cv2.resize(frame, (240,320), interpolation = cv2.INTER_AREA)\n",
    "                       #frame_focus = cv2.resize(frame_focus, (320,240), interpolation = cv2.INTER_AREA)\n",
    "                    #cv2.imshow(\"frame\",frame_focus)\n",
    "                       #gray_focus = cv2.cvtColor(frame_focus, cv2.COLOR_BGR2GRAY)\n",
    "                        gray = cv2.cvtColor(frame, cv2.COLOR_BGR2GRAY)\n",
    "                     #  video.append(np.asarray(frame))\n",
    "                       #video_focus.append(np.asarray(frame_focus))\n",
    "                        video_bw.append(np.asarray(gray))\n",
    "                       #video_focus_bw.append(np.asarray(gray_focus))\n",
    "            \n",
    "                    else:\n",
    "                        break\n",
    "                    if cv2.waitKey(1) & 0xFF == ord('q'):\n",
    "                        break\n",
    "        #pf.append(processed_frames)\n",
    "               #data[id_]=np.asarray(video)\n",
    "                data_bw[id_]=np.asarray(video_bw)\n",
    "               #data_focus[id_]=np.asarray(video_focus)\n",
    "               #data_focus_bw[id_]=np.asarray(video_focus_bw)\n",
    "\n",
    "                cap.release()\n",
    "                cv2.destroyAllWindows()\n",
    "            \n",
    "            except:\n",
    "\n",
    "                error_videos.append(v_path)\n",
    "                print(v_path)\n",
    "    except:\n",
    "        print(\"error in loop\")\n",
    "    \n",
    "    \n",
    "    all_error_vid.append(error_videos)\n",
    "  # pickle.dump(data, open(r'E:\\capstone\\code\\WLASL-master\\WLASL-master\\start_kit\\v_data_{}.pkl'.format(loop), \"wb\"))\n",
    "    pickle.dump(data_bw, open(r'E:\\capstone\\code\\WLASL-master\\WLASL-master\\start_kit\\v_data_bw_{}.pkl'.format(loop), \"wb\"))\n",
    "  # pickle.dump(data_focus_bw, open(r'E:\\capstone\\code\\WLASL-master\\WLASL-master\\start_kit\\v_data_focus_bw_{}.pkl'.format(loop), \"wb\"))\n",
    "  # pickle.dump(data_focus, open(r'E:\\capstone\\code\\WLASL-master\\WLASL-master\\start_kit\\v_data_focus_{}.pkl'.format(loop), \"wb\"))"
   ]
  },
  {
   "cell_type": "code",
   "execution_count": null,
   "metadata": {},
   "outputs": [],
   "source": [
    "x=list(data.keys())"
   ]
  },
  {
   "cell_type": "code",
   "execution_count": null,
   "metadata": {},
   "outputs": [],
   "source": [
    "len(x)"
   ]
  },
  {
   "cell_type": "code",
   "execution_count": null,
   "metadata": {},
   "outputs": [],
   "source": [
    "v_path"
   ]
  },
  {
   "cell_type": "code",
   "execution_count": null,
   "metadata": {},
   "outputs": [],
   "source": [
    "import pickle\n",
    "pickle.dump(data, open(r'E:\\capstone\\code\\WLASL-master\\WLASL-master\\start_kit\\v_data_1.pkl', \"wb\"))\n",
    "pickle.dump(data_bw, open(r'E:\\capstone\\code\\WLASL-master\\WLASL-master\\start_kit\\v_data_bw_1.pkl', \"wb\"))\n",
    "pickle.dump(data_focus_bw, open(r'E:\\capstone\\code\\WLASL-master\\WLASL-master\\start_kit\\v_data_focus_bw_1.pkl', \"wb\"))\n",
    "pickle.dump(data_focus, open(r'E:\\capstone\\code\\WLASL-master\\WLASL-master\\start_kit\\v_data_focus_1.pkl', \"wb\"))"
   ]
  },
  {
   "cell_type": "code",
   "execution_count": 29,
   "metadata": {},
   "outputs": [],
   "source": [
    "check = pickle.load(open(r'E:\\capstone\\code\\WLASL-master\\WLASL-master\\start_kit\\v_data.pkl', \"rb\"))"
   ]
  },
  {
   "cell_type": "code",
   "execution_count": 30,
   "metadata": {},
   "outputs": [],
   "source": [
    "x=list(check.keys())"
   ]
  },
  {
   "cell_type": "code",
   "execution_count": 31,
   "metadata": {},
   "outputs": [
    {
     "data": {
      "text/plain": [
       "(23, 320, 240, 3)"
      ]
     },
     "execution_count": 31,
     "metadata": {},
     "output_type": "execute_result"
    }
   ],
   "source": [
    "check[x[0]].shape"
   ]
  },
  {
   "cell_type": "code",
   "execution_count": 32,
   "metadata": {},
   "outputs": [
    {
     "data": {
      "text/plain": [
       "['00295',\n",
       " '00333',\n",
       " '00335',\n",
       " '00336',\n",
       " '00337',\n",
       " '00338',\n",
       " '00339',\n",
       " '00341',\n",
       " '00374',\n",
       " '00376',\n",
       " '00377',\n",
       " '00378',\n",
       " '00381',\n",
       " '00382',\n",
       " '00384',\n",
       " '00412',\n",
       " '00414',\n",
       " '00415',\n",
       " '00416',\n",
       " '00419']"
      ]
     },
     "execution_count": 32,
     "metadata": {},
     "output_type": "execute_result"
    }
   ],
   "source": [
    "all_error_vid=[]\n",
    "all_error_vid.append(error_videos)"
   ]
  },
  {
   "cell_type": "code",
   "execution_count": null,
   "metadata": {},
   "outputs": [],
   "source": []
  }
 ],
 "metadata": {
  "kernelspec": {
   "display_name": "Python 3",
   "language": "python",
   "name": "python3"
  },
  "language_info": {
   "codemirror_mode": {
    "name": "ipython",
    "version": 3
   },
   "file_extension": ".py",
   "mimetype": "text/x-python",
   "name": "python",
   "nbconvert_exporter": "python",
   "pygments_lexer": "ipython3",
   "version": "3.7.6"
  }
 },
 "nbformat": 4,
 "nbformat_minor": 4
}
