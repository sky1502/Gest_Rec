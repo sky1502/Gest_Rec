{
 "cells": [
  {
   "cell_type": "code",
   "execution_count": 1,
   "metadata": {},
   "outputs": [],
   "source": [
    "import numpy as np\n",
    "import pandas as pd\n",
    "import matplotlib.pyplot as plt\n",
    "import seaborn as sns\n",
    "import cv2 \n",
    "import os\n",
    "from tqdm import tqdm\n",
    "import json\n",
    "import time\n",
    "import random\n",
    "import pickle"
   ]
  },
  {
   "cell_type": "code",
   "execution_count": 2,
   "metadata": {},
   "outputs": [],
   "source": [
    "df=pd.read_csv(r'E:\\capstone\\code\\WLASL-master\\WLASL-master\\start_kit\\data.csv',dtype={'video_id': str})\n",
    "embedding_data=pd.read_csv(r'E:\\capstone\\code\\WLASL-master\\WLASL-master\\start_kit\\embedding_data.csv')"
   ]
  },
  {
   "cell_type": "code",
   "execution_count": 3,
   "metadata": {},
   "outputs": [
    {
     "data": {
      "text/html": [
       "<div>\n",
       "<style scoped>\n",
       "    .dataframe tbody tr th:only-of-type {\n",
       "        vertical-align: middle;\n",
       "    }\n",
       "\n",
       "    .dataframe tbody tr th {\n",
       "        vertical-align: top;\n",
       "    }\n",
       "\n",
       "    .dataframe thead th {\n",
       "        text-align: right;\n",
       "    }\n",
       "</style>\n",
       "<table border=\"1\" class=\"dataframe\">\n",
       "  <thead>\n",
       "    <tr style=\"text-align: right;\">\n",
       "      <th></th>\n",
       "      <th>gloss</th>\n",
       "      <th>video_id</th>\n",
       "      <th>xmin</th>\n",
       "      <th>ymin</th>\n",
       "      <th>xmax</th>\n",
       "      <th>ymax</th>\n",
       "      <th>fps</th>\n",
       "      <th>frame_end</th>\n",
       "      <th>frame_start</th>\n",
       "      <th>instance_id</th>\n",
       "      <th>signer_id</th>\n",
       "      <th>source</th>\n",
       "      <th>split</th>\n",
       "      <th>url</th>\n",
       "      <th>variation_id</th>\n",
       "    </tr>\n",
       "  </thead>\n",
       "  <tbody>\n",
       "    <tr>\n",
       "      <th>0</th>\n",
       "      <td>book</td>\n",
       "      <td>69241</td>\n",
       "      <td>385</td>\n",
       "      <td>37</td>\n",
       "      <td>885</td>\n",
       "      <td>720</td>\n",
       "      <td>25.0</td>\n",
       "      <td>-1</td>\n",
       "      <td>1</td>\n",
       "      <td>0</td>\n",
       "      <td>118</td>\n",
       "      <td>aslbrick</td>\n",
       "      <td>train</td>\n",
       "      <td>http://aslbricks.org/New/ASL-Videos/book.mp4</td>\n",
       "      <td>0</td>\n",
       "    </tr>\n",
       "    <tr>\n",
       "      <th>1</th>\n",
       "      <td>book</td>\n",
       "      <td>65225</td>\n",
       "      <td>190</td>\n",
       "      <td>25</td>\n",
       "      <td>489</td>\n",
       "      <td>370</td>\n",
       "      <td>25.0</td>\n",
       "      <td>-1</td>\n",
       "      <td>1</td>\n",
       "      <td>1</td>\n",
       "      <td>90</td>\n",
       "      <td>aslsignbank</td>\n",
       "      <td>train</td>\n",
       "      <td>https://aslsignbank.haskins.yale.edu/dictionar...</td>\n",
       "      <td>0</td>\n",
       "    </tr>\n",
       "    <tr>\n",
       "      <th>2</th>\n",
       "      <td>book</td>\n",
       "      <td>68011</td>\n",
       "      <td>262</td>\n",
       "      <td>1</td>\n",
       "      <td>652</td>\n",
       "      <td>480</td>\n",
       "      <td>25.0</td>\n",
       "      <td>-1</td>\n",
       "      <td>1</td>\n",
       "      <td>2</td>\n",
       "      <td>110</td>\n",
       "      <td>valencia-asl</td>\n",
       "      <td>train</td>\n",
       "      <td>https://www.youtube.com/watch?v=0UsjUE-TXns</td>\n",
       "      <td>0</td>\n",
       "    </tr>\n",
       "    <tr>\n",
       "      <th>3</th>\n",
       "      <td>book</td>\n",
       "      <td>68208</td>\n",
       "      <td>123</td>\n",
       "      <td>19</td>\n",
       "      <td>516</td>\n",
       "      <td>358</td>\n",
       "      <td>25.0</td>\n",
       "      <td>60</td>\n",
       "      <td>1</td>\n",
       "      <td>3</td>\n",
       "      <td>113</td>\n",
       "      <td>lillybauer</td>\n",
       "      <td>train</td>\n",
       "      <td>https://www.youtube.com/watch?v=1QOYOZ3g-aY</td>\n",
       "      <td>0</td>\n",
       "    </tr>\n",
       "    <tr>\n",
       "      <th>4</th>\n",
       "      <td>book</td>\n",
       "      <td>68012</td>\n",
       "      <td>95</td>\n",
       "      <td>0</td>\n",
       "      <td>1180</td>\n",
       "      <td>720</td>\n",
       "      <td>25.0</td>\n",
       "      <td>-1</td>\n",
       "      <td>1</td>\n",
       "      <td>4</td>\n",
       "      <td>109</td>\n",
       "      <td>valencia-asl</td>\n",
       "      <td>train</td>\n",
       "      <td>https://www.youtube.com/watch?v=aGtIHKEdCds</td>\n",
       "      <td>0</td>\n",
       "    </tr>\n",
       "  </tbody>\n",
       "</table>\n",
       "</div>"
      ],
      "text/plain": [
       "  gloss video_id  xmin  ymin  xmax  ymax   fps  frame_end  frame_start  \\\n",
       "0  book    69241   385    37   885   720  25.0         -1            1   \n",
       "1  book    65225   190    25   489   370  25.0         -1            1   \n",
       "2  book    68011   262     1   652   480  25.0         -1            1   \n",
       "3  book    68208   123    19   516   358  25.0         60            1   \n",
       "4  book    68012    95     0  1180   720  25.0         -1            1   \n",
       "\n",
       "   instance_id  signer_id        source  split  \\\n",
       "0            0        118      aslbrick  train   \n",
       "1            1         90   aslsignbank  train   \n",
       "2            2        110  valencia-asl  train   \n",
       "3            3        113    lillybauer  train   \n",
       "4            4        109  valencia-asl  train   \n",
       "\n",
       "                                                 url  variation_id  \n",
       "0       http://aslbricks.org/New/ASL-Videos/book.mp4             0  \n",
       "1  https://aslsignbank.haskins.yale.edu/dictionar...             0  \n",
       "2        https://www.youtube.com/watch?v=0UsjUE-TXns             0  \n",
       "3        https://www.youtube.com/watch?v=1QOYOZ3g-aY             0  \n",
       "4        https://www.youtube.com/watch?v=aGtIHKEdCds             0  "
      ]
     },
     "execution_count": 3,
     "metadata": {},
     "output_type": "execute_result"
    }
   ],
   "source": [
    "df.head()"
   ]
  },
  {
   "cell_type": "code",
   "execution_count": 4,
   "metadata": {},
   "outputs": [
    {
     "data": {
      "text/plain": [
       "(285,)"
      ]
     },
     "execution_count": 4,
     "metadata": {},
     "output_type": "execute_result"
    }
   ],
   "source": [
    "np.unique(df.gloss[:4900]).shape"
   ]
  },
  {
   "cell_type": "code",
   "execution_count": 5,
   "metadata": {},
   "outputs": [],
   "source": [
    "temp_df=df[:4900]"
   ]
  },
  {
   "cell_type": "code",
   "execution_count": 6,
   "metadata": {},
   "outputs": [
    {
     "name": "stderr",
     "output_type": "stream",
     "text": [
      "100%|██████████████████████████████████████████████████████████████████████████████████| 34/34 [02:57<00:00,  5.21s/it]\n"
     ]
    }
   ],
   "source": [
    "data={}\n",
    "for i in tqdm(range(0,17000,500)):\n",
    "    v_data = pickle.load(open(r'E:\\capstone\\code\\WLASL-master\\WLASL-master\\start_kit\\v_data_bw_{}.pkl'.format(i), \"rb\"))\n",
    "    for j in v_data.keys():\n",
    "        if j in list(temp_df['video_id']) :\n",
    "            data[j]=v_data[j]"
   ]
  },
  {
   "cell_type": "code",
   "execution_count": null,
   "metadata": {},
   "outputs": [],
   "source": []
  },
  {
   "cell_type": "code",
   "execution_count": 7,
   "metadata": {},
   "outputs": [
    {
     "data": {
      "text/plain": [
       "3698"
      ]
     },
     "execution_count": 7,
     "metadata": {},
     "output_type": "execute_result"
    }
   ],
   "source": [
    "len(data.keys())"
   ]
  },
  {
   "cell_type": "code",
   "execution_count": null,
   "metadata": {},
   "outputs": [],
   "source": []
  },
  {
   "cell_type": "code",
   "execution_count": 8,
   "metadata": {},
   "outputs": [],
   "source": [
    "train_df=temp_df[temp_df['split']==\"train\"]\n",
    "test_df=temp_df[temp_df['split']==\"test\"]"
   ]
  },
  {
   "cell_type": "code",
   "execution_count": 9,
   "metadata": {},
   "outputs": [
    {
     "data": {
      "text/html": [
       "<div>\n",
       "<style scoped>\n",
       "    .dataframe tbody tr th:only-of-type {\n",
       "        vertical-align: middle;\n",
       "    }\n",
       "\n",
       "    .dataframe tbody tr th {\n",
       "        vertical-align: top;\n",
       "    }\n",
       "\n",
       "    .dataframe thead th {\n",
       "        text-align: right;\n",
       "    }\n",
       "</style>\n",
       "<table border=\"1\" class=\"dataframe\">\n",
       "  <thead>\n",
       "    <tr style=\"text-align: right;\">\n",
       "      <th></th>\n",
       "      <th>gloss</th>\n",
       "      <th>video_id</th>\n",
       "      <th>xmin</th>\n",
       "      <th>ymin</th>\n",
       "      <th>xmax</th>\n",
       "      <th>ymax</th>\n",
       "      <th>fps</th>\n",
       "      <th>frame_end</th>\n",
       "      <th>frame_start</th>\n",
       "      <th>instance_id</th>\n",
       "      <th>signer_id</th>\n",
       "      <th>source</th>\n",
       "      <th>split</th>\n",
       "      <th>url</th>\n",
       "      <th>variation_id</th>\n",
       "    </tr>\n",
       "  </thead>\n",
       "  <tbody>\n",
       "    <tr>\n",
       "      <th>0</th>\n",
       "      <td>book</td>\n",
       "      <td>69241</td>\n",
       "      <td>385</td>\n",
       "      <td>37</td>\n",
       "      <td>885</td>\n",
       "      <td>720</td>\n",
       "      <td>25.0</td>\n",
       "      <td>-1</td>\n",
       "      <td>1</td>\n",
       "      <td>0</td>\n",
       "      <td>118</td>\n",
       "      <td>aslbrick</td>\n",
       "      <td>train</td>\n",
       "      <td>http://aslbricks.org/New/ASL-Videos/book.mp4</td>\n",
       "      <td>0</td>\n",
       "    </tr>\n",
       "    <tr>\n",
       "      <th>1</th>\n",
       "      <td>book</td>\n",
       "      <td>65225</td>\n",
       "      <td>190</td>\n",
       "      <td>25</td>\n",
       "      <td>489</td>\n",
       "      <td>370</td>\n",
       "      <td>25.0</td>\n",
       "      <td>-1</td>\n",
       "      <td>1</td>\n",
       "      <td>1</td>\n",
       "      <td>90</td>\n",
       "      <td>aslsignbank</td>\n",
       "      <td>train</td>\n",
       "      <td>https://aslsignbank.haskins.yale.edu/dictionar...</td>\n",
       "      <td>0</td>\n",
       "    </tr>\n",
       "    <tr>\n",
       "      <th>2</th>\n",
       "      <td>book</td>\n",
       "      <td>68011</td>\n",
       "      <td>262</td>\n",
       "      <td>1</td>\n",
       "      <td>652</td>\n",
       "      <td>480</td>\n",
       "      <td>25.0</td>\n",
       "      <td>-1</td>\n",
       "      <td>1</td>\n",
       "      <td>2</td>\n",
       "      <td>110</td>\n",
       "      <td>valencia-asl</td>\n",
       "      <td>train</td>\n",
       "      <td>https://www.youtube.com/watch?v=0UsjUE-TXns</td>\n",
       "      <td>0</td>\n",
       "    </tr>\n",
       "    <tr>\n",
       "      <th>3</th>\n",
       "      <td>book</td>\n",
       "      <td>68208</td>\n",
       "      <td>123</td>\n",
       "      <td>19</td>\n",
       "      <td>516</td>\n",
       "      <td>358</td>\n",
       "      <td>25.0</td>\n",
       "      <td>60</td>\n",
       "      <td>1</td>\n",
       "      <td>3</td>\n",
       "      <td>113</td>\n",
       "      <td>lillybauer</td>\n",
       "      <td>train</td>\n",
       "      <td>https://www.youtube.com/watch?v=1QOYOZ3g-aY</td>\n",
       "      <td>0</td>\n",
       "    </tr>\n",
       "    <tr>\n",
       "      <th>4</th>\n",
       "      <td>book</td>\n",
       "      <td>68012</td>\n",
       "      <td>95</td>\n",
       "      <td>0</td>\n",
       "      <td>1180</td>\n",
       "      <td>720</td>\n",
       "      <td>25.0</td>\n",
       "      <td>-1</td>\n",
       "      <td>1</td>\n",
       "      <td>4</td>\n",
       "      <td>109</td>\n",
       "      <td>valencia-asl</td>\n",
       "      <td>train</td>\n",
       "      <td>https://www.youtube.com/watch?v=aGtIHKEdCds</td>\n",
       "      <td>0</td>\n",
       "    </tr>\n",
       "  </tbody>\n",
       "</table>\n",
       "</div>"
      ],
      "text/plain": [
       "  gloss video_id  xmin  ymin  xmax  ymax   fps  frame_end  frame_start  \\\n",
       "0  book    69241   385    37   885   720  25.0         -1            1   \n",
       "1  book    65225   190    25   489   370  25.0         -1            1   \n",
       "2  book    68011   262     1   652   480  25.0         -1            1   \n",
       "3  book    68208   123    19   516   358  25.0         60            1   \n",
       "4  book    68012    95     0  1180   720  25.0         -1            1   \n",
       "\n",
       "   instance_id  signer_id        source  split  \\\n",
       "0            0        118      aslbrick  train   \n",
       "1            1         90   aslsignbank  train   \n",
       "2            2        110  valencia-asl  train   \n",
       "3            3        113    lillybauer  train   \n",
       "4            4        109  valencia-asl  train   \n",
       "\n",
       "                                                 url  variation_id  \n",
       "0       http://aslbricks.org/New/ASL-Videos/book.mp4             0  \n",
       "1  https://aslsignbank.haskins.yale.edu/dictionar...             0  \n",
       "2        https://www.youtube.com/watch?v=0UsjUE-TXns             0  \n",
       "3        https://www.youtube.com/watch?v=1QOYOZ3g-aY             0  \n",
       "4        https://www.youtube.com/watch?v=aGtIHKEdCds             0  "
      ]
     },
     "execution_count": 9,
     "metadata": {},
     "output_type": "execute_result"
    }
   ],
   "source": [
    "train_df.head()"
   ]
  },
  {
   "cell_type": "code",
   "execution_count": 10,
   "metadata": {},
   "outputs": [
    {
     "name": "stderr",
     "output_type": "stream",
     "text": [
      "100%|█████████████████████████████████████████████████████████████████████████████| 3397/3397 [00:11<00:00, 286.40it/s]\n",
      "100%|███████████████████████████████████████████████████████████████████████████████| 636/636 [00:02<00:00, 276.65it/s]\n"
     ]
    }
   ],
   "source": [
    "training_input=[]\n",
    "training_output=[]\n",
    "testing_output=[]\n",
    "testing_input=[]\n",
    "training_word=[]\n",
    "testing_word=[]\n",
    "\n",
    "for i in tqdm(range(train_df.shape[0])):\n",
    "    if train_df.iloc[i]['gloss'] in list(embedding_data.gloss) and train_df.iloc[i]['video_id'] in data.keys() :\n",
    "        training_input.append(data[train_df.iloc[i]['video_id']])\n",
    "        training_output.append(list(embedding_data[embedding_data['gloss']==train_df.iloc[i]['gloss']]))\n",
    "        training_word.append(train_df.iloc[i]['gloss'])\n",
    "\n",
    "for i in tqdm(range(test_df['video_id'].shape[0])):\n",
    "    if test_df.iloc[i]['gloss'] in list(embedding_data.gloss) and test_df.iloc[i]['video_id'] in data.keys():\n",
    "        testing_input.append(data[test_df.iloc[i]['video_id']])\n",
    "        testing_output.append(list(embedding_data[embedding_data['gloss']==test_df.iloc[i]['gloss']]))\n",
    "        testing_word.append(test_df.iloc[i]['gloss'])\n",
    "    \n",
    "training_input=np.asarray(training_input)\n",
    "testing_input=np.asarray(testing_input)\n",
    "training_output=np.asarray(training_output)\n",
    "testing_output=np.asarray(testing_output)"
   ]
  },
  {
   "cell_type": "code",
   "execution_count": 11,
   "metadata": {},
   "outputs": [
    {
     "data": {
      "text/plain": [
       "((2568,), (476,), (2568, 301), (476, 301))"
      ]
     },
     "execution_count": 11,
     "metadata": {},
     "output_type": "execute_result"
    }
   ],
   "source": [
    "training_input.shape,testing_input.shape,training_output.shape,testing_output.shape"
   ]
  },
  {
   "cell_type": "code",
   "execution_count": 12,
   "metadata": {},
   "outputs": [
    {
     "data": {
      "text/plain": [
       "(61, 320, 240)"
      ]
     },
     "execution_count": 12,
     "metadata": {},
     "output_type": "execute_result"
    }
   ],
   "source": [
    "training_input[0].shape"
   ]
  },
  {
   "cell_type": "code",
   "execution_count": 13,
   "metadata": {},
   "outputs": [
    {
     "data": {
      "text/plain": [
       "((285,), (278,))"
      ]
     },
     "execution_count": 13,
     "metadata": {},
     "output_type": "execute_result"
    }
   ],
   "source": [
    "np.unique(training_word).shape,np.unique(testing_word).shape"
   ]
  },
  {
   "cell_type": "code",
   "execution_count": 14,
   "metadata": {},
   "outputs": [],
   "source": [
    "for i in np.unique(testing_word):\n",
    "    if i not in np.unique(training_word):\n",
    "        print(i)"
   ]
  },
  {
   "cell_type": "code",
   "execution_count": 15,
   "metadata": {},
   "outputs": [
    {
     "name": "stdout",
     "output_type": "stream",
     "text": [
      "children\n",
      "clock\n",
      "divorce\n",
      "glasses\n",
      "leave\n",
      "medicine\n",
      "show\n"
     ]
    }
   ],
   "source": [
    "for i in np.unique(training_word):\n",
    "    if i not in np.unique(testing_word):\n",
    "        print(i)"
   ]
  },
  {
   "cell_type": "code",
   "execution_count": 17,
   "metadata": {},
   "outputs": [
    {
     "data": {
      "text/plain": [
       "(30, 320, 240)"
      ]
     },
     "execution_count": 17,
     "metadata": {},
     "output_type": "execute_result"
    }
   ],
   "source": [
    "training_input[1].shape"
   ]
  },
  {
   "cell_type": "code",
   "execution_count": null,
   "metadata": {},
   "outputs": [
    {
     "name": "stderr",
     "output_type": "stream",
     "text": [
      " 33%|██████████████████████████▍                                                    | 859/2568 [01:16<02:44, 10.39it/s]"
     ]
    }
   ],
   "source": [
    "training_input_3d=[]\n",
    "for i in tqdm(training_input):\n",
    "    data_3d=[]\n",
    "    for j in i:\n",
    "        data_3d.append(np.asarray([j,j,j]))\n",
    "    \n",
    "    training_input_3d.append(np.asarray(data_3d)) \n",
    "    "
   ]
  },
  {
   "cell_type": "code",
   "execution_count": 103,
   "metadata": {},
   "outputs": [],
   "source": []
  },
  {
   "cell_type": "code",
   "execution_count": 104,
   "metadata": {},
   "outputs": [
    {
     "name": "stdout",
     "output_type": "stream",
     "text": [
      "Model: \"sequential_21\"\n",
      "_________________________________________________________________\n",
      "Layer (type)                 Output Shape              Param #   \n",
      "=================================================================\n",
      "max_pooling2d_19 (MaxPooling (None, 64, 48, 1)         0         \n",
      "=================================================================\n",
      "Total params: 0\n",
      "Trainable params: 0\n",
      "Non-trainable params: 0\n",
      "_________________________________________________________________\n"
     ]
    }
   ],
   "source": [
    "max_pooler.summary()"
   ]
  },
  {
   "cell_type": "code",
   "execution_count": 89,
   "metadata": {},
   "outputs": [],
   "source": []
  },
  {
   "cell_type": "code",
   "execution_count": 92,
   "metadata": {},
   "outputs": [
    {
     "data": {
      "text/plain": [
       "(1, 159, 117, 1)"
      ]
     },
     "execution_count": 92,
     "metadata": {},
     "output_type": "execute_result"
    }
   ],
   "source": []
  },
  {
   "cell_type": "code",
   "execution_count": null,
   "metadata": {},
   "outputs": [],
   "source": []
  }
 ],
 "metadata": {
  "kernelspec": {
   "display_name": "Python 3",
   "language": "python",
   "name": "python3"
  },
  "language_info": {
   "codemirror_mode": {
    "name": "ipython",
    "version": 3
   },
   "file_extension": ".py",
   "mimetype": "text/x-python",
   "name": "python",
   "nbconvert_exporter": "python",
   "pygments_lexer": "ipython3",
   "version": "3.7.6"
  }
 },
 "nbformat": 4,
 "nbformat_minor": 4
}
