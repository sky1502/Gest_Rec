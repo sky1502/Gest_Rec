{
 "cells": [
  {
   "cell_type": "code",
   "execution_count": 37,
   "metadata": {},
   "outputs": [],
   "source": [
    "import numpy as np\n",
    "import pandas as pd\n",
    "import matplotlib.pyplot as plt\n",
    "import seaborn as sns\n",
    "import cv2 \n",
    "import os\n",
    "from tqdm import tqdm\n",
    "import json\n",
    "import time\n",
    "import random\n",
    "import pickle"
   ]
  },
  {
   "cell_type": "code",
   "execution_count": 68,
   "metadata": {},
   "outputs": [],
   "source": [
    "import keras"
   ]
  },
  {
   "cell_type": "code",
   "execution_count": 69,
   "metadata": {},
   "outputs": [],
   "source": [
    "\n",
    "from keras.models import Model, Sequential\n",
    "from keras.layers import Dense, Input,Flatten,BatchNormalization,Conv2D,MaxPooling2D,BatchNormalization\n",
    "from keras.layers.pooling import GlobalAveragePooling2D\n",
    "from keras.layers.recurrent import LSTM\n",
    "from keras.layers.wrappers import TimeDistributed\n",
    "\n",
    "model=Sequential()\n",
    "model.add(Input(shape=(None,128,96,1)))\n",
    "model.add(TimeDistributed(Conv2D(filters=128,kernel_size=(5,5),padding=\"valid\")))\n",
    "model.add(TimeDistributed(MaxPooling2D((3,3),strides=(2,2))))\n",
    "model.add(TimeDistributed(BatchNormalization()))\n",
    "model.add(TimeDistributed(Conv2D(filters=128,kernel_size=(5,5),padding=\"valid\")))\n",
    "model.add(TimeDistributed(MaxPooling2D((3,3),strides=(2,2))))\n",
    "model.add(TimeDistributed(BatchNormalization()))\n",
    "model.add(TimeDistributed(Conv2D(filters=64,kernel_size=(3,3),padding=\"same\")))\n",
    "model.add(TimeDistributed(MaxPooling2D((3,3),strides=(2,2))))\n",
    "model.add(TimeDistributed(BatchNormalization()))\n",
    "model.add(TimeDistributed(Conv2D(filters=32,kernel_size=(3,3),padding=\"same\")))\n",
    "model.add(TimeDistributed(MaxPooling2D((2,2))))\n",
    "model.add(TimeDistributed(BatchNormalization()))\n",
    "model.add(TimeDistributed(Flatten()))\n",
    "model.add(LSTM(512,activation=\"sigmoid\",return_sequences=True))\n",
    "model.add(LSTM(256,activation=\"sigmoid\",return_sequences=True))\n",
    "model.add(LSTM(128,activation=\"sigmoid\"))\n",
    "model.add(Dense(128,activation=\"sigmoid\"))\n",
    "model.add(Dense(50,activation=\"softmax\"))"
   ]
  },
  {
   "cell_type": "code",
   "execution_count": 72,
   "metadata": {},
   "outputs": [],
   "source": [
    "model.compile(loss=\"categorical_crossentropy\",\n",
    "              optimizer=keras.optimizers.Adam(learning_rate=0.01),\n",
    "              metrics=[\"accuracy\"]) "
   ]
  },
  {
   "cell_type": "code",
   "execution_count": 40,
   "metadata": {},
   "outputs": [
    {
     "name": "stdout",
     "output_type": "stream",
     "text": [
      "Model: \"sequential_1\"\n",
      "_________________________________________________________________\n",
      "Layer (type)                 Output Shape              Param #   \n",
      "=================================================================\n",
      "time_distributed_13 (TimeDis (None, None, 124, 92, 128 3328      \n",
      "_________________________________________________________________\n",
      "time_distributed_14 (TimeDis (None, None, 61, 45, 128) 0         \n",
      "_________________________________________________________________\n",
      "time_distributed_15 (TimeDis (None, None, 61, 45, 128) 512       \n",
      "_________________________________________________________________\n",
      "time_distributed_16 (TimeDis (None, None, 57, 41, 128) 409728    \n",
      "_________________________________________________________________\n",
      "time_distributed_17 (TimeDis (None, None, 28, 20, 128) 0         \n",
      "_________________________________________________________________\n",
      "time_distributed_18 (TimeDis (None, None, 28, 20, 128) 512       \n",
      "_________________________________________________________________\n",
      "time_distributed_19 (TimeDis (None, None, 28, 20, 64)  73792     \n",
      "_________________________________________________________________\n",
      "time_distributed_20 (TimeDis (None, None, 13, 9, 64)   0         \n",
      "_________________________________________________________________\n",
      "time_distributed_21 (TimeDis (None, None, 13, 9, 64)   256       \n",
      "_________________________________________________________________\n",
      "time_distributed_22 (TimeDis (None, None, 13, 9, 32)   18464     \n",
      "_________________________________________________________________\n",
      "time_distributed_23 (TimeDis (None, None, 6, 4, 32)    0         \n",
      "_________________________________________________________________\n",
      "time_distributed_24 (TimeDis (None, None, 6, 4, 32)    128       \n",
      "_________________________________________________________________\n",
      "time_distributed_25 (TimeDis (None, None, 768)         0         \n",
      "_________________________________________________________________\n",
      "lstm_3 (LSTM)                (None, None, 512)         2623488   \n",
      "_________________________________________________________________\n",
      "lstm_4 (LSTM)                (None, None, 256)         787456    \n",
      "_________________________________________________________________\n",
      "lstm_5 (LSTM)                (None, 128)               197120    \n",
      "_________________________________________________________________\n",
      "dense_2 (Dense)              (None, 128)               16512     \n",
      "_________________________________________________________________\n",
      "dense_3 (Dense)              (None, 50)                6450      \n",
      "=================================================================\n",
      "Total params: 4,137,746\n",
      "Trainable params: 4,137,042\n",
      "Non-trainable params: 704\n",
      "_________________________________________________________________\n"
     ]
    }
   ],
   "source": [
    "\n",
    "model.summary()"
   ]
  },
  {
   "cell_type": "code",
   "execution_count": null,
   "metadata": {},
   "outputs": [],
   "source": []
  },
  {
   "cell_type": "code",
   "execution_count": null,
   "metadata": {},
   "outputs": [],
   "source": []
  },
  {
   "cell_type": "code",
   "execution_count": 41,
   "metadata": {},
   "outputs": [],
   "source": [
    "ed=np.zeros((50,50))\n"
   ]
  },
  {
   "cell_type": "code",
   "execution_count": 42,
   "metadata": {},
   "outputs": [],
   "source": [
    "for i in range(ed.shape[0]):\n",
    "    ed[i][i]=1"
   ]
  },
  {
   "cell_type": "code",
   "execution_count": 43,
   "metadata": {},
   "outputs": [],
   "source": [
    "ed=pd.DataFrame(ed)"
   ]
  },
  {
   "cell_type": "code",
   "execution_count": null,
   "metadata": {},
   "outputs": [],
   "source": []
  },
  {
   "cell_type": "code",
   "execution_count": 44,
   "metadata": {},
   "outputs": [
    {
     "data": {
      "text/html": [
       "<div>\n",
       "<style scoped>\n",
       "    .dataframe tbody tr th:only-of-type {\n",
       "        vertical-align: middle;\n",
       "    }\n",
       "\n",
       "    .dataframe tbody tr th {\n",
       "        vertical-align: top;\n",
       "    }\n",
       "\n",
       "    .dataframe thead th {\n",
       "        text-align: right;\n",
       "    }\n",
       "</style>\n",
       "<table border=\"1\" class=\"dataframe\">\n",
       "  <thead>\n",
       "    <tr style=\"text-align: right;\">\n",
       "      <th></th>\n",
       "      <th>0</th>\n",
       "      <th>1</th>\n",
       "      <th>2</th>\n",
       "      <th>3</th>\n",
       "      <th>4</th>\n",
       "      <th>5</th>\n",
       "      <th>6</th>\n",
       "      <th>7</th>\n",
       "      <th>8</th>\n",
       "      <th>9</th>\n",
       "      <th>...</th>\n",
       "      <th>40</th>\n",
       "      <th>41</th>\n",
       "      <th>42</th>\n",
       "      <th>43</th>\n",
       "      <th>44</th>\n",
       "      <th>45</th>\n",
       "      <th>46</th>\n",
       "      <th>47</th>\n",
       "      <th>48</th>\n",
       "      <th>49</th>\n",
       "    </tr>\n",
       "  </thead>\n",
       "  <tbody>\n",
       "    <tr>\n",
       "      <th>0</th>\n",
       "      <td>1.0</td>\n",
       "      <td>0.0</td>\n",
       "      <td>0.0</td>\n",
       "      <td>0.0</td>\n",
       "      <td>0.0</td>\n",
       "      <td>0.0</td>\n",
       "      <td>0.0</td>\n",
       "      <td>0.0</td>\n",
       "      <td>0.0</td>\n",
       "      <td>0.0</td>\n",
       "      <td>...</td>\n",
       "      <td>0.0</td>\n",
       "      <td>0.0</td>\n",
       "      <td>0.0</td>\n",
       "      <td>0.0</td>\n",
       "      <td>0.0</td>\n",
       "      <td>0.0</td>\n",
       "      <td>0.0</td>\n",
       "      <td>0.0</td>\n",
       "      <td>0.0</td>\n",
       "      <td>0.0</td>\n",
       "    </tr>\n",
       "    <tr>\n",
       "      <th>1</th>\n",
       "      <td>0.0</td>\n",
       "      <td>1.0</td>\n",
       "      <td>0.0</td>\n",
       "      <td>0.0</td>\n",
       "      <td>0.0</td>\n",
       "      <td>0.0</td>\n",
       "      <td>0.0</td>\n",
       "      <td>0.0</td>\n",
       "      <td>0.0</td>\n",
       "      <td>0.0</td>\n",
       "      <td>...</td>\n",
       "      <td>0.0</td>\n",
       "      <td>0.0</td>\n",
       "      <td>0.0</td>\n",
       "      <td>0.0</td>\n",
       "      <td>0.0</td>\n",
       "      <td>0.0</td>\n",
       "      <td>0.0</td>\n",
       "      <td>0.0</td>\n",
       "      <td>0.0</td>\n",
       "      <td>0.0</td>\n",
       "    </tr>\n",
       "    <tr>\n",
       "      <th>2</th>\n",
       "      <td>0.0</td>\n",
       "      <td>0.0</td>\n",
       "      <td>1.0</td>\n",
       "      <td>0.0</td>\n",
       "      <td>0.0</td>\n",
       "      <td>0.0</td>\n",
       "      <td>0.0</td>\n",
       "      <td>0.0</td>\n",
       "      <td>0.0</td>\n",
       "      <td>0.0</td>\n",
       "      <td>...</td>\n",
       "      <td>0.0</td>\n",
       "      <td>0.0</td>\n",
       "      <td>0.0</td>\n",
       "      <td>0.0</td>\n",
       "      <td>0.0</td>\n",
       "      <td>0.0</td>\n",
       "      <td>0.0</td>\n",
       "      <td>0.0</td>\n",
       "      <td>0.0</td>\n",
       "      <td>0.0</td>\n",
       "    </tr>\n",
       "    <tr>\n",
       "      <th>3</th>\n",
       "      <td>0.0</td>\n",
       "      <td>0.0</td>\n",
       "      <td>0.0</td>\n",
       "      <td>1.0</td>\n",
       "      <td>0.0</td>\n",
       "      <td>0.0</td>\n",
       "      <td>0.0</td>\n",
       "      <td>0.0</td>\n",
       "      <td>0.0</td>\n",
       "      <td>0.0</td>\n",
       "      <td>...</td>\n",
       "      <td>0.0</td>\n",
       "      <td>0.0</td>\n",
       "      <td>0.0</td>\n",
       "      <td>0.0</td>\n",
       "      <td>0.0</td>\n",
       "      <td>0.0</td>\n",
       "      <td>0.0</td>\n",
       "      <td>0.0</td>\n",
       "      <td>0.0</td>\n",
       "      <td>0.0</td>\n",
       "    </tr>\n",
       "    <tr>\n",
       "      <th>4</th>\n",
       "      <td>0.0</td>\n",
       "      <td>0.0</td>\n",
       "      <td>0.0</td>\n",
       "      <td>0.0</td>\n",
       "      <td>1.0</td>\n",
       "      <td>0.0</td>\n",
       "      <td>0.0</td>\n",
       "      <td>0.0</td>\n",
       "      <td>0.0</td>\n",
       "      <td>0.0</td>\n",
       "      <td>...</td>\n",
       "      <td>0.0</td>\n",
       "      <td>0.0</td>\n",
       "      <td>0.0</td>\n",
       "      <td>0.0</td>\n",
       "      <td>0.0</td>\n",
       "      <td>0.0</td>\n",
       "      <td>0.0</td>\n",
       "      <td>0.0</td>\n",
       "      <td>0.0</td>\n",
       "      <td>0.0</td>\n",
       "    </tr>\n",
       "  </tbody>\n",
       "</table>\n",
       "<p>5 rows × 50 columns</p>\n",
       "</div>"
      ],
      "text/plain": [
       "    0    1    2    3    4    5    6    7    8    9   ...   40   41   42   43  \\\n",
       "0  1.0  0.0  0.0  0.0  0.0  0.0  0.0  0.0  0.0  0.0  ...  0.0  0.0  0.0  0.0   \n",
       "1  0.0  1.0  0.0  0.0  0.0  0.0  0.0  0.0  0.0  0.0  ...  0.0  0.0  0.0  0.0   \n",
       "2  0.0  0.0  1.0  0.0  0.0  0.0  0.0  0.0  0.0  0.0  ...  0.0  0.0  0.0  0.0   \n",
       "3  0.0  0.0  0.0  1.0  0.0  0.0  0.0  0.0  0.0  0.0  ...  0.0  0.0  0.0  0.0   \n",
       "4  0.0  0.0  0.0  0.0  1.0  0.0  0.0  0.0  0.0  0.0  ...  0.0  0.0  0.0  0.0   \n",
       "\n",
       "    44   45   46   47   48   49  \n",
       "0  0.0  0.0  0.0  0.0  0.0  0.0  \n",
       "1  0.0  0.0  0.0  0.0  0.0  0.0  \n",
       "2  0.0  0.0  0.0  0.0  0.0  0.0  \n",
       "3  0.0  0.0  0.0  0.0  0.0  0.0  \n",
       "4  0.0  0.0  0.0  0.0  0.0  0.0  \n",
       "\n",
       "[5 rows x 50 columns]"
      ]
     },
     "execution_count": 44,
     "metadata": {},
     "output_type": "execute_result"
    }
   ],
   "source": [
    "ed.head()"
   ]
  },
  {
   "cell_type": "code",
   "execution_count": 45,
   "metadata": {},
   "outputs": [
    {
     "data": {
      "text/html": [
       "<div>\n",
       "<style scoped>\n",
       "    .dataframe tbody tr th:only-of-type {\n",
       "        vertical-align: middle;\n",
       "    }\n",
       "\n",
       "    .dataframe tbody tr th {\n",
       "        vertical-align: top;\n",
       "    }\n",
       "\n",
       "    .dataframe thead th {\n",
       "        text-align: right;\n",
       "    }\n",
       "</style>\n",
       "<table border=\"1\" class=\"dataframe\">\n",
       "  <thead>\n",
       "    <tr style=\"text-align: right;\">\n",
       "      <th></th>\n",
       "      <th>gloss</th>\n",
       "      <th>video_id</th>\n",
       "      <th>xmin</th>\n",
       "      <th>ymin</th>\n",
       "      <th>xmax</th>\n",
       "      <th>ymax</th>\n",
       "      <th>fps</th>\n",
       "      <th>frame_end</th>\n",
       "      <th>frame_start</th>\n",
       "      <th>instance_id</th>\n",
       "      <th>signer_id</th>\n",
       "      <th>source</th>\n",
       "      <th>split</th>\n",
       "      <th>url</th>\n",
       "      <th>variation_id</th>\n",
       "    </tr>\n",
       "  </thead>\n",
       "  <tbody>\n",
       "    <tr>\n",
       "      <th>0</th>\n",
       "      <td>book</td>\n",
       "      <td>69241</td>\n",
       "      <td>385</td>\n",
       "      <td>37</td>\n",
       "      <td>885</td>\n",
       "      <td>720</td>\n",
       "      <td>25.0</td>\n",
       "      <td>-1</td>\n",
       "      <td>1</td>\n",
       "      <td>0</td>\n",
       "      <td>118</td>\n",
       "      <td>aslbrick</td>\n",
       "      <td>train</td>\n",
       "      <td>http://aslbricks.org/New/ASL-Videos/book.mp4</td>\n",
       "      <td>0</td>\n",
       "    </tr>\n",
       "    <tr>\n",
       "      <th>1</th>\n",
       "      <td>book</td>\n",
       "      <td>65225</td>\n",
       "      <td>190</td>\n",
       "      <td>25</td>\n",
       "      <td>489</td>\n",
       "      <td>370</td>\n",
       "      <td>25.0</td>\n",
       "      <td>-1</td>\n",
       "      <td>1</td>\n",
       "      <td>1</td>\n",
       "      <td>90</td>\n",
       "      <td>aslsignbank</td>\n",
       "      <td>train</td>\n",
       "      <td>https://aslsignbank.haskins.yale.edu/dictionar...</td>\n",
       "      <td>0</td>\n",
       "    </tr>\n",
       "    <tr>\n",
       "      <th>2</th>\n",
       "      <td>book</td>\n",
       "      <td>68011</td>\n",
       "      <td>262</td>\n",
       "      <td>1</td>\n",
       "      <td>652</td>\n",
       "      <td>480</td>\n",
       "      <td>25.0</td>\n",
       "      <td>-1</td>\n",
       "      <td>1</td>\n",
       "      <td>2</td>\n",
       "      <td>110</td>\n",
       "      <td>valencia-asl</td>\n",
       "      <td>train</td>\n",
       "      <td>https://www.youtube.com/watch?v=0UsjUE-TXns</td>\n",
       "      <td>0</td>\n",
       "    </tr>\n",
       "    <tr>\n",
       "      <th>3</th>\n",
       "      <td>book</td>\n",
       "      <td>68208</td>\n",
       "      <td>123</td>\n",
       "      <td>19</td>\n",
       "      <td>516</td>\n",
       "      <td>358</td>\n",
       "      <td>25.0</td>\n",
       "      <td>60</td>\n",
       "      <td>1</td>\n",
       "      <td>3</td>\n",
       "      <td>113</td>\n",
       "      <td>lillybauer</td>\n",
       "      <td>train</td>\n",
       "      <td>https://www.youtube.com/watch?v=1QOYOZ3g-aY</td>\n",
       "      <td>0</td>\n",
       "    </tr>\n",
       "    <tr>\n",
       "      <th>4</th>\n",
       "      <td>book</td>\n",
       "      <td>68012</td>\n",
       "      <td>95</td>\n",
       "      <td>0</td>\n",
       "      <td>1180</td>\n",
       "      <td>720</td>\n",
       "      <td>25.0</td>\n",
       "      <td>-1</td>\n",
       "      <td>1</td>\n",
       "      <td>4</td>\n",
       "      <td>109</td>\n",
       "      <td>valencia-asl</td>\n",
       "      <td>train</td>\n",
       "      <td>https://www.youtube.com/watch?v=aGtIHKEdCds</td>\n",
       "      <td>0</td>\n",
       "    </tr>\n",
       "  </tbody>\n",
       "</table>\n",
       "</div>"
      ],
      "text/plain": [
       "  gloss  video_id  xmin  ymin  xmax  ymax   fps  frame_end  frame_start  \\\n",
       "0  book     69241   385    37   885   720  25.0         -1            1   \n",
       "1  book     65225   190    25   489   370  25.0         -1            1   \n",
       "2  book     68011   262     1   652   480  25.0         -1            1   \n",
       "3  book     68208   123    19   516   358  25.0         60            1   \n",
       "4  book     68012    95     0  1180   720  25.0         -1            1   \n",
       "\n",
       "   instance_id  signer_id        source  split  \\\n",
       "0            0        118      aslbrick  train   \n",
       "1            1         90   aslsignbank  train   \n",
       "2            2        110  valencia-asl  train   \n",
       "3            3        113    lillybauer  train   \n",
       "4            4        109  valencia-asl  train   \n",
       "\n",
       "                                                 url  variation_id  \n",
       "0       http://aslbricks.org/New/ASL-Videos/book.mp4             0  \n",
       "1  https://aslsignbank.haskins.yale.edu/dictionar...             0  \n",
       "2        https://www.youtube.com/watch?v=0UsjUE-TXns             0  \n",
       "3        https://www.youtube.com/watch?v=1QOYOZ3g-aY             0  \n",
       "4        https://www.youtube.com/watch?v=aGtIHKEdCds             0  "
      ]
     },
     "execution_count": 45,
     "metadata": {},
     "output_type": "execute_result"
    }
   ],
   "source": [
    "df=pd.read_csv(\"E:\\capstone\\code\\WLASL-master\\WLASL-master\\start_kit\\data.csv\")\n",
    "df.head()"
   ]
  },
  {
   "cell_type": "code",
   "execution_count": 46,
   "metadata": {},
   "outputs": [],
   "source": [
    "words=df.gloss.unique()"
   ]
  },
  {
   "cell_type": "code",
   "execution_count": 47,
   "metadata": {},
   "outputs": [
    {
     "data": {
      "text/plain": [
       "2000"
      ]
     },
     "execution_count": 47,
     "metadata": {},
     "output_type": "execute_result"
    }
   ],
   "source": [
    "len(words)"
   ]
  },
  {
   "cell_type": "code",
   "execution_count": 48,
   "metadata": {},
   "outputs": [],
   "source": [
    "ed['gloss']=words[:50]"
   ]
  },
  {
   "cell_type": "code",
   "execution_count": 49,
   "metadata": {},
   "outputs": [
    {
     "data": {
      "text/html": [
       "<div>\n",
       "<style scoped>\n",
       "    .dataframe tbody tr th:only-of-type {\n",
       "        vertical-align: middle;\n",
       "    }\n",
       "\n",
       "    .dataframe tbody tr th {\n",
       "        vertical-align: top;\n",
       "    }\n",
       "\n",
       "    .dataframe thead th {\n",
       "        text-align: right;\n",
       "    }\n",
       "</style>\n",
       "<table border=\"1\" class=\"dataframe\">\n",
       "  <thead>\n",
       "    <tr style=\"text-align: right;\">\n",
       "      <th></th>\n",
       "      <th>0</th>\n",
       "      <th>1</th>\n",
       "      <th>2</th>\n",
       "      <th>3</th>\n",
       "      <th>4</th>\n",
       "      <th>5</th>\n",
       "      <th>6</th>\n",
       "      <th>7</th>\n",
       "      <th>8</th>\n",
       "      <th>9</th>\n",
       "      <th>...</th>\n",
       "      <th>41</th>\n",
       "      <th>42</th>\n",
       "      <th>43</th>\n",
       "      <th>44</th>\n",
       "      <th>45</th>\n",
       "      <th>46</th>\n",
       "      <th>47</th>\n",
       "      <th>48</th>\n",
       "      <th>49</th>\n",
       "      <th>gloss</th>\n",
       "    </tr>\n",
       "  </thead>\n",
       "  <tbody>\n",
       "    <tr>\n",
       "      <th>0</th>\n",
       "      <td>1.0</td>\n",
       "      <td>0.0</td>\n",
       "      <td>0.0</td>\n",
       "      <td>0.0</td>\n",
       "      <td>0.0</td>\n",
       "      <td>0.0</td>\n",
       "      <td>0.0</td>\n",
       "      <td>0.0</td>\n",
       "      <td>0.0</td>\n",
       "      <td>0.0</td>\n",
       "      <td>...</td>\n",
       "      <td>0.0</td>\n",
       "      <td>0.0</td>\n",
       "      <td>0.0</td>\n",
       "      <td>0.0</td>\n",
       "      <td>0.0</td>\n",
       "      <td>0.0</td>\n",
       "      <td>0.0</td>\n",
       "      <td>0.0</td>\n",
       "      <td>0.0</td>\n",
       "      <td>book</td>\n",
       "    </tr>\n",
       "    <tr>\n",
       "      <th>1</th>\n",
       "      <td>0.0</td>\n",
       "      <td>1.0</td>\n",
       "      <td>0.0</td>\n",
       "      <td>0.0</td>\n",
       "      <td>0.0</td>\n",
       "      <td>0.0</td>\n",
       "      <td>0.0</td>\n",
       "      <td>0.0</td>\n",
       "      <td>0.0</td>\n",
       "      <td>0.0</td>\n",
       "      <td>...</td>\n",
       "      <td>0.0</td>\n",
       "      <td>0.0</td>\n",
       "      <td>0.0</td>\n",
       "      <td>0.0</td>\n",
       "      <td>0.0</td>\n",
       "      <td>0.0</td>\n",
       "      <td>0.0</td>\n",
       "      <td>0.0</td>\n",
       "      <td>0.0</td>\n",
       "      <td>drink</td>\n",
       "    </tr>\n",
       "    <tr>\n",
       "      <th>2</th>\n",
       "      <td>0.0</td>\n",
       "      <td>0.0</td>\n",
       "      <td>1.0</td>\n",
       "      <td>0.0</td>\n",
       "      <td>0.0</td>\n",
       "      <td>0.0</td>\n",
       "      <td>0.0</td>\n",
       "      <td>0.0</td>\n",
       "      <td>0.0</td>\n",
       "      <td>0.0</td>\n",
       "      <td>...</td>\n",
       "      <td>0.0</td>\n",
       "      <td>0.0</td>\n",
       "      <td>0.0</td>\n",
       "      <td>0.0</td>\n",
       "      <td>0.0</td>\n",
       "      <td>0.0</td>\n",
       "      <td>0.0</td>\n",
       "      <td>0.0</td>\n",
       "      <td>0.0</td>\n",
       "      <td>computer</td>\n",
       "    </tr>\n",
       "    <tr>\n",
       "      <th>3</th>\n",
       "      <td>0.0</td>\n",
       "      <td>0.0</td>\n",
       "      <td>0.0</td>\n",
       "      <td>1.0</td>\n",
       "      <td>0.0</td>\n",
       "      <td>0.0</td>\n",
       "      <td>0.0</td>\n",
       "      <td>0.0</td>\n",
       "      <td>0.0</td>\n",
       "      <td>0.0</td>\n",
       "      <td>...</td>\n",
       "      <td>0.0</td>\n",
       "      <td>0.0</td>\n",
       "      <td>0.0</td>\n",
       "      <td>0.0</td>\n",
       "      <td>0.0</td>\n",
       "      <td>0.0</td>\n",
       "      <td>0.0</td>\n",
       "      <td>0.0</td>\n",
       "      <td>0.0</td>\n",
       "      <td>before</td>\n",
       "    </tr>\n",
       "    <tr>\n",
       "      <th>4</th>\n",
       "      <td>0.0</td>\n",
       "      <td>0.0</td>\n",
       "      <td>0.0</td>\n",
       "      <td>0.0</td>\n",
       "      <td>1.0</td>\n",
       "      <td>0.0</td>\n",
       "      <td>0.0</td>\n",
       "      <td>0.0</td>\n",
       "      <td>0.0</td>\n",
       "      <td>0.0</td>\n",
       "      <td>...</td>\n",
       "      <td>0.0</td>\n",
       "      <td>0.0</td>\n",
       "      <td>0.0</td>\n",
       "      <td>0.0</td>\n",
       "      <td>0.0</td>\n",
       "      <td>0.0</td>\n",
       "      <td>0.0</td>\n",
       "      <td>0.0</td>\n",
       "      <td>0.0</td>\n",
       "      <td>chair</td>\n",
       "    </tr>\n",
       "  </tbody>\n",
       "</table>\n",
       "<p>5 rows × 51 columns</p>\n",
       "</div>"
      ],
      "text/plain": [
       "     0    1    2    3    4    5    6    7    8    9  ...   41   42   43   44  \\\n",
       "0  1.0  0.0  0.0  0.0  0.0  0.0  0.0  0.0  0.0  0.0  ...  0.0  0.0  0.0  0.0   \n",
       "1  0.0  1.0  0.0  0.0  0.0  0.0  0.0  0.0  0.0  0.0  ...  0.0  0.0  0.0  0.0   \n",
       "2  0.0  0.0  1.0  0.0  0.0  0.0  0.0  0.0  0.0  0.0  ...  0.0  0.0  0.0  0.0   \n",
       "3  0.0  0.0  0.0  1.0  0.0  0.0  0.0  0.0  0.0  0.0  ...  0.0  0.0  0.0  0.0   \n",
       "4  0.0  0.0  0.0  0.0  1.0  0.0  0.0  0.0  0.0  0.0  ...  0.0  0.0  0.0  0.0   \n",
       "\n",
       "    45   46   47   48   49     gloss  \n",
       "0  0.0  0.0  0.0  0.0  0.0      book  \n",
       "1  0.0  0.0  0.0  0.0  0.0     drink  \n",
       "2  0.0  0.0  0.0  0.0  0.0  computer  \n",
       "3  0.0  0.0  0.0  0.0  0.0    before  \n",
       "4  0.0  0.0  0.0  0.0  0.0     chair  \n",
       "\n",
       "[5 rows x 51 columns]"
      ]
     },
     "execution_count": 49,
     "metadata": {},
     "output_type": "execute_result"
    }
   ],
   "source": [
    "ed.head()"
   ]
  },
  {
   "cell_type": "code",
   "execution_count": 52,
   "metadata": {},
   "outputs": [
    {
     "name": "stderr",
     "output_type": "stream",
     "text": [
      "100%|██████████████████████████████████████████████████████████████████████████████████| 50/50 [31:38<00:00, 37.97s/it]\n"
     ]
    }
   ],
   "source": [
    "x_train=[]\n",
    "x_test=[]\n",
    "x_val=[]\n",
    "y_train=[]\n",
    "y_test=[]\n",
    "y_val=[]\n",
    "y_words_train=[]\n",
    "y_words_test=[]\n",
    "y_words_val=[]\n",
    "K=5\n",
    "attempts=10\n",
    "\n",
    "\n",
    "for word in tqdm(words[:50]): \n",
    "\n",
    "    for split in os.listdir(r'E:\\capstone\\code\\WLASL-master\\WLASL-master\\start_kit\\preprocessed_vid_by_word_48_64 16.09.58\\{}'.format(word)):\n",
    "        if split==\".DS_Store\" or split=='._.DS_Store':\n",
    "            continue\n",
    "        try:\n",
    "            for v in os.listdir(r'E:\\capstone\\code\\WLASL-master\\WLASL-master\\start_kit\\preprocessed_vid_by_word_48_64 16.09.58\\{}\\{}'.format(word,split)):\n",
    "                y_ind=ed[ed['gloss']==word].values[:,:-1].reshape((1,50))\n",
    "            \n",
    "                x_ind=np.load(r'E:\\capstone\\code\\WLASL-master\\WLASL-master\\start_kit\\preprocessed_vid_by_word_48_64 16.09.58\\{}\\{}\\{}'.format(word,split,v))\n",
    "                image_seg=[]\n",
    "                start=x_ind.shape[0]*.2\n",
    "                end=x_ind.shape[0]*.8\n",
    "                frame_no=0\n",
    "                for frame1 in x_ind:\n",
    "                        frame_no=frame_no+1\n",
    "                        if(frame_no<=start or frame_no>=end):\n",
    "                            continue\n",
    "                        frame=cv2.cvtColor(frame1, cv2.COLOR_BGR2RGB)\n",
    "                        vectorized = frame.reshape((-1,3))\n",
    "                        vectorized = np.float32(vectorized)\n",
    "                        criteria = (cv2.TERM_CRITERIA_EPS + cv2.TERM_CRITERIA_MAX_ITER, 10, 1.0)\n",
    "                        ret,label,center=cv2.kmeans(vectorized,K,None,criteria,attempts,cv2.KMEANS_PP_CENTERS)\n",
    "                        center = np.uint8(center)\n",
    "                        res = center[label.flatten()]\n",
    "                        result_image = res.reshape((frame.shape))\n",
    "                        result_image=cv2.cvtColor(result_image, cv2.COLOR_BGR2GRAY)\n",
    "                        image_seg.append(result_image.reshape((128, 96,1)))\n",
    "                image_seg=np.asarray(image_seg)\n",
    "                if(split==\"train\"):\n",
    "                    \n",
    "                    x_train.append(image_seg)\n",
    "                    y_train.append(y_ind)\n",
    "                    y_words_train.append(word)\n",
    "                elif(split==\"test\"):\n",
    "                    x_test.append(image_seg)\n",
    "                    y_test.append(y_ind)\n",
    "                    y_words_test.append(word)\n",
    "                else:\n",
    "                    x_val.append(image_seg)\n",
    "                    y_val.append(y_ind)\n",
    "                    y_words_val.append(word)\n",
    "                \n",
    "        except Exception as e:\n",
    "            print(\"Error:\" ,e ,\"file\",i)\n",
    "        "
   ]
  },
  {
   "cell_type": "code",
   "execution_count": 57,
   "metadata": {},
   "outputs": [
    {
     "data": {
      "image/png": "[encoded data removed]",
      "text/plain": [
       "<Figure size 1800x1800 with 25 Axes>"
      ]
     },
     "metadata": {
      "needs_background": "light"
     },
     "output_type": "display_data"
    }
   ],
   "source": [
    "plt.figure(figsize=(25,25))\n",
    "for i in range(min(25,x_train[50].shape[0])):\n",
    "    plt.subplot(5,5,i+1)\n",
    "    plt.imshow(x_train[50][i].reshape((128,96)),cmap=\"gray\")\n"
   ]
  },
  {
   "cell_type": "code",
   "execution_count": null,
   "metadata": {},
   "outputs": [],
   "source": []
  },
  {
   "cell_type": "code",
   "execution_count": null,
   "metadata": {},
   "outputs": [],
   "source": []
  },
  {
   "cell_type": "code",
   "execution_count": 58,
   "metadata": {},
   "outputs": [
    {
     "data": {
      "text/plain": [
       "(675, 675, 132, 132, 158, 158)"
      ]
     },
     "execution_count": 58,
     "metadata": {},
     "output_type": "execute_result"
    }
   ],
   "source": [
    "len(x_train),len(y_train),len(x_test),len(y_test),len(x_val),len(y_val)"
   ]
  },
  {
   "cell_type": "code",
   "execution_count": 59,
   "metadata": {},
   "outputs": [],
   "source": [
    "x_train=np.array(x_train)\n",
    "x_test=np.array(x_test)\n",
    "x_val=np.array(x_val)\n",
    "y_train=np.array(y_train)\n",
    "y_test=np.array(y_test)\n",
    "y_val=np.array(y_val)"
   ]
  },
  {
   "cell_type": "code",
   "execution_count": 60,
   "metadata": {},
   "outputs": [],
   "source": [
    "x_train=x_train/255\n",
    "x_test=x_test/255\n",
    "x_val=x_val/255"
   ]
  },
  {
   "cell_type": "code",
   "execution_count": 74,
   "metadata": {},
   "outputs": [],
   "source": [
    "from sklearn.utils import shuffle\n",
    "x_train, y_train,y_words_train = shuffle(x_train, y_train,y_words_train,random_state=0)"
   ]
  },
  {
   "cell_type": "code",
   "execution_count": 77,
   "metadata": {},
   "outputs": [],
   "source": [
    "temp=[]\n",
    "for i in x_train:\n",
    "    temp.append(i.shape[0])"
   ]
  },
  {
   "cell_type": "code",
   "execution_count": 81,
   "metadata": {},
   "outputs": [],
   "source": [
    "temp=pd.DataFrame(temp)"
   ]
  },
  {
   "cell_type": "code",
   "execution_count": 88,
   "metadata": {},
   "outputs": [
    {
     "data": {
      "text/plain": [
       "RangeIndex(start=0, stop=1, step=1)"
      ]
     },
     "execution_count": 88,
     "metadata": {},
     "output_type": "execute_result"
    }
   ],
   "source": [
    "temp.columns"
   ]
  },
  {
   "cell_type": "code",
   "execution_count": 116,
   "metadata": {},
   "outputs": [
    {
     "data": {
      "text/plain": [
       "array([[<matplotlib.axes._subplots.AxesSubplot object at 0x000001C681A75AC8>]],\n",
       "      dtype=object)"
      ]
     },
     "execution_count": 116,
     "metadata": {},
     "output_type": "execute_result"
    },
    {
     "data": {
      "image/png": "[encoded data removed]",
      "text/plain": [
       "<Figure size 432x288 with 1 Axes>"
      ]
     },
     "metadata": {
      "needs_background": "light"
     },
     "output_type": "display_data"
    }
   ],
   "source": [
    "temp.hist(bins=50)"
   ]
  },
  {
   "cell_type": "code",
   "execution_count": 128,
   "metadata": {},
   "outputs": [
    {
     "data": {
      "text/plain": [
       "173"
      ]
     },
     "execution_count": 128,
     "metadata": {},
     "output_type": "execute_result"
    }
   ],
   "source": [
    "c=0\n",
    "for i in temp.groupby([0]).size():\n",
    "    if i<10:\n",
    "        c=c+i\n",
    "c"
   ]
  },
  {
   "cell_type": "code",
   "execution_count": 76,
   "metadata": {},
   "outputs": [
    {
     "name": "stderr",
     "output_type": "stream",
     "text": [
      "\r",
      "  0%|                                                                                          | 0/674 [00:00<?, ?it/s]"
     ]
    },
    {
     "name": "stdout",
     "output_type": "stream",
     "text": [
      "epoch 0\n",
      "1/1 [==============================] - 0s 2ms/step - loss: 5.6293 - accuracy: 0.0000e+00\n"
     ]
    },
    {
     "name": "stderr",
     "output_type": "stream",
     "text": [
      "\r",
      "  0%|                                                                                  | 1/674 [00:04<54:04,  4.82s/it]"
     ]
    },
    {
     "name": "stdout",
     "output_type": "stream",
     "text": [
      "prev : drink now : drink word : cousin\n",
      "1/1 [==============================] - 0s 3ms/step - loss: 5.8921 - accuracy: 0.0000e+00\n"
     ]
    },
    {
     "name": "stderr",
     "output_type": "stream",
     "text": [
      "\r",
      "  0%|▏                                                                                 | 2/674 [00:09<53:48,  4.80s/it]"
     ]
    },
    {
     "name": "stdout",
     "output_type": "stream",
     "text": [
      "prev : drink now : drink word : study\n",
      "1/1 [==============================] - 0s 2ms/step - loss: 6.2575 - accuracy: 0.0000e+00\n"
     ]
    },
    {
     "name": "stderr",
     "output_type": "stream",
     "text": [
      "\r",
      "  0%|▎                                                                               | 3/674 [00:17<1:03:23,  5.67s/it]"
     ]
    },
    {
     "name": "stdout",
     "output_type": "stream",
     "text": [
      "prev : mother now : mother word : hot\n",
      "1/1 [==============================] - 0s 2ms/step - loss: 7.3182 - accuracy: 0.0000e+00\n"
     ]
    },
    {
     "name": "stderr",
     "output_type": "stream",
     "text": [
      "\r",
      "  1%|▍                                                                               | 4/674 [00:23<1:03:30,  5.69s/it]"
     ]
    },
    {
     "name": "stdout",
     "output_type": "stream",
     "text": [
      "prev : mother now : mother word : can\n",
      "1/1 [==============================] - 0s 4ms/step - loss: 6.5382 - accuracy: 0.0000e+00\n"
     ]
    },
    {
     "name": "stderr",
     "output_type": "stream",
     "text": [
      "\r",
      "  1%|▌                                                                                 | 5/674 [00:26<55:48,  5.00s/it]"
     ]
    },
    {
     "name": "stdout",
     "output_type": "stream",
     "text": [
      "prev : mother now : mother word : later\n",
      "1/1 [==============================] - 0s 2ms/step - loss: 6.7155 - accuracy: 0.0000e+00\n"
     ]
    },
    {
     "name": "stderr",
     "output_type": "stream",
     "text": [
      "\r",
      "  1%|▋                                                                                 | 6/674 [00:31<55:21,  4.97s/it]"
     ]
    },
    {
     "name": "stdout",
     "output_type": "stream",
     "text": [
      "prev : mother now : mother word : deaf\n",
      "1/1 [==============================] - 0s 2ms/step - loss: 5.4023 - accuracy: 0.0000e+00\n"
     ]
    },
    {
     "name": "stderr",
     "output_type": "stream",
     "text": [
      "\r",
      "  1%|▊                                                                                 | 7/674 [00:37<58:55,  5.30s/it]"
     ]
    },
    {
     "name": "stdout",
     "output_type": "stream",
     "text": [
      "prev : no now : no word : what\n",
      "1/1 [==============================] - 0s 3ms/step - loss: 7.2697 - accuracy: 0.0000e+00\n"
     ]
    },
    {
     "name": "stderr",
     "output_type": "stream",
     "text": [
      "\r",
      "  1%|▉                                                                                 | 8/674 [00:40<51:48,  4.67s/it]"
     ]
    },
    {
     "name": "stdout",
     "output_type": "stream",
     "text": [
      "prev : no now : no word : man\n",
      "1/1 [==============================] - 0s 2ms/step - loss: 6.9429 - accuracy: 0.0000e+00\n"
     ]
    },
    {
     "name": "stderr",
     "output_type": "stream",
     "text": [
      "\r",
      "  1%|█                                                                                 | 9/674 [00:46<54:46,  4.94s/it]"
     ]
    },
    {
     "name": "stdout",
     "output_type": "stream",
     "text": [
      "prev : no now : no word : book\n",
      "1/1 [==============================] - 0s 3ms/step - loss: 7.4327 - accuracy: 0.0000e+00\n"
     ]
    },
    {
     "name": "stderr",
     "output_type": "stream",
     "text": [
      "\r",
      "  1%|█▏                                                                               | 10/674 [00:49<49:24,  4.46s/it]"
     ]
    },
    {
     "name": "stdout",
     "output_type": "stream",
     "text": [
      "prev : no now : no word : walk\n",
      "1/1 [==============================] - 0s 3ms/step - loss: 3.7174 - accuracy: 0.0000e+00\n"
     ]
    },
    {
     "name": "stderr",
     "output_type": "stream",
     "text": [
      "\r",
      "  2%|█▎                                                                               | 11/674 [00:53<48:26,  4.38s/it]"
     ]
    },
    {
     "name": "stdout",
     "output_type": "stream",
     "text": [
      "prev : no now : no word : later\n",
      "1/1 [==============================] - 0s 3ms/step - loss: 1.7015 - accuracy: 1.0000\n"
     ]
    },
    {
     "name": "stderr",
     "output_type": "stream",
     "text": [
      "\r",
      "  2%|█▍                                                                               | 12/674 [00:58<51:00,  4.62s/it]"
     ]
    },
    {
     "name": "stdout",
     "output_type": "stream",
     "text": [
      "prev : no now : no word : no\n",
      "1/1 [==============================] - 0s 3ms/step - loss: 5.9526 - accuracy: 0.0000e+00\n"
     ]
    },
    {
     "name": "stderr",
     "output_type": "stream",
     "text": [
      "\r",
      "  2%|█▌                                                                               | 13/674 [01:02<47:22,  4.30s/it]"
     ]
    },
    {
     "name": "stdout",
     "output_type": "stream",
     "text": [
      "prev : no now : no word : hat\n",
      "1/1 [==============================] - 0s 2ms/step - loss: 6.9371 - accuracy: 0.0000e+00\n"
     ]
    },
    {
     "name": "stderr",
     "output_type": "stream",
     "text": [
      "\r",
      "  2%|█▋                                                                               | 14/674 [01:07<48:54,  4.45s/it]"
     ]
    },
    {
     "name": "stdout",
     "output_type": "stream",
     "text": [
      "prev : no now : no word : computer\n",
      "1/1 [==============================] - 0s 3ms/step - loss: 6.9797 - accuracy: 0.0000e+00\n"
     ]
    },
    {
     "name": "stderr",
     "output_type": "stream",
     "text": [
      "\r",
      "  2%|█▊                                                                             | 15/674 [01:16<1:04:35,  5.88s/it]"
     ]
    },
    {
     "name": "stdout",
     "output_type": "stream",
     "text": [
      "prev : no now : no word : hearing\n",
      "1/1 [==============================] - 0s 4ms/step - loss: 5.3599 - accuracy: 0.0000e+00\n"
     ]
    },
    {
     "name": "stderr",
     "output_type": "stream",
     "text": [
      "\r",
      "  2%|█▉                                                                             | 16/674 [01:23<1:07:13,  6.13s/it]"
     ]
    },
    {
     "name": "stdout",
     "output_type": "stream",
     "text": [
      "prev : no now : no word : white\n",
      "1/1 [==============================] - 0s 2ms/step - loss: 5.5666 - accuracy: 0.0000e+00\n"
     ]
    },
    {
     "name": "stderr",
     "output_type": "stream",
     "text": [
      "\r",
      "  3%|█▉                                                                             | 17/674 [01:27<1:01:26,  5.61s/it]"
     ]
    },
    {
     "name": "stdout",
     "output_type": "stream",
     "text": [
      "prev : no now : no word : black\n",
      "1/1 [==============================] - 0s 3ms/step - loss: 5.8768 - accuracy: 0.0000e+00\n"
     ]
    },
    {
     "name": "stderr",
     "output_type": "stream",
     "text": [
      "\r",
      "  3%|██                                                                             | 18/674 [01:34<1:04:28,  5.90s/it]"
     ]
    },
    {
     "name": "stdout",
     "output_type": "stream",
     "text": [
      "prev : no now : no word : dog\n",
      "1/1 [==============================] - 0s 3ms/step - loss: 5.8593 - accuracy: 0.0000e+00\n"
     ]
    },
    {
     "name": "stderr",
     "output_type": "stream",
     "text": [
      "\r",
      "  3%|██▎                                                                              | 19/674 [01:37<54:38,  5.01s/it]"
     ]
    },
    {
     "name": "stdout",
     "output_type": "stream",
     "text": [
      "prev : later now : later word : kiss\n",
      "1/1 [==============================] - 0s 2ms/step - loss: 5.1641 - accuracy: 0.0000e+00\n"
     ]
    },
    {
     "name": "stderr",
     "output_type": "stream",
     "text": [
      "\r",
      "  3%|██▍                                                                              | 20/674 [01:42<54:46,  5.03s/it]"
     ]
    },
    {
     "name": "stdout",
     "output_type": "stream",
     "text": [
      "prev : later now : later word : year\n",
      "1/1 [==============================] - 0s 3ms/step - loss: 3.5130 - accuracy: 0.0000e+00\n"
     ]
    },
    {
     "name": "stderr",
     "output_type": "stream",
     "text": [
      "\r",
      "  3%|██▌                                                                              | 21/674 [01:47<55:02,  5.06s/it]"
     ]
    },
    {
     "name": "stdout",
     "output_type": "stream",
     "text": [
      "prev : later now : later word : walk\n",
      "1/1 [==============================] - 0s 2ms/step - loss: 5.5568 - accuracy: 0.0000e+00\n"
     ]
    },
    {
     "name": "stderr",
     "output_type": "stream",
     "text": [
      "\r",
      "  3%|██▋                                                                              | 22/674 [01:52<56:00,  5.15s/it]"
     ]
    },
    {
     "name": "stdout",
     "output_type": "stream",
     "text": [
      "prev : later now : later word : candy\n",
      "1/1 [==============================] - 0s 3ms/step - loss: 4.5999 - accuracy: 0.0000e+00\n"
     ]
    },
    {
     "name": "stderr",
     "output_type": "stream",
     "text": [
      "\r",
      "  3%|██▊                                                                              | 23/674 [01:56<53:16,  4.91s/it]"
     ]
    },
    {
     "name": "stdout",
     "output_type": "stream",
     "text": [
      "prev : later now : later word : yes\n",
      "1/1 [==============================] - 0s 3ms/step - loss: 4.6117 - accuracy: 0.0000e+00\n"
     ]
    },
    {
     "name": "stderr",
     "output_type": "stream",
     "text": [
      "\r",
      "  4%|██▉                                                                              | 24/674 [02:00<49:17,  4.55s/it]"
     ]
    },
    {
     "name": "stdout",
     "output_type": "stream",
     "text": [
      "prev : later now : later word : graduate\n",
      "1/1 [==============================] - 0s 3ms/step - loss: 4.1850 - accuracy: 0.0000e+00\n"
     ]
    },
    {
     "name": "stderr",
     "output_type": "stream",
     "text": [
      "\r",
      "  4%|███                                                                              | 25/674 [02:02<40:24,  3.74s/it]"
     ]
    },
    {
     "name": "stdout",
     "output_type": "stream",
     "text": [
      "prev : later now : later word : yes\n",
      "1/1 [==============================] - 0s 2ms/step - loss: 3.1932 - accuracy: 0.0000e+00\n"
     ]
    },
    {
     "name": "stderr",
     "output_type": "stream",
     "text": [
      "\r",
      "  4%|███                                                                              | 26/674 [02:06<39:51,  3.69s/it]"
     ]
    },
    {
     "name": "stdout",
     "output_type": "stream",
     "text": [
      "prev : later now : later word : can\n",
      "1/1 [==============================] - 0s 3ms/step - loss: 3.8982 - accuracy: 0.0000e+00\n"
     ]
    },
    {
     "name": "stderr",
     "output_type": "stream",
     "text": [
      "\r",
      "  4%|███▏                                                                             | 27/674 [02:09<39:39,  3.68s/it]"
     ]
    },
    {
     "name": "stdout",
     "output_type": "stream",
     "text": [
      "prev : later now : later word : yes\n",
      "1/1 [==============================] - 0s 3ms/step - loss: 3.2153 - accuracy: 0.0000e+00\n"
     ]
    },
    {
     "name": "stderr",
     "output_type": "stream",
     "text": [
      "\r",
      "  4%|███▎                                                                             | 28/674 [02:13<40:55,  3.80s/it]"
     ]
    },
    {
     "name": "stdout",
     "output_type": "stream",
     "text": [
      "prev : later now : later word : no\n",
      "1/1 [==============================] - 0s 2ms/step - loss: 4.2095 - accuracy: 0.0000e+00\n"
     ]
    },
    {
     "name": "stderr",
     "output_type": "stream",
     "text": [
      "\r",
      "  4%|███▍                                                                             | 29/674 [02:20<50:30,  4.70s/it]"
     ]
    },
    {
     "name": "stdout",
     "output_type": "stream",
     "text": [
      "prev : later now : later word : like\n",
      "1/1 [==============================] - 0s 2ms/step - loss: 4.0859 - accuracy: 0.0000e+00\n"
     ]
    },
    {
     "name": "stderr",
     "output_type": "stream",
     "text": [
      "\r",
      "  4%|███▌                                                                             | 30/674 [02:28<59:41,  5.56s/it]"
     ]
    },
    {
     "name": "stdout",
     "output_type": "stream",
     "text": [
      "prev : no now : no word : candy\n",
      "1/1 [==============================] - 0s 2ms/step - loss: 3.4321 - accuracy: 0.0000e+00\n"
     ]
    },
    {
     "name": "stderr",
     "output_type": "stream",
     "text": [
      "\r",
      "  5%|███▋                                                                           | 31/674 [02:34<1:02:23,  5.82s/it]"
     ]
    },
    {
     "name": "stdout",
     "output_type": "stream",
     "text": [
      "prev : no now : no word : study\n",
      "1/1 [==============================] - 0s 2ms/step - loss: 4.6190 - accuracy: 0.0000e+00\n"
     ]
    },
    {
     "name": "stderr",
     "output_type": "stream",
     "text": [
      "\r",
      "  5%|███▊                                                                             | 32/674 [02:38<55:26,  5.18s/it]"
     ]
    },
    {
     "name": "stdout",
     "output_type": "stream",
     "text": [
      "prev : walk now : walk word : woman\n",
      "1/1 [==============================] - 0s 3ms/step - loss: 3.6511 - accuracy: 0.0000e+00\n"
     ]
    },
    {
     "name": "stderr",
     "output_type": "stream",
     "text": [
      "\r",
      "  5%|███▉                                                                             | 33/674 [02:43<56:46,  5.31s/it]"
     ]
    },
    {
     "name": "stdout",
     "output_type": "stream",
     "text": [
      "prev : walk now : walk word : year\n",
      "1/1 [==============================] - 0s 3ms/step - loss: 4.6492 - accuracy: 0.0000e+00\n"
     ]
    },
    {
     "name": "stderr",
     "output_type": "stream",
     "text": [
      "\r",
      "  5%|████                                                                             | 34/674 [02:47<51:32,  4.83s/it]"
     ]
    },
    {
     "name": "stdout",
     "output_type": "stream",
     "text": [
      "prev : walk now : walk word : blue\n",
      "1/1 [==============================] - 0s 2ms/step - loss: 3.5735 - accuracy: 0.0000e+00\n"
     ]
    },
    {
     "name": "stderr",
     "output_type": "stream",
     "text": [
      "\r",
      "  5%|████▏                                                                            | 35/674 [02:54<57:14,  5.38s/it]"
     ]
    },
    {
     "name": "stdout",
     "output_type": "stream",
     "text": [
      "prev : walk now : walk word : book\n",
      "1/1 [==============================] - 0s 2ms/step - loss: 3.5646 - accuracy: 0.0000e+00\n"
     ]
    },
    {
     "name": "stderr",
     "output_type": "stream",
     "text": [
      "\r",
      "  5%|████▎                                                                            | 36/674 [02:59<57:17,  5.39s/it]"
     ]
    },
    {
     "name": "stdout",
     "output_type": "stream",
     "text": [
      "prev : walk now : walk word : book\n",
      "1/1 [==============================] - 0s 4ms/step - loss: 3.8281 - accuracy: 0.0000e+00\n"
     ]
    },
    {
     "name": "stderr",
     "output_type": "stream",
     "text": [
      "\r",
      "  5%|████▍                                                                            | 37/674 [03:05<58:07,  5.47s/it]"
     ]
    },
    {
     "name": "stdout",
     "output_type": "stream",
     "text": [
      "prev : walk now : walk word : drink\n",
      "1/1 [==============================] - 0s 3ms/step - loss: 4.2131 - accuracy: 0.0000e+00\n"
     ]
    },
    {
     "name": "stderr",
     "output_type": "stream",
     "text": [
      "\r",
      "  6%|████▌                                                                            | 38/674 [03:10<56:13,  5.30s/it]"
     ]
    },
    {
     "name": "stdout",
     "output_type": "stream",
     "text": [
      "prev : walk now : walk word : woman\n",
      "1/1 [==============================] - 0s 3ms/step - loss: 3.6083 - accuracy: 0.0000e+00\n"
     ]
    },
    {
     "name": "stderr",
     "output_type": "stream",
     "text": [
      "\r",
      "  6%|████▋                                                                            | 39/674 [03:16<58:37,  5.54s/it]"
     ]
    },
    {
     "name": "stdout",
     "output_type": "stream",
     "text": [
      "prev : walk now : walk word : cousin\n",
      "1/1 [==============================] - 0s 3ms/step - loss: 3.7341 - accuracy: 0.0000e+00\n"
     ]
    },
    {
     "name": "stderr",
     "output_type": "stream",
     "text": [
      "\r",
      "  6%|████▊                                                                            | 40/674 [03:21<57:21,  5.43s/it]"
     ]
    },
    {
     "name": "stdout",
     "output_type": "stream",
     "text": [
      "prev : walk now : walk word : candy\n",
      "1/1 [==============================] - 0s 3ms/step - loss: 4.2214 - accuracy: 0.0000e+00\n"
     ]
    },
    {
     "name": "stderr",
     "output_type": "stream",
     "text": [
      "\r",
      "  6%|████▉                                                                            | 41/674 [03:24<50:41,  4.81s/it]"
     ]
    },
    {
     "name": "stdout",
     "output_type": "stream",
     "text": [
      "prev : walk now : walk word : blue\n",
      "1/1 [==============================] - 0s 3ms/step - loss: 3.6774 - accuracy: 0.0000e+00\n"
     ]
    },
    {
     "name": "stderr",
     "output_type": "stream",
     "text": [
      "\r",
      "  6%|█████                                                                            | 42/674 [03:28<46:32,  4.42s/it]"
     ]
    },
    {
     "name": "stdout",
     "output_type": "stream",
     "text": [
      "prev : walk now : walk word : candy\n",
      "1/1 [==============================] - 0s 3ms/step - loss: 4.1176 - accuracy: 0.0000e+00\n"
     ]
    },
    {
     "name": "stderr",
     "output_type": "stream",
     "text": [
      "\r",
      "  6%|█████▏                                                                           | 43/674 [03:31<40:49,  3.88s/it]"
     ]
    },
    {
     "name": "stdout",
     "output_type": "stream",
     "text": [
      "prev : walk now : walk word : blue\n",
      "1/1 [==============================] - 0s 3ms/step - loss: 4.3867 - accuracy: 0.0000e+00\n"
     ]
    },
    {
     "name": "stderr",
     "output_type": "stream",
     "text": [
      "\r",
      "  7%|█████▎                                                                           | 44/674 [03:36<45:29,  4.33s/it]"
     ]
    },
    {
     "name": "stdout",
     "output_type": "stream",
     "text": [
      "prev : walk now : walk word : bowling\n",
      "1/1 [==============================] - 0s 2ms/step - loss: 3.4823 - accuracy: 0.0000e+00\n"
     ]
    },
    {
     "name": "stderr",
     "output_type": "stream",
     "text": [
      "\r",
      "  7%|█████▍                                                                           | 45/674 [03:42<49:38,  4.74s/it]"
     ]
    },
    {
     "name": "stdout",
     "output_type": "stream",
     "text": [
      "prev : walk now : walk word : deaf\n",
      "1/1 [==============================] - 0s 3ms/step - loss: 4.8237 - accuracy: 0.0000e+00\n"
     ]
    },
    {
     "name": "stderr",
     "output_type": "stream",
     "text": [
      "\r",
      "  7%|█████▌                                                                           | 46/674 [03:46<48:44,  4.66s/it]"
     ]
    },
    {
     "name": "stdout",
     "output_type": "stream",
     "text": [
      "prev : walk now : walk word : orange\n",
      "1/1 [==============================] - 0s 3ms/step - loss: 3.9283 - accuracy: 0.0000e+00\n"
     ]
    },
    {
     "name": "stderr",
     "output_type": "stream",
     "text": [
      "\r",
      "  7%|█████▋                                                                           | 47/674 [03:51<49:30,  4.74s/it]"
     ]
    },
    {
     "name": "stdout",
     "output_type": "stream",
     "text": [
      "prev : walk now : walk word : blue\n",
      "1/1 [==============================] - 0s 3ms/step - loss: 4.6529 - accuracy: 0.0000e+00\n"
     ]
    },
    {
     "name": "stderr",
     "output_type": "stream",
     "text": [
      "\r",
      "  7%|█████▊                                                                           | 48/674 [03:55<47:33,  4.56s/it]"
     ]
    },
    {
     "name": "stdout",
     "output_type": "stream",
     "text": [
      "prev : can now : can word : tall\n",
      "1/1 [==============================] - 0s 2ms/step - loss: 3.4351 - accuracy: 0.0000e+00\n"
     ]
    },
    {
     "name": "stderr",
     "output_type": "stream",
     "text": [
      "\r",
      "  7%|█████▉                                                                           | 49/674 [03:59<45:37,  4.38s/it]"
     ]
    },
    {
     "name": "stdout",
     "output_type": "stream",
     "text": [
      "prev : walk now : walk word : walk\n",
      "1/1 [==============================] - 0s 3ms/step - loss: 4.6783 - accuracy: 0.0000e+00\n"
     ]
    },
    {
     "name": "stderr",
     "output_type": "stream",
     "text": [
      "\r",
      "  7%|██████                                                                           | 50/674 [04:03<44:18,  4.26s/it]"
     ]
    },
    {
     "name": "stdout",
     "output_type": "stream",
     "text": [
      "prev : walk now : walk word : bed\n",
      "1/1 [==============================] - 0s 2ms/step - loss: 3.5517 - accuracy: 0.0000e+00\n"
     ]
    },
    {
     "name": "stderr",
     "output_type": "stream",
     "text": [
      "\r",
      "  8%|██████▏                                                                          | 51/674 [04:06<38:47,  3.74s/it]"
     ]
    },
    {
     "name": "stdout",
     "output_type": "stream",
     "text": [
      "prev : walk now : walk word : hat\n",
      "1/1 [==============================] - 0s 3ms/step - loss: 4.4935 - accuracy: 0.0000e+00\n"
     ]
    },
    {
     "name": "stderr",
     "output_type": "stream",
     "text": [
      "\r",
      "  8%|██████▏                                                                          | 52/674 [04:09<36:43,  3.54s/it]"
     ]
    },
    {
     "name": "stdout",
     "output_type": "stream",
     "text": [
      "prev : walk now : walk word : thin\n",
      "1/1 [==============================] - 0s 2ms/step - loss: 3.5216 - accuracy: 0.0000e+00\n"
     ]
    },
    {
     "name": "stderr",
     "output_type": "stream",
     "text": [
      "\r",
      "  8%|██████▎                                                                          | 53/674 [04:11<33:43,  3.26s/it]"
     ]
    },
    {
     "name": "stdout",
     "output_type": "stream",
     "text": [
      "prev : walk now : walk word : deaf\n",
      "1/1 [==============================] - 0s 999us/step - loss: 4.4959 - accuracy: 0.0000e+00\n"
     ]
    },
    {
     "name": "stderr",
     "output_type": "stream",
     "text": [
      "\r",
      "  8%|██████▍                                                                          | 54/674 [04:18<44:33,  4.31s/it]"
     ]
    },
    {
     "name": "stdout",
     "output_type": "stream",
     "text": [
      "prev : walk now : walk word : before\n",
      "1/1 [==============================] - 0s 2ms/step - loss: 4.4504 - accuracy: 0.0000e+00\n"
     ]
    },
    {
     "name": "stderr",
     "output_type": "stream",
     "text": [
      "\r",
      "  8%|██████▌                                                                          | 55/674 [04:22<42:33,  4.13s/it]"
     ]
    },
    {
     "name": "stdout",
     "output_type": "stream",
     "text": [
      "prev : walk now : walk word : before\n",
      "1/1 [==============================] - 0s 2ms/step - loss: 3.5537 - accuracy: 0.0000e+00\n"
     ]
    },
    {
     "name": "stderr",
     "output_type": "stream",
     "text": [
      "\r",
      "  8%|██████▋                                                                          | 56/674 [04:27<45:54,  4.46s/it]"
     ]
    },
    {
     "name": "stdout",
     "output_type": "stream",
     "text": [
      "prev : walk now : walk word : yes\n",
      "1/1 [==============================] - 0s 3ms/step - loss: 3.5424 - accuracy: 0.0000e+00\n"
     ]
    },
    {
     "name": "stderr",
     "output_type": "stream",
     "text": [
      "\r",
      "  8%|██████▊                                                                          | 57/674 [04:33<51:12,  4.98s/it]"
     ]
    },
    {
     "name": "stdout",
     "output_type": "stream",
     "text": [
      "prev : walk now : walk word : deaf\n",
      "1/1 [==============================] - 0s 3ms/step - loss: 3.7038 - accuracy: 0.0000e+00\n"
     ]
    },
    {
     "name": "stderr",
     "output_type": "stream",
     "text": [
      "\r",
      "  9%|██████▉                                                                          | 58/674 [04:38<49:38,  4.84s/it]"
     ]
    },
    {
     "name": "stdout",
     "output_type": "stream",
     "text": [
      "prev : walk now : walk word : dog\n",
      "1/1 [==============================] - 0s 4ms/step - loss: 3.7102 - accuracy: 0.0000e+00\n"
     ]
    },
    {
     "name": "stderr",
     "output_type": "stream",
     "text": [
      "\r",
      "  9%|███████                                                                          | 59/674 [04:42<49:19,  4.81s/it]"
     ]
    },
    {
     "name": "stdout",
     "output_type": "stream",
     "text": [
      "prev : deaf now : deaf word : graduate\n",
      "1/1 [==============================] - 0s 3ms/step - loss: 4.4715 - accuracy: 0.0000e+00\n"
     ]
    },
    {
     "name": "stderr",
     "output_type": "stream",
     "text": [
      "\r",
      "  9%|███████▏                                                                         | 60/674 [04:46<43:58,  4.30s/it]"
     ]
    },
    {
     "name": "stdout",
     "output_type": "stream",
     "text": [
      "prev : deaf now : deaf word : who\n",
      "1/1 [==============================] - 0s 3ms/step - loss: 3.5231 - accuracy: 1.0000\n"
     ]
    },
    {
     "name": "stderr",
     "output_type": "stream",
     "text": [
      "\r",
      "  9%|███████▎                                                                         | 61/674 [04:48<36:52,  3.61s/it]"
     ]
    },
    {
     "name": "stdout",
     "output_type": "stream",
     "text": [
      "prev : deaf now : deaf word : deaf\n",
      "1/1 [==============================] - 0s 4ms/step - loss: 3.8259 - accuracy: 0.0000e+00\n"
     ]
    },
    {
     "name": "stderr",
     "output_type": "stream",
     "text": [
      "\r",
      "  9%|███████▍                                                                         | 62/674 [04:51<37:48,  3.71s/it]"
     ]
    },
    {
     "name": "stdout",
     "output_type": "stream",
     "text": [
      "prev : deaf now : deaf word : woman\n",
      "1/1 [==============================] - 0s 3ms/step - loss: 4.1971 - accuracy: 0.0000e+00\n"
     ]
    },
    {
     "name": "stderr",
     "output_type": "stream",
     "text": [
      "\r",
      "  9%|███████▌                                                                         | 63/674 [04:55<35:46,  3.51s/it]"
     ]
    },
    {
     "name": "stdout",
     "output_type": "stream",
     "text": [
      "prev : deaf now : deaf word : orange\n",
      "1/1 [==============================] - 0s 3ms/step - loss: 3.6625 - accuracy: 0.0000e+00\n"
     ]
    },
    {
     "name": "stderr",
     "output_type": "stream",
     "text": [
      "\r",
      "  9%|███████▋                                                                         | 64/674 [04:57<33:25,  3.29s/it]"
     ]
    },
    {
     "name": "stdout",
     "output_type": "stream",
     "text": [
      "prev : deaf now : deaf word : drink\n",
      "1/1 [==============================] - 0s 2ms/step - loss: 4.5953 - accuracy: 0.0000e+00\n"
     ]
    },
    {
     "name": "stderr",
     "output_type": "stream",
     "text": [
      "\r",
      " 10%|███████▊                                                                         | 65/674 [05:01<35:06,  3.46s/it]"
     ]
    },
    {
     "name": "stdout",
     "output_type": "stream",
     "text": [
      "prev : deaf now : deaf word : go\n",
      "1/1 [==============================] - 0s 4ms/step - loss: 4.1818 - accuracy: 0.0000e+00\n"
     ]
    },
    {
     "name": "stderr",
     "output_type": "stream",
     "text": [
      "\r",
      " 10%|███████▉                                                                         | 66/674 [05:07<41:36,  4.11s/it]"
     ]
    },
    {
     "name": "stdout",
     "output_type": "stream",
     "text": [
      "prev : deaf now : deaf word : thin\n",
      "1/1 [==============================] - 0s 3ms/step - loss: 3.7577 - accuracy: 0.0000e+00\n"
     ]
    },
    {
     "name": "stderr",
     "output_type": "stream",
     "text": [
      "\r",
      " 10%|████████                                                                         | 67/674 [05:11<42:56,  4.24s/it]"
     ]
    },
    {
     "name": "stdout",
     "output_type": "stream",
     "text": [
      "prev : deaf now : deaf word : like\n",
      "1/1 [==============================] - 0s 2ms/step - loss: 4.4842 - accuracy: 0.0000e+00\n"
     ]
    },
    {
     "name": "stderr",
     "output_type": "stream",
     "text": [
      "\r",
      " 10%|████████▏                                                                        | 68/674 [05:18<49:18,  4.88s/it]"
     ]
    },
    {
     "name": "stdout",
     "output_type": "stream",
     "text": [
      "prev : deaf now : deaf word : shirt\n",
      "1/1 [==============================] - 0s 3ms/step - loss: 4.5333 - accuracy: 0.0000e+00\n"
     ]
    },
    {
     "name": "stderr",
     "output_type": "stream",
     "text": [
      "\r",
      " 10%|████████▎                                                                        | 69/674 [05:23<49:30,  4.91s/it]"
     ]
    },
    {
     "name": "stdout",
     "output_type": "stream",
     "text": [
      "prev : deaf now : deaf word : cool\n",
      "1/1 [==============================] - 0s 3ms/step - loss: 3.6791 - accuracy: 0.0000e+00\n"
     ]
    },
    {
     "name": "stderr",
     "output_type": "stream",
     "text": [
      "\r",
      " 10%|████████▍                                                                        | 70/674 [05:28<52:08,  5.18s/it]"
     ]
    },
    {
     "name": "stdout",
     "output_type": "stream",
     "text": [
      "prev : deaf now : deaf word : white\n",
      "1/1 [==============================] - 0s 3ms/step - loss: 3.7495 - accuracy: 0.0000e+00\n"
     ]
    },
    {
     "name": "stderr",
     "output_type": "stream",
     "text": [
      "\r",
      " 11%|████████▌                                                                        | 71/674 [05:35<55:53,  5.56s/it]"
     ]
    },
    {
     "name": "stdout",
     "output_type": "stream",
     "text": [
      "prev : deaf now : deaf word : kiss\n",
      "1/1 [==============================] - 0s 2ms/step - loss: 3.6173 - accuracy: 0.0000e+00\n"
     ]
    },
    {
     "name": "stderr",
     "output_type": "stream",
     "text": [
      "\r",
      " 11%|████████▋                                                                        | 72/674 [05:39<50:55,  5.08s/it]"
     ]
    },
    {
     "name": "stdout",
     "output_type": "stream",
     "text": [
      "prev : deaf now : deaf word : candy\n",
      "1/1 [==============================] - 0s 4ms/step - loss: 4.2501 - accuracy: 0.0000e+00\n"
     ]
    },
    {
     "name": "stderr",
     "output_type": "stream",
     "text": [
      "\r",
      " 11%|████████▊                                                                        | 73/674 [05:41<42:41,  4.26s/it]"
     ]
    },
    {
     "name": "stdout",
     "output_type": "stream",
     "text": [
      "prev : deaf now : deaf word : finish\n",
      "1/1 [==============================] - 0s 3ms/step - loss: 3.5071 - accuracy: 1.0000\n"
     ]
    },
    {
     "name": "stderr",
     "output_type": "stream",
     "text": [
      "\r",
      " 11%|████████▉                                                                        | 74/674 [05:45<39:47,  3.98s/it]"
     ]
    },
    {
     "name": "stdout",
     "output_type": "stream",
     "text": [
      "prev : deaf now : deaf word : deaf\n",
      "1/1 [==============================] - 0s 2ms/step - loss: 3.7229 - accuracy: 0.0000e+00\n"
     ]
    },
    {
     "name": "stderr",
     "output_type": "stream",
     "text": [
      "\r",
      " 11%|█████████                                                                        | 75/674 [05:48<36:56,  3.70s/it]"
     ]
    },
    {
     "name": "stdout",
     "output_type": "stream",
     "text": [
      "prev : deaf now : deaf word : hearing\n",
      "1/1 [==============================] - 0s 3ms/step - loss: 4.6157 - accuracy: 0.0000e+00\n"
     ]
    },
    {
     "name": "stderr",
     "output_type": "stream",
     "text": [
      "\r",
      " 11%|█████████▏                                                                       | 76/674 [05:54<45:03,  4.52s/it]"
     ]
    },
    {
     "name": "stdout",
     "output_type": "stream",
     "text": [
      "prev : deaf now : deaf word : fine\n",
      "1/1 [==============================] - 0s 4ms/step - loss: 4.2083 - accuracy: 0.0000e+00\n"
     ]
    },
    {
     "name": "stderr",
     "output_type": "stream",
     "text": [
      "\r",
      " 11%|█████████▎                                                                       | 77/674 [05:57<40:49,  4.10s/it]"
     ]
    },
    {
     "name": "stdout",
     "output_type": "stream",
     "text": [
      "prev : deaf now : deaf word : finish\n",
      "1/1 [==============================] - 0s 3ms/step - loss: 3.5796 - accuracy: 0.0000e+00\n"
     ]
    },
    {
     "name": "stderr",
     "output_type": "stream",
     "text": [
      "\r",
      " 12%|█████████▎                                                                       | 78/674 [06:03<44:25,  4.47s/it]"
     ]
    },
    {
     "name": "stdout",
     "output_type": "stream",
     "text": [
      "prev : deaf now : deaf word : walk\n",
      "1/1 [==============================] - 0s 4ms/step - loss: 3.9559 - accuracy: 0.0000e+00\n"
     ]
    },
    {
     "name": "stderr",
     "output_type": "stream",
     "text": [
      "\r",
      " 12%|█████████▍                                                                       | 79/674 [06:06<41:00,  4.14s/it]"
     ]
    },
    {
     "name": "stdout",
     "output_type": "stream",
     "text": [
      "prev : deaf now : deaf word : bowling\n",
      "1/1 [==============================] - 0s 3ms/step - loss: 3.7252 - accuracy: 0.0000e+00\n"
     ]
    },
    {
     "name": "stderr",
     "output_type": "stream",
     "text": [
      "\r",
      " 12%|█████████▌                                                                       | 80/674 [06:11<44:40,  4.51s/it]"
     ]
    },
    {
     "name": "stdout",
     "output_type": "stream",
     "text": [
      "prev : deaf now : deaf word : computer\n",
      "1/1 [==============================] - 0s 3ms/step - loss: 4.5355 - accuracy: 0.0000e+00\n"
     ]
    },
    {
     "name": "stderr",
     "output_type": "stream",
     "text": [
      "\r",
      " 12%|█████████▋                                                                       | 81/674 [06:17<48:44,  4.93s/it]"
     ]
    },
    {
     "name": "stdout",
     "output_type": "stream",
     "text": [
      "prev : deaf now : deaf word : clothes\n",
      "1/1 [==============================] - 0s 2ms/step - loss: 3.7180 - accuracy: 0.0000e+00\n"
     ]
    },
    {
     "name": "stderr",
     "output_type": "stream",
     "text": [
      "\r",
      " 12%|█████████▊                                                                       | 82/674 [06:22<48:16,  4.89s/it]"
     ]
    },
    {
     "name": "stdout",
     "output_type": "stream",
     "text": [
      "prev : deaf now : deaf word : hot\n",
      "1/1 [==============================] - 0s 2ms/step - loss: 3.9281 - accuracy: 0.0000e+00\n"
     ]
    },
    {
     "name": "stderr",
     "output_type": "stream",
     "text": [
      "\r",
      " 12%|█████████▉                                                                       | 83/674 [06:28<51:15,  5.20s/it]"
     ]
    },
    {
     "name": "stdout",
     "output_type": "stream",
     "text": [
      "prev : deaf now : deaf word : bowling\n",
      "1/1 [==============================] - 0s 3ms/step - loss: 3.7683 - accuracy: 0.0000e+00\n"
     ]
    },
    {
     "name": "stderr",
     "output_type": "stream",
     "text": [
      "\r",
      " 12%|██████████                                                                       | 84/674 [06:32<47:10,  4.80s/it]"
     ]
    },
    {
     "name": "stdout",
     "output_type": "stream",
     "text": [
      "prev : deaf now : deaf word : woman\n",
      "1/1 [==============================] - 0s 2ms/step - loss: 3.6974 - accuracy: 0.0000e+00\n"
     ]
    },
    {
     "name": "stderr",
     "output_type": "stream",
     "text": [
      "\r",
      " 13%|██████████▏                                                                      | 85/674 [06:36<45:46,  4.66s/it]"
     ]
    },
    {
     "name": "stdout",
     "output_type": "stream",
     "text": [
      "prev : deaf now : deaf word : kiss\n",
      "1/1 [==============================] - 0s 3ms/step - loss: 3.7101 - accuracy: 0.0000e+00\n"
     ]
    },
    {
     "name": "stderr",
     "output_type": "stream",
     "text": [
      "\r",
      " 13%|██████████▎                                                                      | 86/674 [06:43<51:23,  5.24s/it]"
     ]
    },
    {
     "name": "stdout",
     "output_type": "stream",
     "text": [
      "prev : deaf now : deaf word : like\n",
      "1/1 [==============================] - 0s 2ms/step - loss: 3.6546 - accuracy: 0.0000e+00\n"
     ]
    },
    {
     "name": "stderr",
     "output_type": "stream",
     "text": [
      "\r",
      " 13%|██████████▍                                                                      | 87/674 [06:46<45:43,  4.67s/it]"
     ]
    },
    {
     "name": "stdout",
     "output_type": "stream",
     "text": [
      "prev : deaf now : deaf word : later\n",
      "1/1 [==============================] - 0s 4ms/step - loss: 3.6791 - accuracy: 0.0000e+00\n"
     ]
    },
    {
     "name": "stderr",
     "output_type": "stream",
     "text": [
      "\r",
      " 13%|██████████▌                                                                      | 88/674 [06:50<44:23,  4.55s/it]"
     ]
    },
    {
     "name": "stdout",
     "output_type": "stream",
     "text": [
      "prev : deaf now : deaf word : kiss\n",
      "1/1 [==============================] - 0s 3ms/step - loss: 3.6891 - accuracy: 0.0000e+00\n"
     ]
    },
    {
     "name": "stderr",
     "output_type": "stream",
     "text": [
      "\r",
      " 13%|██████████▋                                                                      | 89/674 [06:55<45:56,  4.71s/it]"
     ]
    },
    {
     "name": "stdout",
     "output_type": "stream",
     "text": [
      "prev : deaf now : deaf word : hot\n",
      "1/1 [==============================] - 0s 3ms/step - loss: 4.3413 - accuracy: 0.0000e+00\n"
     ]
    },
    {
     "name": "stderr",
     "output_type": "stream",
     "text": [
      "\r",
      " 13%|██████████▊                                                                      | 90/674 [06:57<38:09,  3.92s/it]"
     ]
    },
    {
     "name": "stdout",
     "output_type": "stream",
     "text": [
      "prev : deaf now : deaf word : cool\n",
      "1/1 [==============================] - 0s 2ms/step - loss: 3.6526 - accuracy: 0.0000e+00\n"
     ]
    },
    {
     "name": "stderr",
     "output_type": "stream",
     "text": [
      "\r",
      " 14%|██████████▉                                                                      | 91/674 [07:03<42:47,  4.40s/it]"
     ]
    },
    {
     "name": "stdout",
     "output_type": "stream",
     "text": [
      "prev : deaf now : deaf word : white\n",
      "1/1 [==============================] - 0s 4ms/step - loss: 3.6468 - accuracy: 0.0000e+00\n"
     ]
    },
    {
     "name": "stderr",
     "output_type": "stream",
     "text": [
      "\r",
      " 14%|███████████                                                                      | 92/674 [07:10<50:00,  5.16s/it]"
     ]
    },
    {
     "name": "stdout",
     "output_type": "stream",
     "text": [
      "prev : deaf now : deaf word : white\n",
      "1/1 [==============================] - 0s 2ms/step - loss: 4.5617 - accuracy: 0.0000e+00\n"
     ]
    },
    {
     "name": "stderr",
     "output_type": "stream",
     "text": [
      "\r",
      " 14%|███████████▏                                                                     | 93/674 [07:14<47:59,  4.96s/it]"
     ]
    },
    {
     "name": "stdout",
     "output_type": "stream",
     "text": [
      "prev : deaf now : deaf word : all\n",
      "1/1 [==============================] - 0s 3ms/step - loss: 3.6746 - accuracy: 0.0000e+00\n"
     ]
    },
    {
     "name": "stderr",
     "output_type": "stream",
     "text": [
      "\r",
      " 14%|███████████▎                                                                     | 94/674 [07:20<51:03,  5.28s/it]"
     ]
    },
    {
     "name": "stdout",
     "output_type": "stream",
     "text": [
      "prev : deaf now : deaf word : like\n",
      "1/1 [==============================] - 0s 3ms/step - loss: 4.1058 - accuracy: 0.0000e+00\n"
     ]
    },
    {
     "name": "stderr",
     "output_type": "stream",
     "text": [
      "\r",
      " 14%|███████████▍                                                                     | 95/674 [07:29<59:41,  6.19s/it]"
     ]
    },
    {
     "name": "stdout",
     "output_type": "stream",
     "text": [
      "prev : deaf now : deaf word : tall\n",
      "1/1 [==============================] - 0s 3ms/step - loss: 3.7254 - accuracy: 0.0000e+00\n"
     ]
    },
    {
     "name": "stderr",
     "output_type": "stream",
     "text": [
      "\r",
      " 14%|███████████▎                                                                   | 96/674 [07:36<1:03:17,  6.57s/it]"
     ]
    },
    {
     "name": "stdout",
     "output_type": "stream",
     "text": [
      "prev : deaf now : deaf word : man\n",
      "1/1 [==============================] - 0s 3ms/step - loss: 3.6918 - accuracy: 0.0000e+00\n"
     ]
    },
    {
     "name": "stderr",
     "output_type": "stream",
     "text": [
      "\r",
      " 14%|███████████▋                                                                     | 97/674 [07:40<54:01,  5.62s/it]"
     ]
    },
    {
     "name": "stdout",
     "output_type": "stream",
     "text": [
      "prev : deaf now : deaf word : graduate\n",
      "1/1 [==============================] - 0s 3ms/step - loss: 4.0839 - accuracy: 0.0000e+00\n"
     ]
    },
    {
     "name": "stderr",
     "output_type": "stream",
     "text": [
      "\r",
      " 15%|███████████▊                                                                     | 98/674 [07:46<55:53,  5.82s/it]"
     ]
    },
    {
     "name": "stdout",
     "output_type": "stream",
     "text": [
      "prev : deaf now : deaf word : tall\n",
      "1/1 [==============================] - 0s 5ms/step - loss: 4.0063 - accuracy: 0.0000e+00\n"
     ]
    },
    {
     "name": "stderr",
     "output_type": "stream",
     "text": [
      "\r",
      " 15%|███████████▉                                                                     | 99/674 [07:49<49:16,  5.14s/it]"
     ]
    },
    {
     "name": "stdout",
     "output_type": "stream",
     "text": [
      "prev : deaf now : deaf word : orange\n",
      "1/1 [==============================] - 0s 3ms/step - loss: 4.0208 - accuracy: 0.0000e+00\n"
     ]
    },
    {
     "name": "stderr",
     "output_type": "stream",
     "text": [
      "\r",
      " 15%|███████████▊                                                                    | 100/674 [07:55<49:35,  5.18s/it]"
     ]
    },
    {
     "name": "stdout",
     "output_type": "stream",
     "text": [
      "prev : deaf now : deaf word : thin\n",
      "1/1 [==============================] - 0s 4ms/step - loss: 4.2943 - accuracy: 0.0000e+00\n"
     ]
    },
    {
     "name": "stderr",
     "output_type": "stream",
     "text": [
      "\r",
      " 15%|███████████▉                                                                    | 101/674 [07:59<47:37,  4.99s/it]"
     ]
    },
    {
     "name": "stdout",
     "output_type": "stream",
     "text": [
      "prev : deaf now : deaf word : shirt\n",
      "1/1 [==============================] - 0s 2ms/step - loss: 4.5057 - accuracy: 0.0000e+00\n"
     ]
    },
    {
     "name": "stderr",
     "output_type": "stream",
     "text": [
      "\r",
      " 15%|████████████                                                                    | 102/674 [08:05<48:33,  5.09s/it]"
     ]
    },
    {
     "name": "stdout",
     "output_type": "stream",
     "text": [
      "prev : deaf now : deaf word : family\n",
      "1/1 [==============================] - 0s 4ms/step - loss: 3.6679 - accuracy: 0.0000e+00\n"
     ]
    },
    {
     "name": "stderr",
     "output_type": "stream",
     "text": [
      "\r",
      " 15%|████████████▏                                                                   | 103/674 [08:08<43:51,  4.61s/it]"
     ]
    },
    {
     "name": "stdout",
     "output_type": "stream",
     "text": [
      "prev : deaf now : deaf word : graduate\n",
      "1/1 [==============================] - 0s 2ms/step - loss: 3.6827 - accuracy: 0.0000e+00\n"
     ]
    },
    {
     "name": "stderr",
     "output_type": "stream",
     "text": [
      "\r",
      " 15%|████████████▎                                                                   | 104/674 [08:14<46:33,  4.90s/it]"
     ]
    },
    {
     "name": "stdout",
     "output_type": "stream",
     "text": [
      "prev : deaf now : deaf word : computer\n",
      "1/1 [==============================] - 0s 4ms/step - loss: 3.6254 - accuracy: 0.0000e+00\n"
     ]
    },
    {
     "name": "stderr",
     "output_type": "stream",
     "text": [
      "\r",
      " 16%|████████████▍                                                                   | 105/674 [08:20<51:12,  5.40s/it]"
     ]
    },
    {
     "name": "stdout",
     "output_type": "stream",
     "text": [
      "prev : deaf now : deaf word : like\n",
      "1/1 [==============================] - 0s 4ms/step - loss: 4.2550 - accuracy: 0.0000e+00\n"
     ]
    },
    {
     "name": "stderr",
     "output_type": "stream",
     "text": [
      "\r",
      " 16%|████████████▌                                                                   | 106/674 [08:26<52:26,  5.54s/it]"
     ]
    },
    {
     "name": "stdout",
     "output_type": "stream",
     "text": [
      "prev : deaf now : deaf word : cool\n",
      "1/1 [==============================] - 0s 2ms/step - loss: 4.0076 - accuracy: 0.0000e+00\n"
     ]
    },
    {
     "name": "stderr",
     "output_type": "stream",
     "text": [
      "\r",
      " 16%|████████████▋                                                                   | 107/674 [08:30<48:02,  5.08s/it]"
     ]
    },
    {
     "name": "stdout",
     "output_type": "stream",
     "text": [
      "prev : deaf now : deaf word : tall\n",
      "1/1 [==============================] - 0s 2ms/step - loss: 3.6632 - accuracy: 0.0000e+00\n"
     ]
    },
    {
     "name": "stderr",
     "output_type": "stream",
     "text": [
      "\r",
      " 16%|████████████▊                                                                   | 108/674 [08:38<57:03,  6.05s/it]"
     ]
    },
    {
     "name": "stdout",
     "output_type": "stream",
     "text": [
      "prev : deaf now : deaf word : computer\n",
      "1/1 [==============================] - 0s 3ms/step - loss: 4.6022 - accuracy: 0.0000e+00\n"
     ]
    },
    {
     "name": "stderr",
     "output_type": "stream",
     "text": [
      "\r",
      " 16%|████████████▉                                                                   | 109/674 [08:44<55:17,  5.87s/it]"
     ]
    },
    {
     "name": "stdout",
     "output_type": "stream",
     "text": [
      "prev : deaf now : deaf word : help\n",
      "1/1 [==============================] - 0s 2ms/step - loss: 4.4662 - accuracy: 0.0000e+00\n"
     ]
    },
    {
     "name": "stderr",
     "output_type": "stream",
     "text": [
      "\r",
      " 16%|█████████████                                                                   | 110/674 [08:48<49:03,  5.22s/it]"
     ]
    },
    {
     "name": "stdout",
     "output_type": "stream",
     "text": [
      "prev : deaf now : deaf word : all\n",
      "1/1 [==============================] - 0s 2ms/step - loss: 3.6861 - accuracy: 0.0000e+00\n"
     ]
    },
    {
     "name": "stderr",
     "output_type": "stream",
     "text": [
      "\r",
      " 16%|█████████████▏                                                                  | 111/674 [08:53<49:31,  5.28s/it]"
     ]
    },
    {
     "name": "stdout",
     "output_type": "stream",
     "text": [
      "prev : deaf now : deaf word : man\n",
      "1/1 [==============================] - 0s 2ms/step - loss: 4.3156 - accuracy: 0.0000e+00\n"
     ]
    },
    {
     "name": "stderr",
     "output_type": "stream",
     "text": [
      "\r",
      " 17%|█████████████▎                                                                  | 112/674 [08:58<48:18,  5.16s/it]"
     ]
    },
    {
     "name": "stdout",
     "output_type": "stream",
     "text": [
      "prev : deaf now : deaf word : go\n",
      "1/1 [==============================] - 0s 3ms/step - loss: 4.0804 - accuracy: 0.0000e+00\n"
     ]
    },
    {
     "name": "stderr",
     "output_type": "stream",
     "text": [
      "\r",
      " 17%|█████████████▍                                                                  | 113/674 [09:03<48:32,  5.19s/it]"
     ]
    },
    {
     "name": "stdout",
     "output_type": "stream",
     "text": [
      "prev : deaf now : deaf word : finish\n",
      "1/1 [==============================] - 0s 3ms/step - loss: 4.0738 - accuracy: 0.0000e+00\n"
     ]
    },
    {
     "name": "stderr",
     "output_type": "stream",
     "text": [
      "\r",
      " 17%|█████████████▌                                                                  | 114/674 [09:07<44:37,  4.78s/it]"
     ]
    },
    {
     "name": "stdout",
     "output_type": "stream",
     "text": [
      "prev : deaf now : deaf word : finish\n",
      "1/1 [==============================] - 0s 3ms/step - loss: 4.2218 - accuracy: 0.0000e+00\n"
     ]
    },
    {
     "name": "stderr",
     "output_type": "stream",
     "text": [
      "\r",
      " 17%|█████████████▋                                                                  | 115/674 [09:12<44:05,  4.73s/it]"
     ]
    },
    {
     "name": "stdout",
     "output_type": "stream",
     "text": [
      "prev : deaf now : deaf word : shirt\n",
      "1/1 [==============================] - 0s 3ms/step - loss: 3.6264 - accuracy: 0.0000e+00\n"
     ]
    },
    {
     "name": "stderr",
     "output_type": "stream",
     "text": [
      "\r",
      " 17%|█████████████▊                                                                  | 116/674 [09:17<46:24,  4.99s/it]"
     ]
    },
    {
     "name": "stdout",
     "output_type": "stream",
     "text": [
      "prev : deaf now : deaf word : drink\n",
      "1/1 [==============================] - 0s 2ms/step - loss: 3.8322 - accuracy: 0.0000e+00\n"
     ]
    },
    {
     "name": "stderr",
     "output_type": "stream",
     "text": [
      "\r",
      " 17%|█████████████▉                                                                  | 117/674 [09:23<48:48,  5.26s/it]"
     ]
    },
    {
     "name": "stdout",
     "output_type": "stream",
     "text": [
      "prev : deaf now : deaf word : bowling\n",
      "1/1 [==============================] - 0s 2ms/step - loss: 3.6209 - accuracy: 0.0000e+00\n"
     ]
    },
    {
     "name": "stderr",
     "output_type": "stream",
     "text": [
      "\r",
      " 18%|██████████████                                                                  | 118/674 [09:27<43:46,  4.72s/it]"
     ]
    },
    {
     "name": "stdout",
     "output_type": "stream",
     "text": [
      "prev : deaf now : deaf word : book\n",
      "1/1 [==============================] - 0s 3ms/step - loss: 3.6156 - accuracy: 0.0000e+00\n"
     ]
    },
    {
     "name": "stderr",
     "output_type": "stream",
     "text": [
      "\r",
      " 18%|██████████████                                                                  | 119/674 [09:33<48:42,  5.27s/it]"
     ]
    },
    {
     "name": "stdout",
     "output_type": "stream",
     "text": [
      "prev : deaf now : deaf word : drink\n",
      "1/1 [==============================] - 0s 2ms/step - loss: 4.9190 - accuracy: 0.0000e+00\n"
     ]
    },
    {
     "name": "stderr",
     "output_type": "stream",
     "text": [
      "\r",
      " 18%|██████████████▏                                                                 | 120/674 [09:37<44:38,  4.83s/it]"
     ]
    },
    {
     "name": "stdout",
     "output_type": "stream",
     "text": [
      "prev : deaf now : deaf word : language\n",
      "1/1 [==============================] - 0s 4ms/step - loss: 4.1818 - accuracy: 0.0000e+00\n"
     ]
    },
    {
     "name": "stderr",
     "output_type": "stream",
     "text": [
      "\r",
      " 18%|██████████████▎                                                                 | 121/674 [09:41<42:15,  4.59s/it]"
     ]
    },
    {
     "name": "stdout",
     "output_type": "stream",
     "text": [
      "prev : deaf now : deaf word : cool\n",
      "1/1 [==============================] - 0s 4ms/step - loss: 4.2174 - accuracy: 0.0000e+00\n"
     ]
    },
    {
     "name": "stderr",
     "output_type": "stream",
     "text": [
      "\r",
      " 18%|██████████████▍                                                                 | 122/674 [09:47<45:46,  4.98s/it]"
     ]
    },
    {
     "name": "stdout",
     "output_type": "stream",
     "text": [
      "prev : deaf now : deaf word : who\n",
      "1/1 [==============================] - 0s 2ms/step - loss: 4.4114 - accuracy: 0.0000e+00\n"
     ]
    },
    {
     "name": "stderr",
     "output_type": "stream",
     "text": [
      "\r",
      " 18%|██████████████▌                                                                 | 123/674 [09:52<46:47,  5.10s/it]"
     ]
    },
    {
     "name": "stdout",
     "output_type": "stream",
     "text": [
      "prev : deaf now : deaf word : family\n",
      "1/1 [==============================] - 0s 3ms/step - loss: 5.1254 - accuracy: 0.0000e+00\n"
     ]
    },
    {
     "name": "stderr",
     "output_type": "stream",
     "text": [
      "\r",
      " 18%|██████████████▋                                                                 | 124/674 [09:57<45:31,  4.97s/it]"
     ]
    },
    {
     "name": "stdout",
     "output_type": "stream",
     "text": [
      "prev : deaf now : deaf word : table\n",
      "1/1 [==============================] - 0s 3ms/step - loss: 3.6075 - accuracy: 0.0000e+00\n"
     ]
    },
    {
     "name": "stderr",
     "output_type": "stream",
     "text": [
      "\r",
      " 19%|██████████████▊                                                                 | 125/674 [10:01<43:52,  4.79s/it]"
     ]
    },
    {
     "name": "stdout",
     "output_type": "stream",
     "text": [
      "prev : deaf now : deaf word : kiss\n",
      "1/1 [==============================] - 0s 4ms/step - loss: 4.1483 - accuracy: 0.0000e+00\n"
     ]
    },
    {
     "name": "stderr",
     "output_type": "stream",
     "text": [
      "\r",
      " 19%|██████████████▉                                                                 | 126/674 [10:07<45:28,  4.98s/it]"
     ]
    },
    {
     "name": "stdout",
     "output_type": "stream",
     "text": [
      "prev : deaf now : deaf word : cool\n",
      "1/1 [==============================] - 0s 2ms/step - loss: 3.9916 - accuracy: 0.0000e+00\n"
     ]
    },
    {
     "name": "stderr",
     "output_type": "stream",
     "text": [
      "\r",
      " 19%|███████████████                                                                 | 127/674 [10:12<46:50,  5.14s/it]"
     ]
    },
    {
     "name": "stdout",
     "output_type": "stream",
     "text": [
      "prev : deaf now : deaf word : finish\n",
      "1/1 [==============================] - 0s 3ms/step - loss: 4.3803 - accuracy: 0.0000e+00\n"
     ]
    },
    {
     "name": "stderr",
     "output_type": "stream",
     "text": [
      "\r",
      " 19%|███████████████▏                                                                | 128/674 [10:17<45:44,  5.03s/it]"
     ]
    },
    {
     "name": "stdout",
     "output_type": "stream",
     "text": [
      "prev : deaf now : deaf word : all\n",
      "1/1 [==============================] - 0s 3ms/step - loss: 3.7319 - accuracy: 0.0000e+00\n"
     ]
    },
    {
     "name": "stderr",
     "output_type": "stream",
     "text": [
      "\r",
      " 19%|███████████████▎                                                                | 129/674 [10:21<43:35,  4.80s/it]"
     ]
    },
    {
     "name": "stdout",
     "output_type": "stream",
     "text": [
      "prev : deaf now : deaf word : dog\n",
      "1/1 [==============================] - 0s 3ms/step - loss: 3.6460 - accuracy: 0.0000e+00\n"
     ]
    },
    {
     "name": "stderr",
     "output_type": "stream",
     "text": [
      "\r",
      " 19%|███████████████▍                                                                | 130/674 [10:28<50:04,  5.52s/it]"
     ]
    },
    {
     "name": "stdout",
     "output_type": "stream",
     "text": [
      "prev : deaf now : deaf word : later\n",
      "1/1 [==============================] - 0s 2ms/step - loss: 3.6413 - accuracy: 0.0000e+00\n"
     ]
    },
    {
     "name": "stderr",
     "output_type": "stream",
     "text": [
      "\r",
      " 19%|███████████████▌                                                                | 131/674 [10:34<50:04,  5.53s/it]"
     ]
    },
    {
     "name": "stdout",
     "output_type": "stream",
     "text": [
      "prev : deaf now : deaf word : later\n",
      "1/1 [==============================] - 0s 2ms/step - loss: 3.7263 - accuracy: 0.0000e+00\n"
     ]
    },
    {
     "name": "stderr",
     "output_type": "stream",
     "text": [
      "\r",
      " 20%|███████████████▋                                                                | 132/674 [10:38<46:06,  5.10s/it]"
     ]
    },
    {
     "name": "stdout",
     "output_type": "stream",
     "text": [
      "prev : deaf now : deaf word : year\n",
      "1/1 [==============================] - 0s 3ms/step - loss: 4.6967 - accuracy: 0.0000e+00\n"
     ]
    },
    {
     "name": "stderr",
     "output_type": "stream",
     "text": [
      "\r",
      " 20%|███████████████▊                                                                | 133/674 [10:40<37:41,  4.18s/it]"
     ]
    },
    {
     "name": "stdout",
     "output_type": "stream",
     "text": [
      "prev : deaf now : deaf word : thanksgiving\n",
      "1/1 [==============================] - 0s 3ms/step - loss: 3.6916 - accuracy: 0.0000e+00\n"
     ]
    },
    {
     "name": "stderr",
     "output_type": "stream",
     "text": [
      "\r",
      " 20%|███████████████▉                                                                | 134/674 [10:43<35:37,  3.96s/it]"
     ]
    },
    {
     "name": "stdout",
     "output_type": "stream",
     "text": [
      "prev : deaf now : deaf word : no\n",
      "1/1 [==============================] - 0s 2ms/step - loss: 4.3373 - accuracy: 0.0000e+00\n"
     ]
    },
    {
     "name": "stderr",
     "output_type": "stream",
     "text": [
      "\r",
      " 20%|████████████████                                                                | 135/674 [10:53<51:08,  5.69s/it]"
     ]
    },
    {
     "name": "stdout",
     "output_type": "stream",
     "text": [
      "prev : deaf now : deaf word : all\n",
      "1/1 [==============================] - 0s 3ms/step - loss: 5.1974 - accuracy: 0.0000e+00\n"
     ]
    },
    {
     "name": "stderr",
     "output_type": "stream",
     "text": [
      "\r",
      " 20%|████████████████▏                                                               | 136/674 [11:02<58:14,  6.49s/it]"
     ]
    },
    {
     "name": "stdout",
     "output_type": "stream",
     "text": [
      "prev : deaf now : deaf word : many\n",
      "1/1 [==============================] - 0s 5ms/step - loss: 3.9602 - accuracy: 0.0000e+00\n"
     ]
    },
    {
     "name": "stderr",
     "output_type": "stream",
     "text": [
      "\r",
      " 20%|████████████████▎                                                               | 137/674 [11:06<53:02,  5.93s/it]"
     ]
    },
    {
     "name": "stdout",
     "output_type": "stream",
     "text": [
      "prev : deaf now : deaf word : thin\n",
      "1/1 [==============================] - 0s 3ms/step - loss: 4.1482 - accuracy: 0.0000e+00\n"
     ]
    },
    {
     "name": "stderr",
     "output_type": "stream",
     "text": [
      "\r",
      " 20%|████████████████▍                                                               | 138/674 [11:09<44:45,  5.01s/it]"
     ]
    },
    {
     "name": "stdout",
     "output_type": "stream",
     "text": [
      "prev : deaf now : deaf word : who\n",
      "1/1 [==============================] - 0s 2ms/step - loss: 3.7410 - accuracy: 0.0000e+00\n"
     ]
    },
    {
     "name": "stderr",
     "output_type": "stream",
     "text": [
      "\r",
      " 21%|████████████████▍                                                               | 139/674 [11:14<43:40,  4.90s/it]"
     ]
    },
    {
     "name": "stdout",
     "output_type": "stream",
     "text": [
      "prev : deaf now : deaf word : woman\n",
      "1/1 [==============================] - 0s 3ms/step - loss: 4.4463 - accuracy: 0.0000e+00\n"
     ]
    },
    {
     "name": "stderr",
     "output_type": "stream",
     "text": [
      "\r",
      " 21%|████████████████▌                                                               | 140/674 [11:17<38:09,  4.29s/it]"
     ]
    },
    {
     "name": "stdout",
     "output_type": "stream",
     "text": [
      "prev : deaf now : deaf word : fine\n",
      "1/1 [==============================] - 0s 1ms/step - loss: 3.8532 - accuracy: 0.0000e+00\n"
     ]
    },
    {
     "name": "stderr",
     "output_type": "stream",
     "text": [
      "\r",
      " 21%|████████████████▋                                                               | 141/674 [11:22<41:00,  4.62s/it]"
     ]
    },
    {
     "name": "stdout",
     "output_type": "stream",
     "text": [
      "prev : deaf now : deaf word : black\n",
      "1/1 [==============================] - 0s 3ms/step - loss: 3.7879 - accuracy: 0.0000e+00\n"
     ]
    },
    {
     "name": "stderr",
     "output_type": "stream",
     "text": [
      "\r",
      " 21%|████████████████▊                                                               | 142/674 [11:26<40:36,  4.58s/it]"
     ]
    },
    {
     "name": "stdout",
     "output_type": "stream",
     "text": [
      "prev : deaf now : deaf word : blue\n",
      "1/1 [==============================] - 0s 2ms/step - loss: 3.7352 - accuracy: 0.0000e+00\n"
     ]
    },
    {
     "name": "stderr",
     "output_type": "stream",
     "text": [
      "\r",
      " 21%|████████████████▉                                                               | 143/674 [11:32<44:01,  4.98s/it]"
     ]
    },
    {
     "name": "stdout",
     "output_type": "stream",
     "text": [
      "prev : deaf now : deaf word : study\n",
      "1/1 [==============================] - 0s 4ms/step - loss: 3.7396 - accuracy: 0.0000e+00\n"
     ]
    },
    {
     "name": "stderr",
     "output_type": "stream",
     "text": [
      "\r",
      " 21%|█████████████████                                                               | 144/674 [11:42<55:46,  6.31s/it]"
     ]
    },
    {
     "name": "stdout",
     "output_type": "stream",
     "text": [
      "prev : deaf now : deaf word : cousin\n",
      "1/1 [==============================] - 0s 3ms/step - loss: 4.8996 - accuracy: 0.0000e+00\n"
     ]
    },
    {
     "name": "stderr",
     "output_type": "stream",
     "text": [
      "\r",
      " 22%|█████████████████▏                                                              | 145/674 [11:45<48:01,  5.45s/it]"
     ]
    },
    {
     "name": "stdout",
     "output_type": "stream",
     "text": [
      "prev : deaf now : deaf word : chair\n",
      "1/1 [==============================] - 0s 5ms/step - loss: 3.6292 - accuracy: 0.0000e+00\n"
     ]
    },
    {
     "name": "stderr",
     "output_type": "stream",
     "text": [
      "\r",
      " 22%|█████████████████▎                                                              | 146/674 [11:48<40:03,  4.55s/it]"
     ]
    },
    {
     "name": "stdout",
     "output_type": "stream",
     "text": [
      "prev : deaf now : deaf word : graduate\n",
      "1/1 [==============================] - 0s 4ms/step - loss: 3.6030 - accuracy: 0.0000e+00\n"
     ]
    },
    {
     "name": "stderr",
     "output_type": "stream",
     "text": [
      "\r",
      " 22%|█████████████████▍                                                              | 147/674 [11:49<32:27,  3.70s/it]"
     ]
    },
    {
     "name": "stdout",
     "output_type": "stream",
     "text": [
      "prev : deaf now : deaf word : book\n",
      "1/1 [==============================] - 0s 2ms/step - loss: 4.2281 - accuracy: 0.0000e+00\n"
     ]
    },
    {
     "name": "stderr",
     "output_type": "stream",
     "text": [
      "\r",
      " 22%|█████████████████▌                                                              | 148/674 [11:52<30:25,  3.47s/it]"
     ]
    },
    {
     "name": "stdout",
     "output_type": "stream",
     "text": [
      "prev : deaf now : deaf word : go\n",
      "1/1 [==============================] - 0s 3ms/step - loss: 4.2208 - accuracy: 0.0000e+00\n"
     ]
    },
    {
     "name": "stderr",
     "output_type": "stream",
     "text": [
      "\r",
      " 22%|█████████████████▋                                                              | 149/674 [11:58<36:08,  4.13s/it]"
     ]
    },
    {
     "name": "stdout",
     "output_type": "stream",
     "text": [
      "prev : deaf now : deaf word : go\n",
      "1/1 [==============================] - 0s 3ms/step - loss: 4.9728 - accuracy: 0.0000e+00\n"
     ]
    },
    {
     "name": "stderr",
     "output_type": "stream",
     "text": [
      "\r",
      " 22%|█████████████████▊                                                              | 150/674 [12:03<37:26,  4.29s/it]"
     ]
    },
    {
     "name": "stdout",
     "output_type": "stream",
     "text": [
      "prev : deaf now : deaf word : fish\n",
      "1/1 [==============================] - 0s 2ms/step - loss: 5.1181 - accuracy: 0.0000e+00\n"
     ]
    },
    {
     "name": "stderr",
     "output_type": "stream",
     "text": [
      "\r",
      " 22%|█████████████████▉                                                              | 151/674 [12:08<40:31,  4.65s/it]"
     ]
    },
    {
     "name": "stdout",
     "output_type": "stream",
     "text": [
      "prev : deaf now : deaf word : now\n",
      "1/1 [==============================] - 0s 3ms/step - loss: 3.7062 - accuracy: 0.0000e+00\n"
     ]
    },
    {
     "name": "stderr",
     "output_type": "stream",
     "text": [
      "\r",
      " 23%|██████████████████                                                              | 152/674 [12:17<50:20,  5.79s/it]"
     ]
    },
    {
     "name": "stdout",
     "output_type": "stream",
     "text": [
      "prev : deaf now : deaf word : study\n",
      "1/1 [==============================] - 0s 2ms/step - loss: 4.5077 - accuracy: 0.0000e+00\n"
     ]
    },
    {
     "name": "stderr",
     "output_type": "stream",
     "text": [
      "\r",
      " 23%|██████████████████▏                                                             | 153/674 [12:20<44:56,  5.18s/it]"
     ]
    },
    {
     "name": "stdout",
     "output_type": "stream",
     "text": [
      "prev : deaf now : deaf word : help\n",
      "1/1 [==============================] - 0s 3ms/step - loss: 4.2573 - accuracy: 0.0000e+00\n"
     ]
    },
    {
     "name": "stderr",
     "output_type": "stream",
     "text": [
      "\r",
      " 23%|██████████████████▎                                                             | 154/674 [12:27<49:55,  5.76s/it]"
     ]
    },
    {
     "name": "stdout",
     "output_type": "stream",
     "text": [
      "prev : deaf now : deaf word : all\n",
      "1/1 [==============================] - 0s 4ms/step - loss: 4.1066 - accuracy: 0.0000e+00\n"
     ]
    },
    {
     "name": "stderr",
     "output_type": "stream",
     "text": [
      "\r",
      " 23%|██████████████████▍                                                             | 155/674 [12:35<53:39,  6.20s/it]"
     ]
    },
    {
     "name": "stdout",
     "output_type": "stream",
     "text": [
      "prev : deaf now : deaf word : before\n",
      "1/1 [==============================] - 0s 4ms/step - loss: 3.7606 - accuracy: 0.0000e+00\n"
     ]
    },
    {
     "name": "stderr",
     "output_type": "stream",
     "text": [
      "\r",
      " 23%|██████████████████▌                                                             | 156/674 [12:40<50:57,  5.90s/it]"
     ]
    },
    {
     "name": "stdout",
     "output_type": "stream",
     "text": [
      "prev : deaf now : deaf word : hearing\n",
      "1/1 [==============================] - 0s 2ms/step - loss: 3.9165 - accuracy: 0.0000e+00\n"
     ]
    },
    {
     "name": "stderr",
     "output_type": "stream",
     "text": [
      "\r",
      " 23%|██████████████████▋                                                             | 157/674 [12:42<42:05,  4.88s/it]"
     ]
    },
    {
     "name": "stdout",
     "output_type": "stream",
     "text": [
      "prev : deaf now : deaf word : thin\n",
      "1/1 [==============================] - 0s 3ms/step - loss: 4.9648 - accuracy: 0.0000e+00\n"
     ]
    },
    {
     "name": "stderr",
     "output_type": "stream",
     "text": [
      "\r",
      " 23%|██████████████████▊                                                             | 158/674 [12:45<36:58,  4.30s/it]"
     ]
    },
    {
     "name": "stdout",
     "output_type": "stream",
     "text": [
      "prev : deaf now : deaf word : table\n",
      "1/1 [==============================] - 0s 3ms/step - loss: 5.0617 - accuracy: 0.0000e+00\n"
     ]
    },
    {
     "name": "stderr",
     "output_type": "stream",
     "text": [
      "\r",
      " 24%|██████████████████▊                                                             | 159/674 [12:51<39:56,  4.65s/it]"
     ]
    },
    {
     "name": "stdout",
     "output_type": "stream",
     "text": [
      "prev : deaf now : deaf word : many\n",
      "1/1 [==============================] - 0s 4ms/step - loss: 4.0624 - accuracy: 0.0000e+00\n"
     ]
    },
    {
     "name": "stderr",
     "output_type": "stream",
     "text": [
      "\r",
      " 24%|██████████████████▉                                                             | 160/674 [12:56<42:20,  4.94s/it]"
     ]
    },
    {
     "name": "stdout",
     "output_type": "stream",
     "text": [
      "prev : deaf now : deaf word : cool\n",
      "1/1 [==============================] - 0s 3ms/step - loss: 5.0397 - accuracy: 0.0000e+00\n"
     ]
    },
    {
     "name": "stderr",
     "output_type": "stream",
     "text": [
      "\r",
      " 24%|███████████████████                                                             | 161/674 [13:03<47:23,  5.54s/it]"
     ]
    },
    {
     "name": "stdout",
     "output_type": "stream",
     "text": [
      "prev : deaf now : deaf word : many\n",
      "1/1 [==============================] - 0s 2ms/step - loss: 3.7109 - accuracy: 0.0000e+00\n"
     ]
    },
    {
     "name": "stderr",
     "output_type": "stream",
     "text": [
      "\r",
      " 24%|███████████████████▏                                                            | 162/674 [13:09<46:52,  5.49s/it]"
     ]
    },
    {
     "name": "stdout",
     "output_type": "stream",
     "text": [
      "prev : deaf now : deaf word : dog\n",
      "1/1 [==============================] - 0s 3ms/step - loss: 3.5826 - accuracy: 0.0000e+00\n"
     ]
    },
    {
     "name": "stderr",
     "output_type": "stream",
     "text": [
      "\r",
      " 24%|███████████████████▎                                                            | 163/674 [13:13<44:09,  5.19s/it]"
     ]
    },
    {
     "name": "stdout",
     "output_type": "stream",
     "text": [
      "prev : deaf now : deaf word : drink\n",
      "1/1 [==============================] - 0s 2ms/step - loss: 4.0798 - accuracy: 0.0000e+00\n"
     ]
    },
    {
     "name": "stderr",
     "output_type": "stream",
     "text": [
      "\r",
      " 24%|███████████████████▍                                                            | 164/674 [13:17<41:12,  4.85s/it]"
     ]
    },
    {
     "name": "stdout",
     "output_type": "stream",
     "text": [
      "prev : deaf now : deaf word : who\n",
      "1/1 [==============================] - 0s 3ms/step - loss: 4.0625 - accuracy: 0.0000e+00\n"
     ]
    },
    {
     "name": "stderr",
     "output_type": "stream",
     "text": [
      "\r",
      " 24%|███████████████████▌                                                            | 165/674 [13:21<38:55,  4.59s/it]"
     ]
    },
    {
     "name": "stdout",
     "output_type": "stream",
     "text": [
      "prev : deaf now : deaf word : before\n",
      "1/1 [==============================] - 0s 3ms/step - loss: 3.7593 - accuracy: 0.0000e+00\n"
     ]
    },
    {
     "name": "stderr",
     "output_type": "stream",
     "text": [
      "\r",
      " 25%|███████████████████▋                                                            | 166/674 [13:25<36:38,  4.33s/it]"
     ]
    },
    {
     "name": "stdout",
     "output_type": "stream",
     "text": [
      "prev : deaf now : deaf word : blue\n",
      "1/1 [==============================] - 0s 5ms/step - loss: 4.2079 - accuracy: 0.0000e+00\n"
     ]
    },
    {
     "name": "stderr",
     "output_type": "stream",
     "text": [
      "\r",
      " 25%|███████████████████▊                                                            | 167/674 [13:30<38:20,  4.54s/it]"
     ]
    },
    {
     "name": "stdout",
     "output_type": "stream",
     "text": [
      "prev : deaf now : deaf word : all\n",
      "1/1 [==============================] - 0s 3ms/step - loss: 4.1148 - accuracy: 0.0000e+00\n"
     ]
    },
    {
     "name": "stderr",
     "output_type": "stream",
     "text": [
      "\r",
      " 25%|███████████████████▉                                                            | 168/674 [13:35<39:07,  4.64s/it]"
     ]
    },
    {
     "name": "stdout",
     "output_type": "stream",
     "text": [
      "prev : deaf now : deaf word : go\n",
      "1/1 [==============================] - 0s 2ms/step - loss: 4.9477 - accuracy: 0.0000e+00\n"
     ]
    },
    {
     "name": "stderr",
     "output_type": "stream",
     "text": [
      "\r",
      " 25%|████████████████████                                                            | 169/674 [13:40<40:01,  4.75s/it]"
     ]
    },
    {
     "name": "stdout",
     "output_type": "stream",
     "text": [
      "prev : deaf now : deaf word : many\n",
      "1/1 [==============================] - 0s 3ms/step - loss: 4.3654 - accuracy: 0.0000e+00\n"
     ]
    },
    {
     "name": "stderr",
     "output_type": "stream",
     "text": [
      "\r",
      " 25%|████████████████████▏                                                           | 170/674 [13:45<40:03,  4.77s/it]"
     ]
    },
    {
     "name": "stdout",
     "output_type": "stream",
     "text": [
      "prev : drink now : drink word : fine\n",
      "1/1 [==============================] - 0s 2ms/step - loss: 4.3572 - accuracy: 0.0000e+00\n"
     ]
    },
    {
     "name": "stderr",
     "output_type": "stream",
     "text": [
      "\r",
      " 25%|████████████████████▎                                                           | 171/674 [13:49<38:06,  4.55s/it]"
     ]
    },
    {
     "name": "stdout",
     "output_type": "stream",
     "text": [
      "prev : drink now : drink word : fine\n",
      "1/1 [==============================] - 0s 2ms/step - loss: 4.3387 - accuracy: 0.0000e+00\n"
     ]
    },
    {
     "name": "stderr",
     "output_type": "stream",
     "text": [
      "\r",
      " 26%|████████████████████▍                                                           | 172/674 [13:54<40:18,  4.82s/it]"
     ]
    },
    {
     "name": "stdout",
     "output_type": "stream",
     "text": [
      "prev : drink now : drink word : family\n",
      "1/1 [==============================] - 0s 2ms/step - loss: 3.6970 - accuracy: 0.0000e+00\n"
     ]
    },
    {
     "name": "stderr",
     "output_type": "stream",
     "text": [
      "\r",
      " 26%|████████████████████▌                                                           | 173/674 [13:59<41:02,  4.91s/it]"
     ]
    },
    {
     "name": "stdout",
     "output_type": "stream",
     "text": [
      "prev : drink now : drink word : yes\n",
      "1/1 [==============================] - 0s 3ms/step - loss: 4.9994 - accuracy: 0.0000e+00\n"
     ]
    },
    {
     "name": "stderr",
     "output_type": "stream",
     "text": [
      "\r",
      " 26%|████████████████████▋                                                           | 174/674 [14:05<42:40,  5.12s/it]"
     ]
    },
    {
     "name": "stdout",
     "output_type": "stream",
     "text": [
      "prev : drink now : drink word : now\n",
      "1/1 [==============================] - 0s 3ms/step - loss: 3.6255 - accuracy: 0.0000e+00\n"
     ]
    },
    {
     "name": "stderr",
     "output_type": "stream",
     "text": [
      "\r",
      " 26%|████████████████████▊                                                           | 175/674 [14:12<47:17,  5.69s/it]"
     ]
    },
    {
     "name": "stdout",
     "output_type": "stream",
     "text": [
      "prev : drink now : drink word : like\n",
      "1/1 [==============================] - 0s 3ms/step - loss: 3.6209 - accuracy: 0.0000e+00\n"
     ]
    },
    {
     "name": "stderr",
     "output_type": "stream",
     "text": [
      "\r",
      " 26%|████████████████████▉                                                           | 176/674 [14:19<51:13,  6.17s/it]"
     ]
    },
    {
     "name": "stdout",
     "output_type": "stream",
     "text": [
      "prev : drink now : drink word : like\n",
      "1/1 [==============================] - 0s 2ms/step - loss: 4.7923 - accuracy: 0.0000e+00\n"
     ]
    },
    {
     "name": "stderr",
     "output_type": "stream",
     "text": [
      "\r",
      " 26%|█████████████████████                                                           | 177/674 [14:25<49:38,  5.99s/it]"
     ]
    },
    {
     "name": "stdout",
     "output_type": "stream",
     "text": [
      "prev : drink now : drink word : chair\n",
      "1/1 [==============================] - 0s 2ms/step - loss: 3.8553 - accuracy: 0.0000e+00\n"
     ]
    },
    {
     "name": "stderr",
     "output_type": "stream",
     "text": [
      "\r",
      " 26%|█████████████████████▏                                                          | 178/674 [14:30<47:28,  5.74s/it]"
     ]
    },
    {
     "name": "stdout",
     "output_type": "stream",
     "text": [
      "prev : drink now : drink word : mother\n",
      "1/1 [==============================] - 0s 2ms/step - loss: 4.8595 - accuracy: 0.0000e+00\n"
     ]
    },
    {
     "name": "stderr",
     "output_type": "stream",
     "text": [
      "\r",
      " 27%|█████████████████████▏                                                          | 179/674 [14:40<57:40,  6.99s/it]"
     ]
    },
    {
     "name": "stdout",
     "output_type": "stream",
     "text": [
      "prev : drink now : drink word : fish\n",
      "1/1 [==============================] - 0s 2ms/step - loss: 3.8316 - accuracy: 0.0000e+00\n"
     ]
    },
    {
     "name": "stderr",
     "output_type": "stream",
     "text": [
      "\r",
      " 27%|█████████████████████▎                                                          | 180/674 [14:44<51:12,  6.22s/it]"
     ]
    },
    {
     "name": "stdout",
     "output_type": "stream",
     "text": [
      "prev : drink now : drink word : black\n",
      "1/1 [==============================] - 0s 2ms/step - loss: 3.7293 - accuracy: 0.0000e+00\n"
     ]
    },
    {
     "name": "stderr",
     "output_type": "stream",
     "text": [
      "\r",
      " 27%|█████████████████████▍                                                          | 181/674 [14:50<48:46,  5.94s/it]"
     ]
    },
    {
     "name": "stdout",
     "output_type": "stream",
     "text": [
      "prev : drink now : drink word : year\n",
      "1/1 [==============================] - 0s 3ms/step - loss: 3.7113 - accuracy: 0.0000e+00\n"
     ]
    },
    {
     "name": "stderr",
     "output_type": "stream",
     "text": [
      "\r",
      " 27%|█████████████████████▌                                                          | 182/674 [14:56<49:08,  5.99s/it]"
     ]
    },
    {
     "name": "stdout",
     "output_type": "stream",
     "text": [
      "prev : drink now : drink word : man\n",
      "1/1 [==============================] - 0s 3ms/step - loss: 4.8266 - accuracy: 0.0000e+00\n"
     ]
    },
    {
     "name": "stderr",
     "output_type": "stream",
     "text": [
      "\r",
      " 27%|█████████████████████▋                                                          | 183/674 [15:00<45:35,  5.57s/it]"
     ]
    },
    {
     "name": "stdout",
     "output_type": "stream",
     "text": [
      "prev : drink now : drink word : fish\n",
      "1/1 [==============================] - 0s 2ms/step - loss: 3.7147 - accuracy: 0.0000e+00\n"
     ]
    },
    {
     "name": "stderr",
     "output_type": "stream",
     "text": [
      "\r",
      " 27%|█████████████████████▊                                                          | 184/674 [15:02<37:05,  4.54s/it]"
     ]
    },
    {
     "name": "stdout",
     "output_type": "stream",
     "text": [
      "prev : drink now : drink word : year\n",
      "1/1 [==============================] - 0s 3ms/step - loss: 3.8267 - accuracy: 0.0000e+00\n"
     ]
    },
    {
     "name": "stderr",
     "output_type": "stream",
     "text": [
      "\r",
      " 27%|█████████████████████▉                                                          | 185/674 [15:04<30:37,  3.76s/it]"
     ]
    },
    {
     "name": "stdout",
     "output_type": "stream",
     "text": [
      "prev : drink now : drink word : bowling\n",
      "1/1 [==============================] - 0s 3ms/step - loss: 4.9252 - accuracy: 0.0000e+00\n"
     ]
    },
    {
     "name": "stderr",
     "output_type": "stream",
     "text": [
      "\r",
      " 28%|██████████████████████                                                          | 186/674 [15:11<36:37,  4.50s/it]"
     ]
    },
    {
     "name": "stdout",
     "output_type": "stream",
     "text": [
      "prev : drink now : drink word : now\n",
      "1/1 [==============================] - 0s 3ms/step - loss: 4.4531 - accuracy: 0.0000e+00\n"
     ]
    },
    {
     "name": "stderr",
     "output_type": "stream",
     "text": [
      "\r",
      " 28%|██████████████████████▏                                                         | 187/674 [15:18<42:47,  5.27s/it]"
     ]
    },
    {
     "name": "stdout",
     "output_type": "stream",
     "text": [
      "prev : like now : like word : clothes\n",
      "1/1 [==============================] - 0s 3ms/step - loss: 3.8171 - accuracy: 0.0000e+00\n"
     ]
    },
    {
     "name": "stderr",
     "output_type": "stream",
     "text": [
      "\r",
      " 28%|██████████████████████▎                                                         | 188/674 [15:23<42:56,  5.30s/it]"
     ]
    },
    {
     "name": "stdout",
     "output_type": "stream",
     "text": [
      "prev : like now : like word : mother\n",
      "1/1 [==============================] - 0s 2ms/step - loss: 3.8089 - accuracy: 0.0000e+00\n"
     ]
    },
    {
     "name": "stderr",
     "output_type": "stream",
     "text": [
      "\r",
      " 28%|██████████████████████▍                                                         | 189/674 [15:29<44:54,  5.56s/it]"
     ]
    },
    {
     "name": "stdout",
     "output_type": "stream",
     "text": [
      "prev : like now : like word : mother\n",
      "1/1 [==============================] - 0s 3ms/step - loss: 4.1496 - accuracy: 0.0000e+00\n"
     ]
    },
    {
     "name": "stderr",
     "output_type": "stream",
     "text": [
      "\r",
      " 28%|██████████████████████▌                                                         | 190/674 [15:36<48:30,  6.01s/it]"
     ]
    },
    {
     "name": "stdout",
     "output_type": "stream",
     "text": [
      "prev : like now : like word : all\n",
      "1/1 [==============================] - 0s 2ms/step - loss: 3.6734 - accuracy: 0.0000e+00\n"
     ]
    },
    {
     "name": "stderr",
     "output_type": "stream",
     "text": [
      "\r",
      " 28%|██████████████████████▋                                                         | 191/674 [15:39<41:21,  5.14s/it]"
     ]
    },
    {
     "name": "stdout",
     "output_type": "stream",
     "text": [
      "prev : like now : like word : study\n",
      "1/1 [==============================] - 0s 2ms/step - loss: 4.7200 - accuracy: 0.0000e+00\n"
     ]
    },
    {
     "name": "stderr",
     "output_type": "stream",
     "text": [
      "\r",
      " 28%|██████████████████████▊                                                         | 192/674 [15:44<38:55,  4.85s/it]"
     ]
    },
    {
     "name": "stdout",
     "output_type": "stream",
     "text": [
      "prev : like now : like word : chair\n",
      "1/1 [==============================] - 0s 3ms/step - loss: 3.6848 - accuracy: 0.0000e+00\n"
     ]
    },
    {
     "name": "stderr",
     "output_type": "stream",
     "text": [
      "\r",
      " 29%|██████████████████████▉                                                         | 193/674 [15:47<35:39,  4.45s/it]"
     ]
    },
    {
     "name": "stdout",
     "output_type": "stream",
     "text": [
      "prev : like now : like word : walk\n",
      "1/1 [==============================] - 0s 3ms/step - loss: 3.6798 - accuracy: 0.0000e+00\n"
     ]
    },
    {
     "name": "stderr",
     "output_type": "stream",
     "text": [
      "\r",
      " 29%|███████████████████████                                                         | 194/674 [15:53<38:56,  4.87s/it]"
     ]
    },
    {
     "name": "stdout",
     "output_type": "stream",
     "text": [
      "prev : like now : like word : walk\n",
      "1/1 [==============================] - 0s 3ms/step - loss: 3.9545 - accuracy: 0.0000e+00\n"
     ]
    },
    {
     "name": "stderr",
     "output_type": "stream",
     "text": [
      "\r",
      " 29%|███████████████████████▏                                                        | 195/674 [15:56<35:22,  4.43s/it]"
     ]
    },
    {
     "name": "stdout",
     "output_type": "stream",
     "text": [
      "prev : like now : like word : tall\n",
      "1/1 [==============================] - 0s 3ms/step - loss: 3.7440 - accuracy: 0.0000e+00\n"
     ]
    },
    {
     "name": "stderr",
     "output_type": "stream",
     "text": [
      "\r",
      " 29%|███████████████████████▎                                                        | 196/674 [16:01<35:29,  4.45s/it]"
     ]
    },
    {
     "name": "stdout",
     "output_type": "stream",
     "text": [
      "prev : like now : like word : woman\n",
      "1/1 [==============================] - 0s 3ms/step - loss: 3.9601 - accuracy: 0.0000e+00\n"
     ]
    },
    {
     "name": "stderr",
     "output_type": "stream",
     "text": [
      "\r",
      " 29%|███████████████████████▍                                                        | 197/674 [16:05<34:49,  4.38s/it]"
     ]
    },
    {
     "name": "stdout",
     "output_type": "stream",
     "text": [
      "prev : like now : like word : what\n",
      "1/1 [==============================] - 0s 2ms/step - loss: 3.6466 - accuracy: 0.0000e+00\n"
     ]
    },
    {
     "name": "stderr",
     "output_type": "stream",
     "text": [
      "\r",
      " 29%|███████████████████████▌                                                        | 198/674 [16:10<35:44,  4.51s/it]"
     ]
    },
    {
     "name": "stdout",
     "output_type": "stream",
     "text": [
      "prev : like now : like word : walk\n",
      "1/1 [==============================] - 0s 2ms/step - loss: 3.8328 - accuracy: 0.0000e+00\n"
     ]
    },
    {
     "name": "stderr",
     "output_type": "stream",
     "text": [
      "\r",
      " 30%|███████████████████████▌                                                        | 199/674 [16:16<39:53,  5.04s/it]"
     ]
    },
    {
     "name": "stdout",
     "output_type": "stream",
     "text": [
      "prev : like now : like word : can\n",
      "1/1 [==============================] - 0s 2ms/step - loss: 4.2406 - accuracy: 0.0000e+00\n"
     ]
    },
    {
     "name": "stderr",
     "output_type": "stream",
     "text": [
      "\r",
      " 30%|███████████████████████▋                                                        | 200/674 [16:20<36:45,  4.65s/it]"
     ]
    },
    {
     "name": "stdout",
     "output_type": "stream",
     "text": [
      "prev : like now : like word : fine\n",
      "1/1 [==============================] - 0s 2ms/step - loss: 3.6794 - accuracy: 0.0000e+00\n"
     ]
    },
    {
     "name": "stderr",
     "output_type": "stream",
     "text": [
      "\r",
      " 30%|███████████████████████▊                                                        | 201/674 [16:24<36:40,  4.65s/it]"
     ]
    },
    {
     "name": "stdout",
     "output_type": "stream",
     "text": [
      "prev : like now : like word : man\n",
      "1/1 [==============================] - 0s 3ms/step - loss: 3.9616 - accuracy: 0.0000e+00\n"
     ]
    },
    {
     "name": "stderr",
     "output_type": "stream",
     "text": [
      "\r",
      " 30%|███████████████████████▉                                                        | 202/674 [16:27<32:13,  4.10s/it]"
     ]
    },
    {
     "name": "stdout",
     "output_type": "stream",
     "text": [
      "prev : like now : like word : finish\n",
      "1/1 [==============================] - 0s 3ms/step - loss: 3.8865 - accuracy: 0.0000e+00\n"
     ]
    },
    {
     "name": "stderr",
     "output_type": "stream",
     "text": [
      "\r",
      " 30%|████████████████████████                                                        | 203/674 [16:33<35:22,  4.51s/it]"
     ]
    },
    {
     "name": "stdout",
     "output_type": "stream",
     "text": [
      "prev : like now : like word : thin\n",
      "1/1 [==============================] - 0s 3ms/step - loss: 3.8073 - accuracy: 0.0000e+00\n"
     ]
    },
    {
     "name": "stderr",
     "output_type": "stream",
     "text": [
      "\r",
      " 30%|████████████████████████▏                                                       | 204/674 [16:38<37:37,  4.80s/it]"
     ]
    },
    {
     "name": "stdout",
     "output_type": "stream",
     "text": [
      "prev : like now : like word : can\n",
      "1/1 [==============================] - 0s 4ms/step - loss: 3.7951 - accuracy: 0.0000e+00\n"
     ]
    },
    {
     "name": "stderr",
     "output_type": "stream",
     "text": [
      "\r",
      " 30%|████████████████████████▎                                                       | 205/674 [16:45<41:50,  5.35s/it]"
     ]
    },
    {
     "name": "stdout",
     "output_type": "stream",
     "text": [
      "prev : like now : like word : black\n",
      "1/1 [==============================] - 0s 2ms/step - loss: 3.5611 - accuracy: 1.0000\n"
     ]
    },
    {
     "name": "stderr",
     "output_type": "stream",
     "text": [
      "\r",
      " 31%|████████████████████████▍                                                       | 206/674 [16:55<51:55,  6.66s/it]"
     ]
    },
    {
     "name": "stdout",
     "output_type": "stream",
     "text": [
      "prev : like now : like word : like\n",
      "1/1 [==============================] - 0s 3ms/step - loss: 4.6363 - accuracy: 0.0000e+00\n"
     ]
    },
    {
     "name": "stderr",
     "output_type": "stream",
     "text": [
      "\r",
      " 31%|████████████████████████▌                                                       | 207/674 [17:01<51:48,  6.66s/it]"
     ]
    },
    {
     "name": "stdout",
     "output_type": "stream",
     "text": [
      "prev : like now : like word : thanksgiving\n",
      "1/1 [==============================] - 0s 3ms/step - loss: 4.2876 - accuracy: 0.0000e+00\n"
     ]
    },
    {
     "name": "stderr",
     "output_type": "stream",
     "text": [
      "\r",
      " 31%|████████████████████████▋                                                       | 208/674 [17:07<50:23,  6.49s/it]"
     ]
    },
    {
     "name": "stdout",
     "output_type": "stream",
     "text": [
      "prev : like now : like word : family\n",
      "1/1 [==============================] - 0s 3ms/step - loss: 4.8176 - accuracy: 0.0000e+00\n"
     ]
    },
    {
     "name": "stderr",
     "output_type": "stream",
     "text": [
      "\r",
      " 31%|████████████████████████▊                                                       | 209/674 [17:15<53:14,  6.87s/it]"
     ]
    },
    {
     "name": "stdout",
     "output_type": "stream",
     "text": [
      "prev : like now : like word : language\n",
      "1/1 [==============================] - 0s 3ms/step - loss: 4.4539 - accuracy: 0.0000e+00\n"
     ]
    },
    {
     "name": "stderr",
     "output_type": "stream",
     "text": [
      "\r",
      " 31%|████████████████████████▉                                                       | 210/674 [17:20<49:28,  6.40s/it]"
     ]
    },
    {
     "name": "stdout",
     "output_type": "stream",
     "text": [
      "prev : like now : like word : help\n",
      "1/1 [==============================] - 0s 3ms/step - loss: 4.0647 - accuracy: 0.0000e+00\n"
     ]
    },
    {
     "name": "stderr",
     "output_type": "stream",
     "text": [
      "\r",
      " 31%|█████████████████████████                                                       | 211/674 [17:26<47:57,  6.22s/it]"
     ]
    },
    {
     "name": "stdout",
     "output_type": "stream",
     "text": [
      "prev : like now : like word : go\n",
      "1/1 [==============================] - 0s 4ms/step - loss: 3.7398 - accuracy: 0.0000e+00\n"
     ]
    },
    {
     "name": "stderr",
     "output_type": "stream",
     "text": [
      "\r",
      " 31%|█████████████████████████▏                                                      | 212/674 [17:33<49:39,  6.45s/it]"
     ]
    },
    {
     "name": "stdout",
     "output_type": "stream",
     "text": [
      "prev : like now : like word : no\n",
      "1/1 [==============================] - 0s 2ms/step - loss: 3.9081 - accuracy: 0.0000e+00\n"
     ]
    },
    {
     "name": "stderr",
     "output_type": "stream",
     "text": [
      "\r",
      " 32%|█████████████████████████▎                                                      | 213/674 [17:37<44:26,  5.78s/it]"
     ]
    },
    {
     "name": "stdout",
     "output_type": "stream",
     "text": [
      "prev : like now : like word : what\n",
      "1/1 [==============================] - 0s 3ms/step - loss: 4.0123 - accuracy: 0.0000e+00\n"
     ]
    },
    {
     "name": "stderr",
     "output_type": "stream",
     "text": [
      "\r",
      " 32%|█████████████████████████▍                                                      | 214/674 [17:43<43:44,  5.71s/it]"
     ]
    },
    {
     "name": "stdout",
     "output_type": "stream",
     "text": [
      "prev : like now : like word : before\n",
      "1/1 [==============================] - 0s 3ms/step - loss: 4.0065 - accuracy: 0.0000e+00\n"
     ]
    },
    {
     "name": "stderr",
     "output_type": "stream",
     "text": [
      "\r",
      " 32%|█████████████████████████▌                                                      | 215/674 [17:46<37:08,  4.86s/it]"
     ]
    },
    {
     "name": "stdout",
     "output_type": "stream",
     "text": [
      "prev : like now : like word : before\n",
      "1/1 [==============================] - 0s 2ms/step - loss: 3.5951 - accuracy: 0.0000e+00\n"
     ]
    },
    {
     "name": "stderr",
     "output_type": "stream",
     "text": [
      "\r",
      " 32%|█████████████████████████▋                                                      | 216/674 [17:51<36:41,  4.81s/it]"
     ]
    },
    {
     "name": "stdout",
     "output_type": "stream",
     "text": [
      "prev : like now : like word : drink\n",
      "1/1 [==============================] - 0s 2ms/step - loss: 4.7099 - accuracy: 0.0000e+00\n"
     ]
    },
    {
     "name": "stderr",
     "output_type": "stream",
     "text": [
      "\r",
      " 32%|█████████████████████████▊                                                      | 217/674 [17:55<35:24,  4.65s/it]"
     ]
    },
    {
     "name": "stdout",
     "output_type": "stream",
     "text": [
      "prev : like now : like word : fish\n",
      "1/1 [==============================] - 0s 3ms/step - loss: 3.8667 - accuracy: 0.0000e+00\n"
     ]
    },
    {
     "name": "stderr",
     "output_type": "stream",
     "text": [
      "\r",
      " 32%|█████████████████████████▉                                                      | 218/674 [17:59<33:53,  4.46s/it]"
     ]
    },
    {
     "name": "stdout",
     "output_type": "stream",
     "text": [
      "prev : like now : like word : hat\n",
      "1/1 [==============================] - 0s 3ms/step - loss: 4.0523 - accuracy: 0.0000e+00\n"
     ]
    },
    {
     "name": "stderr",
     "output_type": "stream",
     "text": [
      "\r",
      " 32%|█████████████████████████▉                                                      | 219/674 [18:03<34:13,  4.51s/it]"
     ]
    },
    {
     "name": "stdout",
     "output_type": "stream",
     "text": [
      "prev : like now : like word : who\n",
      "1/1 [==============================] - 0s 5ms/step - loss: 4.2431 - accuracy: 0.0000e+00\n"
     ]
    },
    {
     "name": "stderr",
     "output_type": "stream",
     "text": [
      "\r",
      " 33%|██████████████████████████                                                      | 220/674 [18:07<31:57,  4.22s/it]"
     ]
    },
    {
     "name": "stdout",
     "output_type": "stream",
     "text": [
      "prev : like now : like word : family\n",
      "1/1 [==============================] - 0s 3ms/step - loss: 4.5686 - accuracy: 0.0000e+00\n"
     ]
    },
    {
     "name": "stderr",
     "output_type": "stream",
     "text": [
      "\r",
      " 33%|██████████████████████████▏                                                     | 221/674 [18:12<32:57,  4.37s/it]"
     ]
    },
    {
     "name": "stdout",
     "output_type": "stream",
     "text": [
      "prev : like now : like word : thanksgiving\n",
      "1/1 [==============================] - 0s 4ms/step - loss: 3.5781 - accuracy: 0.0000e+00\n"
     ]
    },
    {
     "name": "stderr",
     "output_type": "stream",
     "text": [
      "\r",
      " 33%|██████████████████████████▎                                                     | 222/674 [18:17<36:09,  4.80s/it]"
     ]
    },
    {
     "name": "stdout",
     "output_type": "stream",
     "text": [
      "prev : like now : like word : drink\n"
     ]
    },
    {
     "name": "stderr",
     "output_type": "stream",
     "text": [
      " 33%|██████████████████████████▎                                                     | 222/674 [18:22<37:24,  4.97s/it]\n"
     ]
    },
    {
     "ename": "KeyboardInterrupt",
     "evalue": "",
     "output_type": "error",
     "traceback": [
      "\u001b[1;31m---------------------------------------------------------------------------\u001b[0m",
      "\u001b[1;31mKeyboardInterrupt\u001b[0m                         Traceback (most recent call last)",
      "\u001b[1;32m<ipython-input-76-8222d0dc21af>\u001b[0m in \u001b[0;36m<module>\u001b[1;34m\u001b[0m\n\u001b[0;32m      5\u001b[0m     \u001b[1;32mfor\u001b[0m \u001b[0mi\u001b[0m \u001b[1;32min\u001b[0m \u001b[0mtqdm\u001b[0m\u001b[1;33m(\u001b[0m\u001b[0mrange\u001b[0m\u001b[1;33m(\u001b[0m\u001b[1;36m1\u001b[0m\u001b[1;33m,\u001b[0m\u001b[0mx_train\u001b[0m\u001b[1;33m.\u001b[0m\u001b[0mshape\u001b[0m\u001b[1;33m[\u001b[0m\u001b[1;36m0\u001b[0m\u001b[1;33m]\u001b[0m\u001b[1;33m)\u001b[0m\u001b[1;33m)\u001b[0m\u001b[1;33m:\u001b[0m\u001b[1;33m\u001b[0m\u001b[1;33m\u001b[0m\u001b[0m\n\u001b[0;32m      6\u001b[0m         \u001b[0mx_train_ind\u001b[0m\u001b[1;33m=\u001b[0m\u001b[0mnp\u001b[0m\u001b[1;33m.\u001b[0m\u001b[0mexpand_dims\u001b[0m\u001b[1;33m(\u001b[0m\u001b[0mx_train\u001b[0m\u001b[1;33m[\u001b[0m\u001b[0mi\u001b[0m\u001b[1;33m]\u001b[0m\u001b[1;33m,\u001b[0m\u001b[0maxis\u001b[0m\u001b[1;33m=\u001b[0m\u001b[1;36m0\u001b[0m\u001b[1;33m)\u001b[0m\u001b[1;33m\u001b[0m\u001b[1;33m\u001b[0m\u001b[0m\n\u001b[1;32m----> 7\u001b[1;33m         \u001b[0mmet\u001b[0m\u001b[1;33m=\u001b[0m\u001b[0mmodel\u001b[0m\u001b[1;33m.\u001b[0m\u001b[0mfit\u001b[0m\u001b[1;33m(\u001b[0m\u001b[0mnp\u001b[0m\u001b[1;33m.\u001b[0m\u001b[0masarray\u001b[0m\u001b[1;33m(\u001b[0m\u001b[0mx_train_ind\u001b[0m\u001b[1;33m)\u001b[0m\u001b[1;33m.\u001b[0m\u001b[0mastype\u001b[0m\u001b[1;33m(\u001b[0m\u001b[0mnp\u001b[0m\u001b[1;33m.\u001b[0m\u001b[0mfloat32\u001b[0m\u001b[1;33m)\u001b[0m\u001b[1;33m,\u001b[0m\u001b[0mnp\u001b[0m\u001b[1;33m.\u001b[0m\u001b[0masarray\u001b[0m\u001b[1;33m(\u001b[0m\u001b[0my_train\u001b[0m\u001b[1;33m[\u001b[0m\u001b[0mi\u001b[0m\u001b[1;33m]\u001b[0m\u001b[1;33m)\u001b[0m\u001b[1;33m.\u001b[0m\u001b[0mastype\u001b[0m\u001b[1;33m(\u001b[0m\u001b[0mnp\u001b[0m\u001b[1;33m.\u001b[0m\u001b[0mfloat32\u001b[0m\u001b[1;33m)\u001b[0m\u001b[1;33m,\u001b[0m\u001b[0mbatch_size\u001b[0m\u001b[1;33m=\u001b[0m\u001b[1;36m1\u001b[0m\u001b[1;33m,\u001b[0m\u001b[0mepochs\u001b[0m\u001b[1;33m=\u001b[0m\u001b[1;36m1\u001b[0m\u001b[1;33m)\u001b[0m\u001b[1;33m\u001b[0m\u001b[1;33m\u001b[0m\u001b[0m\n\u001b[0m\u001b[0;32m      8\u001b[0m         \u001b[0mtemp_pred\u001b[0m\u001b[1;33m=\u001b[0m\u001b[0mmodel\u001b[0m\u001b[1;33m.\u001b[0m\u001b[0mpredict\u001b[0m\u001b[1;33m(\u001b[0m\u001b[0mx_train_ind\u001b[0m\u001b[1;33m)\u001b[0m\u001b[1;33m\u001b[0m\u001b[1;33m\u001b[0m\u001b[0m\n\u001b[0;32m      9\u001b[0m         \u001b[0mx_train_ind\u001b[0m\u001b[1;33m=\u001b[0m\u001b[0mnp\u001b[0m\u001b[1;33m.\u001b[0m\u001b[0mexpand_dims\u001b[0m\u001b[1;33m(\u001b[0m\u001b[0mx_train\u001b[0m\u001b[1;33m[\u001b[0m\u001b[0mi\u001b[0m\u001b[1;33m-\u001b[0m\u001b[1;36m1\u001b[0m\u001b[1;33m]\u001b[0m\u001b[1;33m,\u001b[0m\u001b[0maxis\u001b[0m\u001b[1;33m=\u001b[0m\u001b[1;36m0\u001b[0m\u001b[1;33m)\u001b[0m\u001b[1;33m\u001b[0m\u001b[1;33m\u001b[0m\u001b[0m\n",
      "\u001b[1;32m~\\anaconda3\\lib\\site-packages\\tensorflow\\python\\keras\\engine\\training.py\u001b[0m in \u001b[0;36m_method_wrapper\u001b[1;34m(self, *args, **kwargs)\u001b[0m\n\u001b[0;32m    106\u001b[0m   \u001b[1;32mdef\u001b[0m \u001b[0m_method_wrapper\u001b[0m\u001b[1;33m(\u001b[0m\u001b[0mself\u001b[0m\u001b[1;33m,\u001b[0m \u001b[1;33m*\u001b[0m\u001b[0margs\u001b[0m\u001b[1;33m,\u001b[0m \u001b[1;33m**\u001b[0m\u001b[0mkwargs\u001b[0m\u001b[1;33m)\u001b[0m\u001b[1;33m:\u001b[0m\u001b[1;33m\u001b[0m\u001b[1;33m\u001b[0m\u001b[0m\n\u001b[0;32m    107\u001b[0m     \u001b[1;32mif\u001b[0m \u001b[1;32mnot\u001b[0m \u001b[0mself\u001b[0m\u001b[1;33m.\u001b[0m\u001b[0m_in_multi_worker_mode\u001b[0m\u001b[1;33m(\u001b[0m\u001b[1;33m)\u001b[0m\u001b[1;33m:\u001b[0m  \u001b[1;31m# pylint: disable=protected-access\u001b[0m\u001b[1;33m\u001b[0m\u001b[1;33m\u001b[0m\u001b[0m\n\u001b[1;32m--> 108\u001b[1;33m       \u001b[1;32mreturn\u001b[0m \u001b[0mmethod\u001b[0m\u001b[1;33m(\u001b[0m\u001b[0mself\u001b[0m\u001b[1;33m,\u001b[0m \u001b[1;33m*\u001b[0m\u001b[0margs\u001b[0m\u001b[1;33m,\u001b[0m \u001b[1;33m**\u001b[0m\u001b[0mkwargs\u001b[0m\u001b[1;33m)\u001b[0m\u001b[1;33m\u001b[0m\u001b[1;33m\u001b[0m\u001b[0m\n\u001b[0m\u001b[0;32m    109\u001b[0m \u001b[1;33m\u001b[0m\u001b[0m\n\u001b[0;32m    110\u001b[0m     \u001b[1;31m# Running inside `run_distribute_coordinator` already.\u001b[0m\u001b[1;33m\u001b[0m\u001b[1;33m\u001b[0m\u001b[1;33m\u001b[0m\u001b[0m\n",
      "\u001b[1;32m~\\anaconda3\\lib\\site-packages\\tensorflow\\python\\keras\\engine\\training.py\u001b[0m in \u001b[0;36mfit\u001b[1;34m(self, x, y, batch_size, epochs, verbose, callbacks, validation_split, validation_data, shuffle, class_weight, sample_weight, initial_epoch, steps_per_epoch, validation_steps, validation_batch_size, validation_freq, max_queue_size, workers, use_multiprocessing)\u001b[0m\n\u001b[0;32m   1096\u001b[0m                 batch_size=batch_size):\n\u001b[0;32m   1097\u001b[0m               \u001b[0mcallbacks\u001b[0m\u001b[1;33m.\u001b[0m\u001b[0mon_train_batch_begin\u001b[0m\u001b[1;33m(\u001b[0m\u001b[0mstep\u001b[0m\u001b[1;33m)\u001b[0m\u001b[1;33m\u001b[0m\u001b[1;33m\u001b[0m\u001b[0m\n\u001b[1;32m-> 1098\u001b[1;33m               \u001b[0mtmp_logs\u001b[0m \u001b[1;33m=\u001b[0m \u001b[0mtrain_function\u001b[0m\u001b[1;33m(\u001b[0m\u001b[0miterator\u001b[0m\u001b[1;33m)\u001b[0m\u001b[1;33m\u001b[0m\u001b[1;33m\u001b[0m\u001b[0m\n\u001b[0m\u001b[0;32m   1099\u001b[0m               \u001b[1;32mif\u001b[0m \u001b[0mdata_handler\u001b[0m\u001b[1;33m.\u001b[0m\u001b[0mshould_sync\u001b[0m\u001b[1;33m:\u001b[0m\u001b[1;33m\u001b[0m\u001b[1;33m\u001b[0m\u001b[0m\n\u001b[0;32m   1100\u001b[0m                 \u001b[0mcontext\u001b[0m\u001b[1;33m.\u001b[0m\u001b[0masync_wait\u001b[0m\u001b[1;33m(\u001b[0m\u001b[1;33m)\u001b[0m\u001b[1;33m\u001b[0m\u001b[1;33m\u001b[0m\u001b[0m\n",
      "\u001b[1;32m~\\anaconda3\\lib\\site-packages\\tensorflow\\python\\eager\\def_function.py\u001b[0m in \u001b[0;36m__call__\u001b[1;34m(self, *args, **kwds)\u001b[0m\n\u001b[0;32m    778\u001b[0m       \u001b[1;32melse\u001b[0m\u001b[1;33m:\u001b[0m\u001b[1;33m\u001b[0m\u001b[1;33m\u001b[0m\u001b[0m\n\u001b[0;32m    779\u001b[0m         \u001b[0mcompiler\u001b[0m \u001b[1;33m=\u001b[0m \u001b[1;34m\"nonXla\"\u001b[0m\u001b[1;33m\u001b[0m\u001b[1;33m\u001b[0m\u001b[0m\n\u001b[1;32m--> 780\u001b[1;33m         \u001b[0mresult\u001b[0m \u001b[1;33m=\u001b[0m \u001b[0mself\u001b[0m\u001b[1;33m.\u001b[0m\u001b[0m_call\u001b[0m\u001b[1;33m(\u001b[0m\u001b[1;33m*\u001b[0m\u001b[0margs\u001b[0m\u001b[1;33m,\u001b[0m \u001b[1;33m**\u001b[0m\u001b[0mkwds\u001b[0m\u001b[1;33m)\u001b[0m\u001b[1;33m\u001b[0m\u001b[1;33m\u001b[0m\u001b[0m\n\u001b[0m\u001b[0;32m    781\u001b[0m \u001b[1;33m\u001b[0m\u001b[0m\n\u001b[0;32m    782\u001b[0m       \u001b[0mnew_tracing_count\u001b[0m \u001b[1;33m=\u001b[0m \u001b[0mself\u001b[0m\u001b[1;33m.\u001b[0m\u001b[0m_get_tracing_count\u001b[0m\u001b[1;33m(\u001b[0m\u001b[1;33m)\u001b[0m\u001b[1;33m\u001b[0m\u001b[1;33m\u001b[0m\u001b[0m\n",
      "\u001b[1;32m~\\anaconda3\\lib\\site-packages\\tensorflow\\python\\eager\\def_function.py\u001b[0m in \u001b[0;36m_call\u001b[1;34m(self, *args, **kwds)\u001b[0m\n\u001b[0;32m    805\u001b[0m       \u001b[1;31m# In this case we have created variables on the first call, so we run the\u001b[0m\u001b[1;33m\u001b[0m\u001b[1;33m\u001b[0m\u001b[1;33m\u001b[0m\u001b[0m\n\u001b[0;32m    806\u001b[0m       \u001b[1;31m# defunned version which is guaranteed to never create variables.\u001b[0m\u001b[1;33m\u001b[0m\u001b[1;33m\u001b[0m\u001b[1;33m\u001b[0m\u001b[0m\n\u001b[1;32m--> 807\u001b[1;33m       \u001b[1;32mreturn\u001b[0m \u001b[0mself\u001b[0m\u001b[1;33m.\u001b[0m\u001b[0m_stateless_fn\u001b[0m\u001b[1;33m(\u001b[0m\u001b[1;33m*\u001b[0m\u001b[0margs\u001b[0m\u001b[1;33m,\u001b[0m \u001b[1;33m**\u001b[0m\u001b[0mkwds\u001b[0m\u001b[1;33m)\u001b[0m  \u001b[1;31m# pylint: disable=not-callable\u001b[0m\u001b[1;33m\u001b[0m\u001b[1;33m\u001b[0m\u001b[0m\n\u001b[0m\u001b[0;32m    808\u001b[0m     \u001b[1;32melif\u001b[0m \u001b[0mself\u001b[0m\u001b[1;33m.\u001b[0m\u001b[0m_stateful_fn\u001b[0m \u001b[1;32mis\u001b[0m \u001b[1;32mnot\u001b[0m \u001b[1;32mNone\u001b[0m\u001b[1;33m:\u001b[0m\u001b[1;33m\u001b[0m\u001b[1;33m\u001b[0m\u001b[0m\n\u001b[0;32m    809\u001b[0m       \u001b[1;31m# Release the lock early so that multiple threads can perform the call\u001b[0m\u001b[1;33m\u001b[0m\u001b[1;33m\u001b[0m\u001b[1;33m\u001b[0m\u001b[0m\n",
      "\u001b[1;32m~\\anaconda3\\lib\\site-packages\\tensorflow\\python\\eager\\function.py\u001b[0m in \u001b[0;36m__call__\u001b[1;34m(self, *args, **kwargs)\u001b[0m\n\u001b[0;32m   2827\u001b[0m     \u001b[1;32mwith\u001b[0m \u001b[0mself\u001b[0m\u001b[1;33m.\u001b[0m\u001b[0m_lock\u001b[0m\u001b[1;33m:\u001b[0m\u001b[1;33m\u001b[0m\u001b[1;33m\u001b[0m\u001b[0m\n\u001b[0;32m   2828\u001b[0m       \u001b[0mgraph_function\u001b[0m\u001b[1;33m,\u001b[0m \u001b[0margs\u001b[0m\u001b[1;33m,\u001b[0m \u001b[0mkwargs\u001b[0m \u001b[1;33m=\u001b[0m \u001b[0mself\u001b[0m\u001b[1;33m.\u001b[0m\u001b[0m_maybe_define_function\u001b[0m\u001b[1;33m(\u001b[0m\u001b[0margs\u001b[0m\u001b[1;33m,\u001b[0m \u001b[0mkwargs\u001b[0m\u001b[1;33m)\u001b[0m\u001b[1;33m\u001b[0m\u001b[1;33m\u001b[0m\u001b[0m\n\u001b[1;32m-> 2829\u001b[1;33m     \u001b[1;32mreturn\u001b[0m \u001b[0mgraph_function\u001b[0m\u001b[1;33m.\u001b[0m\u001b[0m_filtered_call\u001b[0m\u001b[1;33m(\u001b[0m\u001b[0margs\u001b[0m\u001b[1;33m,\u001b[0m \u001b[0mkwargs\u001b[0m\u001b[1;33m)\u001b[0m  \u001b[1;31m# pylint: disable=protected-access\u001b[0m\u001b[1;33m\u001b[0m\u001b[1;33m\u001b[0m\u001b[0m\n\u001b[0m\u001b[0;32m   2830\u001b[0m \u001b[1;33m\u001b[0m\u001b[0m\n\u001b[0;32m   2831\u001b[0m   \u001b[1;33m@\u001b[0m\u001b[0mproperty\u001b[0m\u001b[1;33m\u001b[0m\u001b[1;33m\u001b[0m\u001b[0m\n",
      "\u001b[1;32m~\\anaconda3\\lib\\site-packages\\tensorflow\\python\\eager\\function.py\u001b[0m in \u001b[0;36m_filtered_call\u001b[1;34m(self, args, kwargs, cancellation_manager)\u001b[0m\n\u001b[0;32m   1846\u001b[0m                            resource_variable_ops.BaseResourceVariable))],\n\u001b[0;32m   1847\u001b[0m         \u001b[0mcaptured_inputs\u001b[0m\u001b[1;33m=\u001b[0m\u001b[0mself\u001b[0m\u001b[1;33m.\u001b[0m\u001b[0mcaptured_inputs\u001b[0m\u001b[1;33m,\u001b[0m\u001b[1;33m\u001b[0m\u001b[1;33m\u001b[0m\u001b[0m\n\u001b[1;32m-> 1848\u001b[1;33m         cancellation_manager=cancellation_manager)\n\u001b[0m\u001b[0;32m   1849\u001b[0m \u001b[1;33m\u001b[0m\u001b[0m\n\u001b[0;32m   1850\u001b[0m   \u001b[1;32mdef\u001b[0m \u001b[0m_call_flat\u001b[0m\u001b[1;33m(\u001b[0m\u001b[0mself\u001b[0m\u001b[1;33m,\u001b[0m \u001b[0margs\u001b[0m\u001b[1;33m,\u001b[0m \u001b[0mcaptured_inputs\u001b[0m\u001b[1;33m,\u001b[0m \u001b[0mcancellation_manager\u001b[0m\u001b[1;33m=\u001b[0m\u001b[1;32mNone\u001b[0m\u001b[1;33m)\u001b[0m\u001b[1;33m:\u001b[0m\u001b[1;33m\u001b[0m\u001b[1;33m\u001b[0m\u001b[0m\n",
      "\u001b[1;32m~\\anaconda3\\lib\\site-packages\\tensorflow\\python\\eager\\function.py\u001b[0m in \u001b[0;36m_call_flat\u001b[1;34m(self, args, captured_inputs, cancellation_manager)\u001b[0m\n\u001b[0;32m   1922\u001b[0m       \u001b[1;31m# No tape is watching; skip to running the function.\u001b[0m\u001b[1;33m\u001b[0m\u001b[1;33m\u001b[0m\u001b[1;33m\u001b[0m\u001b[0m\n\u001b[0;32m   1923\u001b[0m       return self._build_call_outputs(self._inference_function.call(\n\u001b[1;32m-> 1924\u001b[1;33m           ctx, args, cancellation_manager=cancellation_manager))\n\u001b[0m\u001b[0;32m   1925\u001b[0m     forward_backward = self._select_forward_and_backward_functions(\n\u001b[0;32m   1926\u001b[0m         \u001b[0margs\u001b[0m\u001b[1;33m,\u001b[0m\u001b[1;33m\u001b[0m\u001b[1;33m\u001b[0m\u001b[0m\n",
      "\u001b[1;32m~\\anaconda3\\lib\\site-packages\\tensorflow\\python\\eager\\function.py\u001b[0m in \u001b[0;36mcall\u001b[1;34m(self, ctx, args, cancellation_manager)\u001b[0m\n\u001b[0;32m    548\u001b[0m               \u001b[0minputs\u001b[0m\u001b[1;33m=\u001b[0m\u001b[0margs\u001b[0m\u001b[1;33m,\u001b[0m\u001b[1;33m\u001b[0m\u001b[1;33m\u001b[0m\u001b[0m\n\u001b[0;32m    549\u001b[0m               \u001b[0mattrs\u001b[0m\u001b[1;33m=\u001b[0m\u001b[0mattrs\u001b[0m\u001b[1;33m,\u001b[0m\u001b[1;33m\u001b[0m\u001b[1;33m\u001b[0m\u001b[0m\n\u001b[1;32m--> 550\u001b[1;33m               ctx=ctx)\n\u001b[0m\u001b[0;32m    551\u001b[0m         \u001b[1;32melse\u001b[0m\u001b[1;33m:\u001b[0m\u001b[1;33m\u001b[0m\u001b[1;33m\u001b[0m\u001b[0m\n\u001b[0;32m    552\u001b[0m           outputs = execute.execute_with_cancellation(\n",
      "\u001b[1;32m~\\anaconda3\\lib\\site-packages\\tensorflow\\python\\eager\\execute.py\u001b[0m in \u001b[0;36mquick_execute\u001b[1;34m(op_name, num_outputs, inputs, attrs, ctx, name)\u001b[0m\n\u001b[0;32m     58\u001b[0m     \u001b[0mctx\u001b[0m\u001b[1;33m.\u001b[0m\u001b[0mensure_initialized\u001b[0m\u001b[1;33m(\u001b[0m\u001b[1;33m)\u001b[0m\u001b[1;33m\u001b[0m\u001b[1;33m\u001b[0m\u001b[0m\n\u001b[0;32m     59\u001b[0m     tensors = pywrap_tfe.TFE_Py_Execute(ctx._handle, device_name, op_name,\n\u001b[1;32m---> 60\u001b[1;33m                                         inputs, attrs, num_outputs)\n\u001b[0m\u001b[0;32m     61\u001b[0m   \u001b[1;32mexcept\u001b[0m \u001b[0mcore\u001b[0m\u001b[1;33m.\u001b[0m\u001b[0m_NotOkStatusException\u001b[0m \u001b[1;32mas\u001b[0m \u001b[0me\u001b[0m\u001b[1;33m:\u001b[0m\u001b[1;33m\u001b[0m\u001b[1;33m\u001b[0m\u001b[0m\n\u001b[0;32m     62\u001b[0m     \u001b[1;32mif\u001b[0m \u001b[0mname\u001b[0m \u001b[1;32mis\u001b[0m \u001b[1;32mnot\u001b[0m \u001b[1;32mNone\u001b[0m\u001b[1;33m:\u001b[0m\u001b[1;33m\u001b[0m\u001b[1;33m\u001b[0m\u001b[0m\n",
      "\u001b[1;31mKeyboardInterrupt\u001b[0m: "
     ]
    },
    {
     "data": {
      "image/png": "[encoded data removed]",
      "text/plain": [
       "<Figure size 432x288 with 1 Axes>"
      ]
     },
     "metadata": {
      "needs_background": "light"
     },
     "output_type": "display_data"
    }
   ],
   "source": [
    "error=[]\n",
    "accuracy=[]\n",
    "for epoch in range(5):\n",
    "    print(\"epoch\",epoch)\n",
    "    for i in tqdm(range(1,x_train.shape[0])):\n",
    "        x_train_ind=np.expand_dims(x_train[i],axis=0)\n",
    "        met=model.fit(np.asarray(x_train_ind).astype(np.float32),np.asarray(y_train[i]).astype(np.float32),batch_size=1,epochs=1)\n",
    "        temp_pred=model.predict(x_train_ind)\n",
    "        x_train_ind=np.expand_dims(x_train[i-1],axis=0)\n",
    "        temp_pred_prev=model.predict(x_train_ind)\n",
    "        print(\"prev :\",     words[np.argmax(temp_pred_prev)],\"now :\",words[np.argmax(temp_pred_prev)],\"word :\" ,y_words_train[i])\n",
    "        error.append(met.history['loss'])\n",
    "        if(i%5==0):\n",
    "            plt.plot(error)\n",
    "        "
   ]
  },
  {
   "cell_type": "code",
   "execution_count": 21,
   "metadata": {},
   "outputs": [],
   "source": [
    "#model.save(\"capstone-Model-cnn-V2-onehotencoding.h5\")"
   ]
  },
  {
   "cell_type": "code",
   "execution_count": 22,
   "metadata": {},
   "outputs": [
    {
     "data": {
      "text/plain": [
       "array([1.0, 0.0, 0.0, 0.0, 0.0, 0.0, 0.0, 0.0, 0.0, 0.0, 0.0, 0.0, 0.0,\n",
       "       0.0, 0.0, 0.0, 0.0, 0.0, 0.0, 0.0, 0.0, 0.0, 0.0, 0.0, 0.0, 0.0,\n",
       "       0.0, 0.0, 0.0, 0.0, 0.0, 0.0, 0.0, 0.0, 0.0, 0.0, 0.0, 0.0, 0.0,\n",
       "       0.0, 0.0, 0.0, 0.0, 0.0, 0.0, 0.0, 0.0, 0.0, 0.0, 0.0],\n",
       "      dtype=object)"
      ]
     },
     "execution_count": 22,
     "metadata": {},
     "output_type": "execute_result"
    }
   ],
   "source": [
    "np.array(ed.iloc[0][:-1])"
   ]
  },
  {
   "cell_type": "code",
   "execution_count": 23,
   "metadata": {},
   "outputs": [],
   "source": [
    "x_train_ind=np.expand_dims(x_train[0],axis=0)\n",
    "pred=model.predict(x_train_ind)"
   ]
  },
  {
   "cell_type": "code",
   "execution_count": null,
   "metadata": {},
   "outputs": [],
   "source": []
  },
  {
   "cell_type": "code",
   "execution_count": 24,
   "metadata": {},
   "outputs": [
    {
     "name": "stderr",
     "output_type": "stream",
     "text": [
      "100%|████████████████████████████████████████████████████████████████████████████████| 675/675 [39:45<00:00,  3.53s/it]\n"
     ]
    }
   ],
   "source": [
    "x_train_pred=[]\n",
    "for i in tqdm(range(x_train.shape[0])):\n",
    "    x_train_ind=np.expand_dims(x_train[i],axis=0)\n",
    "    pred=model.predict(x_train_ind)\n",
    "    pred=words[np.argmax(pred)]\n",
    "    x_train_pred.append(pred)\n",
    "    \n",
    "    \n",
    "    "
   ]
  },
  {
   "cell_type": "code",
   "execution_count": 25,
   "metadata": {},
   "outputs": [
    {
     "data": {
      "text/plain": [
       "['drink',\n",
       " 'drink',\n",
       " 'drink',\n",
       " 'drink',\n",
       " 'drink',\n",
       " 'drink',\n",
       " 'drink',\n",
       " 'drink',\n",
       " 'drink',\n",
       " 'drink',\n",
       " 'drink',\n",
       " 'drink',\n",
       " 'drink',\n",
       " 'drink',\n",
       " 'drink',\n",
       " 'drink',\n",
       " 'drink',\n",
       " 'drink',\n",
       " 'drink',\n",
       " 'drink',\n",
       " 'drink',\n",
       " 'drink',\n",
       " 'drink',\n",
       " 'drink',\n",
       " 'drink',\n",
       " 'drink',\n",
       " 'drink',\n",
       " 'drink',\n",
       " 'drink',\n",
       " 'drink',\n",
       " 'drink',\n",
       " 'drink',\n",
       " 'drink',\n",
       " 'drink',\n",
       " 'drink',\n",
       " 'drink',\n",
       " 'drink',\n",
       " 'drink',\n",
       " 'drink',\n",
       " 'drink',\n",
       " 'drink',\n",
       " 'drink',\n",
       " 'drink',\n",
       " 'drink',\n",
       " 'drink',\n",
       " 'drink',\n",
       " 'drink',\n",
       " 'drink',\n",
       " 'drink',\n",
       " 'drink',\n",
       " 'drink',\n",
       " 'drink',\n",
       " 'drink',\n",
       " 'drink',\n",
       " 'drink',\n",
       " 'drink',\n",
       " 'drink',\n",
       " 'drink',\n",
       " 'drink',\n",
       " 'drink',\n",
       " 'drink',\n",
       " 'drink',\n",
       " 'drink',\n",
       " 'drink',\n",
       " 'drink',\n",
       " 'drink',\n",
       " 'drink',\n",
       " 'drink',\n",
       " 'drink',\n",
       " 'drink',\n",
       " 'drink',\n",
       " 'drink',\n",
       " 'drink',\n",
       " 'drink',\n",
       " 'drink',\n",
       " 'drink',\n",
       " 'drink',\n",
       " 'drink',\n",
       " 'drink',\n",
       " 'drink',\n",
       " 'drink',\n",
       " 'drink',\n",
       " 'drink',\n",
       " 'drink',\n",
       " 'drink',\n",
       " 'drink',\n",
       " 'drink',\n",
       " 'drink',\n",
       " 'drink',\n",
       " 'drink',\n",
       " 'drink',\n",
       " 'drink',\n",
       " 'drink',\n",
       " 'drink',\n",
       " 'drink',\n",
       " 'drink',\n",
       " 'drink',\n",
       " 'drink',\n",
       " 'drink',\n",
       " 'drink',\n",
       " 'drink',\n",
       " 'drink',\n",
       " 'drink',\n",
       " 'drink',\n",
       " 'drink',\n",
       " 'drink',\n",
       " 'drink',\n",
       " 'drink',\n",
       " 'drink',\n",
       " 'drink',\n",
       " 'drink',\n",
       " 'drink',\n",
       " 'drink',\n",
       " 'drink',\n",
       " 'drink',\n",
       " 'drink',\n",
       " 'drink',\n",
       " 'drink',\n",
       " 'drink',\n",
       " 'drink',\n",
       " 'drink',\n",
       " 'drink',\n",
       " 'drink',\n",
       " 'drink',\n",
       " 'drink',\n",
       " 'drink',\n",
       " 'drink',\n",
       " 'drink',\n",
       " 'drink',\n",
       " 'drink',\n",
       " 'drink',\n",
       " 'drink',\n",
       " 'drink',\n",
       " 'drink',\n",
       " 'drink',\n",
       " 'drink',\n",
       " 'drink',\n",
       " 'drink',\n",
       " 'drink',\n",
       " 'drink',\n",
       " 'drink',\n",
       " 'drink',\n",
       " 'drink',\n",
       " 'drink',\n",
       " 'drink',\n",
       " 'drink',\n",
       " 'drink',\n",
       " 'drink',\n",
       " 'drink',\n",
       " 'drink',\n",
       " 'drink',\n",
       " 'drink',\n",
       " 'drink',\n",
       " 'drink',\n",
       " 'drink',\n",
       " 'drink',\n",
       " 'drink',\n",
       " 'drink',\n",
       " 'drink',\n",
       " 'drink',\n",
       " 'drink',\n",
       " 'drink',\n",
       " 'drink',\n",
       " 'drink',\n",
       " 'drink',\n",
       " 'drink',\n",
       " 'drink',\n",
       " 'drink',\n",
       " 'drink',\n",
       " 'drink',\n",
       " 'drink',\n",
       " 'drink',\n",
       " 'drink',\n",
       " 'drink',\n",
       " 'drink',\n",
       " 'drink',\n",
       " 'drink',\n",
       " 'drink',\n",
       " 'drink',\n",
       " 'drink',\n",
       " 'drink',\n",
       " 'drink',\n",
       " 'drink',\n",
       " 'drink',\n",
       " 'drink',\n",
       " 'drink',\n",
       " 'drink',\n",
       " 'drink',\n",
       " 'drink',\n",
       " 'drink',\n",
       " 'drink',\n",
       " 'drink',\n",
       " 'drink',\n",
       " 'drink',\n",
       " 'drink',\n",
       " 'drink',\n",
       " 'drink',\n",
       " 'drink',\n",
       " 'drink',\n",
       " 'drink',\n",
       " 'drink',\n",
       " 'drink',\n",
       " 'drink',\n",
       " 'drink',\n",
       " 'drink',\n",
       " 'drink',\n",
       " 'drink',\n",
       " 'drink',\n",
       " 'drink',\n",
       " 'drink',\n",
       " 'drink',\n",
       " 'drink',\n",
       " 'drink',\n",
       " 'drink',\n",
       " 'drink',\n",
       " 'drink',\n",
       " 'drink',\n",
       " 'drink',\n",
       " 'drink',\n",
       " 'drink',\n",
       " 'drink',\n",
       " 'drink',\n",
       " 'drink',\n",
       " 'drink',\n",
       " 'drink',\n",
       " 'drink',\n",
       " 'drink',\n",
       " 'drink',\n",
       " 'drink',\n",
       " 'drink',\n",
       " 'drink',\n",
       " 'drink',\n",
       " 'drink',\n",
       " 'drink',\n",
       " 'drink',\n",
       " 'drink',\n",
       " 'drink',\n",
       " 'drink',\n",
       " 'drink',\n",
       " 'drink',\n",
       " 'drink',\n",
       " 'drink',\n",
       " 'drink',\n",
       " 'drink',\n",
       " 'drink',\n",
       " 'drink',\n",
       " 'drink',\n",
       " 'drink',\n",
       " 'drink',\n",
       " 'drink',\n",
       " 'drink',\n",
       " 'drink',\n",
       " 'drink',\n",
       " 'drink',\n",
       " 'drink',\n",
       " 'drink',\n",
       " 'drink',\n",
       " 'drink',\n",
       " 'drink',\n",
       " 'drink',\n",
       " 'drink',\n",
       " 'drink',\n",
       " 'drink',\n",
       " 'drink',\n",
       " 'drink',\n",
       " 'drink',\n",
       " 'drink',\n",
       " 'drink',\n",
       " 'drink',\n",
       " 'drink',\n",
       " 'drink',\n",
       " 'drink',\n",
       " 'drink',\n",
       " 'drink',\n",
       " 'drink',\n",
       " 'drink',\n",
       " 'drink',\n",
       " 'drink',\n",
       " 'drink',\n",
       " 'drink',\n",
       " 'drink',\n",
       " 'drink',\n",
       " 'drink',\n",
       " 'drink',\n",
       " 'drink',\n",
       " 'hearing',\n",
       " 'drink',\n",
       " 'drink',\n",
       " 'drink',\n",
       " 'drink',\n",
       " 'drink',\n",
       " 'drink',\n",
       " 'drink',\n",
       " 'drink',\n",
       " 'drink',\n",
       " 'drink',\n",
       " 'drink',\n",
       " 'drink',\n",
       " 'drink',\n",
       " 'drink',\n",
       " 'drink',\n",
       " 'drink',\n",
       " 'drink',\n",
       " 'drink',\n",
       " 'drink',\n",
       " 'drink',\n",
       " 'drink',\n",
       " 'drink',\n",
       " 'drink',\n",
       " 'drink',\n",
       " 'drink',\n",
       " 'drink',\n",
       " 'drink',\n",
       " 'drink',\n",
       " 'drink',\n",
       " 'drink',\n",
       " 'drink',\n",
       " 'drink',\n",
       " 'drink',\n",
       " 'drink',\n",
       " 'drink',\n",
       " 'drink',\n",
       " 'drink',\n",
       " 'drink',\n",
       " 'drink',\n",
       " 'drink',\n",
       " 'drink',\n",
       " 'drink',\n",
       " 'drink',\n",
       " 'drink',\n",
       " 'drink',\n",
       " 'drink',\n",
       " 'drink',\n",
       " 'drink',\n",
       " 'drink',\n",
       " 'drink',\n",
       " 'drink',\n",
       " 'drink',\n",
       " 'drink',\n",
       " 'drink',\n",
       " 'drink',\n",
       " 'drink',\n",
       " 'drink',\n",
       " 'drink',\n",
       " 'drink',\n",
       " 'drink',\n",
       " 'drink',\n",
       " 'drink',\n",
       " 'drink',\n",
       " 'drink',\n",
       " 'drink',\n",
       " 'drink',\n",
       " 'drink',\n",
       " 'drink',\n",
       " 'drink',\n",
       " 'drink',\n",
       " 'drink',\n",
       " 'drink',\n",
       " 'drink',\n",
       " 'drink',\n",
       " 'drink',\n",
       " 'drink',\n",
       " 'drink',\n",
       " 'drink',\n",
       " 'drink',\n",
       " 'drink',\n",
       " 'drink',\n",
       " 'drink',\n",
       " 'drink',\n",
       " 'drink',\n",
       " 'drink',\n",
       " 'drink',\n",
       " 'drink',\n",
       " 'drink',\n",
       " 'drink',\n",
       " 'drink',\n",
       " 'drink',\n",
       " 'drink',\n",
       " 'drink',\n",
       " 'drink',\n",
       " 'drink',\n",
       " 'drink',\n",
       " 'drink',\n",
       " 'drink',\n",
       " 'drink',\n",
       " 'drink',\n",
       " 'drink',\n",
       " 'drink',\n",
       " 'drink',\n",
       " 'drink',\n",
       " 'drink',\n",
       " 'drink',\n",
       " 'drink',\n",
       " 'drink',\n",
       " 'drink',\n",
       " 'drink',\n",
       " 'drink',\n",
       " 'drink',\n",
       " 'drink',\n",
       " 'drink',\n",
       " 'drink',\n",
       " 'drink',\n",
       " 'drink',\n",
       " 'drink',\n",
       " 'drink',\n",
       " 'drink',\n",
       " 'drink',\n",
       " 'drink',\n",
       " 'drink',\n",
       " 'drink',\n",
       " 'drink',\n",
       " 'drink',\n",
       " 'drink',\n",
       " 'drink',\n",
       " 'drink',\n",
       " 'drink',\n",
       " 'drink',\n",
       " 'drink',\n",
       " 'drink',\n",
       " 'drink',\n",
       " 'drink',\n",
       " 'drink',\n",
       " 'drink',\n",
       " 'drink',\n",
       " 'drink',\n",
       " 'drink',\n",
       " 'drink',\n",
       " 'drink',\n",
       " 'drink',\n",
       " 'drink',\n",
       " 'drink',\n",
       " 'drink',\n",
       " 'drink',\n",
       " 'drink',\n",
       " 'drink',\n",
       " 'drink',\n",
       " 'drink',\n",
       " 'drink',\n",
       " 'drink',\n",
       " 'drink',\n",
       " 'drink',\n",
       " 'drink',\n",
       " 'drink',\n",
       " 'drink',\n",
       " 'drink',\n",
       " 'drink',\n",
       " 'drink',\n",
       " 'drink',\n",
       " 'drink',\n",
       " 'drink',\n",
       " 'drink',\n",
       " 'drink',\n",
       " 'drink',\n",
       " 'drink',\n",
       " 'drink',\n",
       " 'drink',\n",
       " 'drink',\n",
       " 'drink',\n",
       " 'drink',\n",
       " 'drink',\n",
       " 'drink',\n",
       " 'drink',\n",
       " 'drink',\n",
       " 'drink',\n",
       " 'drink',\n",
       " 'drink',\n",
       " 'drink',\n",
       " 'drink',\n",
       " 'drink',\n",
       " 'drink',\n",
       " 'drink',\n",
       " 'drink',\n",
       " 'drink',\n",
       " 'drink',\n",
       " 'drink',\n",
       " 'drink',\n",
       " 'drink',\n",
       " 'drink',\n",
       " 'drink',\n",
       " 'drink',\n",
       " 'drink',\n",
       " 'drink',\n",
       " 'drink',\n",
       " 'drink',\n",
       " 'drink',\n",
       " 'drink',\n",
       " 'drink',\n",
       " 'drink',\n",
       " 'drink',\n",
       " 'drink',\n",
       " 'drink',\n",
       " 'drink',\n",
       " 'drink',\n",
       " 'drink',\n",
       " 'drink',\n",
       " 'drink',\n",
       " 'drink',\n",
       " 'drink',\n",
       " 'drink',\n",
       " 'drink',\n",
       " 'drink',\n",
       " 'drink',\n",
       " 'drink',\n",
       " 'drink',\n",
       " 'drink',\n",
       " 'drink',\n",
       " 'drink',\n",
       " 'drink',\n",
       " 'drink',\n",
       " 'drink',\n",
       " 'drink',\n",
       " 'drink',\n",
       " 'drink',\n",
       " 'drink',\n",
       " 'drink',\n",
       " 'drink',\n",
       " 'drink',\n",
       " 'drink',\n",
       " 'drink',\n",
       " 'drink',\n",
       " 'drink',\n",
       " 'drink',\n",
       " 'drink',\n",
       " 'drink',\n",
       " 'drink',\n",
       " 'drink',\n",
       " 'drink',\n",
       " 'drink',\n",
       " 'drink',\n",
       " 'drink',\n",
       " 'drink',\n",
       " 'drink',\n",
       " 'drink',\n",
       " 'drink',\n",
       " 'drink',\n",
       " 'drink',\n",
       " 'drink',\n",
       " 'drink',\n",
       " 'drink',\n",
       " 'drink',\n",
       " 'drink',\n",
       " 'drink',\n",
       " 'drink',\n",
       " 'drink',\n",
       " 'drink',\n",
       " 'drink',\n",
       " 'drink',\n",
       " 'drink',\n",
       " 'drink',\n",
       " 'drink',\n",
       " 'drink',\n",
       " 'drink',\n",
       " 'drink',\n",
       " 'drink',\n",
       " 'drink',\n",
       " 'drink',\n",
       " 'drink',\n",
       " 'drink',\n",
       " 'drink',\n",
       " 'drink',\n",
       " 'drink',\n",
       " 'drink',\n",
       " 'drink',\n",
       " 'drink',\n",
       " 'drink',\n",
       " 'drink',\n",
       " 'drink',\n",
       " 'drink',\n",
       " 'drink',\n",
       " 'drink',\n",
       " 'drink',\n",
       " 'drink',\n",
       " 'drink',\n",
       " 'drink',\n",
       " 'drink',\n",
       " 'drink',\n",
       " 'drink',\n",
       " 'drink',\n",
       " 'drink',\n",
       " 'drink',\n",
       " 'drink',\n",
       " 'drink',\n",
       " 'drink',\n",
       " 'drink',\n",
       " 'drink',\n",
       " 'drink',\n",
       " 'drink',\n",
       " 'drink',\n",
       " 'drink',\n",
       " 'drink',\n",
       " 'drink',\n",
       " 'drink',\n",
       " 'drink',\n",
       " 'drink',\n",
       " 'drink',\n",
       " 'drink',\n",
       " 'drink',\n",
       " 'drink',\n",
       " 'drink',\n",
       " 'drink',\n",
       " 'drink',\n",
       " 'drink',\n",
       " 'drink',\n",
       " 'drink',\n",
       " 'drink',\n",
       " 'drink',\n",
       " 'drink',\n",
       " 'drink',\n",
       " 'drink',\n",
       " 'drink',\n",
       " 'drink',\n",
       " 'drink',\n",
       " 'drink',\n",
       " 'drink',\n",
       " 'drink',\n",
       " 'drink',\n",
       " 'drink',\n",
       " 'drink',\n",
       " 'drink',\n",
       " 'drink',\n",
       " 'drink',\n",
       " 'drink',\n",
       " 'drink',\n",
       " 'drink',\n",
       " 'drink',\n",
       " 'drink',\n",
       " 'drink',\n",
       " 'drink',\n",
       " 'drink',\n",
       " 'drink',\n",
       " 'drink',\n",
       " 'drink',\n",
       " 'drink',\n",
       " 'drink',\n",
       " 'drink',\n",
       " 'drink',\n",
       " 'drink',\n",
       " 'drink',\n",
       " 'drink',\n",
       " 'drink',\n",
       " 'drink',\n",
       " 'drink',\n",
       " 'drink',\n",
       " 'drink',\n",
       " 'drink',\n",
       " 'drink',\n",
       " 'drink',\n",
       " 'drink',\n",
       " 'drink',\n",
       " 'drink',\n",
       " 'drink',\n",
       " 'drink',\n",
       " 'drink',\n",
       " 'drink',\n",
       " 'drink',\n",
       " 'drink',\n",
       " 'drink',\n",
       " 'drink',\n",
       " 'drink',\n",
       " 'drink',\n",
       " 'drink',\n",
       " 'drink',\n",
       " 'drink',\n",
       " 'drink',\n",
       " 'drink',\n",
       " 'drink',\n",
       " 'drink',\n",
       " 'drink',\n",
       " 'drink',\n",
       " 'drink',\n",
       " 'drink',\n",
       " 'drink',\n",
       " 'drink',\n",
       " 'drink',\n",
       " 'drink']"
      ]
     },
     "execution_count": 25,
     "metadata": {},
     "output_type": "execute_result"
    }
   ],
   "source": [
    "x_train_pred"
   ]
  },
  {
   "cell_type": "code",
   "execution_count": null,
   "metadata": {},
   "outputs": [],
   "source": []
  },
  {
   "cell_type": "code",
   "execution_count": null,
   "metadata": {},
   "outputs": [],
   "source": []
  },
  {
   "cell_type": "code",
   "execution_count": 26,
   "metadata": {},
   "outputs": [
    {
     "name": "stderr",
     "output_type": "stream",
     "text": [
      "100%|████████████████████████████████████████████████████████████████████████████████| 132/132 [07:49<00:00,  3.56s/it]\n"
     ]
    }
   ],
   "source": [
    "x_test_pred=[]\n",
    "\n",
    "for i in tqdm(range(x_test.shape[0])):\n",
    "    x_test_ind=np.expand_dims(x_test[i],axis=0)\n",
    "    pred=model.predict(x_test_ind)\n",
    "    pred=words[np.argmax(pred)]\n",
    "    x_test_pred.append(pred)\n",
    "    \n",
    "    \n",
    "    "
   ]
  },
  {
   "cell_type": "code",
   "execution_count": 27,
   "metadata": {},
   "outputs": [
    {
     "name": "stderr",
     "output_type": "stream",
     "text": [
      "100%|████████████████████████████████████████████████████████████████████████████████| 158/158 [09:44<00:00,  3.70s/it]\n"
     ]
    }
   ],
   "source": [
    "x_val_pred=[]\n",
    "\n",
    "for i in tqdm(range(x_val.shape[0])):\n",
    "    x_val_ind=np.expand_dims(x_val[i],axis=0)\n",
    "    pred=model.predict(x_val_ind)\n",
    "    pred=words[np.argmax(pred)]\n",
    "    x_val_pred.append(pred)\n",
    "    \n",
    "    \n",
    "    "
   ]
  },
  {
   "cell_type": "code",
   "execution_count": 28,
   "metadata": {},
   "outputs": [],
   "source": [
    "x_val_pred=np.asarray(x_val_pred)\n",
    "x_test_pred=np.asarray(x_test_pred)\n",
    "x_train_pred=np.asarray(x_train_pred)"
   ]
  },
  {
   "cell_type": "code",
   "execution_count": 29,
   "metadata": {},
   "outputs": [
    {
     "data": {
      "text/plain": [
       "array(['drink', 'hearing'], dtype='<U7')"
      ]
     },
     "execution_count": 29,
     "metadata": {},
     "output_type": "execute_result"
    }
   ],
   "source": [
    "np.unique(x_train_pred)"
   ]
  },
  {
   "cell_type": "code",
   "execution_count": 30,
   "metadata": {},
   "outputs": [],
   "source": [
    "y_words_train=np.asarray(y_words_train)\n",
    " "
   ]
  },
  {
   "cell_type": "code",
   "execution_count": 31,
   "metadata": {},
   "outputs": [
    {
     "data": {
      "text/plain": [
       "0.0"
      ]
     },
     "execution_count": 31,
     "metadata": {},
     "output_type": "execute_result"
    }
   ],
   "source": [
    "np.all([x_train_pred==y_words_train ,x_train_pred=='deaf'],axis=0).sum()/np.all([y_words_train=='deaf'],axis=0).sum()"
   ]
  },
  {
   "cell_type": "code",
   "execution_count": 32,
   "metadata": {},
   "outputs": [
    {
     "ename": "TypeError",
     "evalue": "only integer scalar arrays can be converted to a scalar index",
     "output_type": "error",
     "traceback": [
      "\u001b[1;31m---------------------------------------------------------------------------\u001b[0m",
      "\u001b[1;31mTypeError\u001b[0m                                 Traceback (most recent call last)",
      "\u001b[1;32m<ipython-input-32-2168210b9df9>\u001b[0m in \u001b[0;36m<module>\u001b[1;34m\u001b[0m\n\u001b[1;32m----> 1\u001b[1;33m \u001b[0mnp\u001b[0m\u001b[1;33m.\u001b[0m\u001b[0mall\u001b[0m\u001b[1;33m(\u001b[0m\u001b[0mx_train_pred\u001b[0m\u001b[1;33m==\u001b[0m\u001b[0my_words_train\u001b[0m \u001b[1;33m,\u001b[0m \u001b[0mx_train_pred\u001b[0m\u001b[1;33m==\u001b[0m\u001b[1;34m'thin'\u001b[0m\u001b[1;33m)\u001b[0m\u001b[1;33m\u001b[0m\u001b[1;33m\u001b[0m\u001b[0m\n\u001b[0m",
      "\u001b[1;32m<__array_function__ internals>\u001b[0m in \u001b[0;36mall\u001b[1;34m(*args, **kwargs)\u001b[0m\n",
      "\u001b[1;32m~\\anaconda3\\lib\\site-packages\\numpy\\core\\fromnumeric.py\u001b[0m in \u001b[0;36mall\u001b[1;34m(a, axis, out, keepdims)\u001b[0m\n\u001b[0;32m   2396\u001b[0m \u001b[1;33m\u001b[0m\u001b[0m\n\u001b[0;32m   2397\u001b[0m     \"\"\"\n\u001b[1;32m-> 2398\u001b[1;33m     \u001b[1;32mreturn\u001b[0m \u001b[0m_wrapreduction\u001b[0m\u001b[1;33m(\u001b[0m\u001b[0ma\u001b[0m\u001b[1;33m,\u001b[0m \u001b[0mnp\u001b[0m\u001b[1;33m.\u001b[0m\u001b[0mlogical_and\u001b[0m\u001b[1;33m,\u001b[0m \u001b[1;34m'all'\u001b[0m\u001b[1;33m,\u001b[0m \u001b[0maxis\u001b[0m\u001b[1;33m,\u001b[0m \u001b[1;32mNone\u001b[0m\u001b[1;33m,\u001b[0m \u001b[0mout\u001b[0m\u001b[1;33m,\u001b[0m \u001b[0mkeepdims\u001b[0m\u001b[1;33m=\u001b[0m\u001b[0mkeepdims\u001b[0m\u001b[1;33m)\u001b[0m\u001b[1;33m\u001b[0m\u001b[1;33m\u001b[0m\u001b[0m\n\u001b[0m\u001b[0;32m   2399\u001b[0m \u001b[1;33m\u001b[0m\u001b[0m\n\u001b[0;32m   2400\u001b[0m \u001b[1;33m\u001b[0m\u001b[0m\n",
      "\u001b[1;32m~\\anaconda3\\lib\\site-packages\\numpy\\core\\fromnumeric.py\u001b[0m in \u001b[0;36m_wrapreduction\u001b[1;34m(obj, ufunc, method, axis, dtype, out, **kwargs)\u001b[0m\n\u001b[0;32m     88\u001b[0m                 \u001b[1;32mreturn\u001b[0m \u001b[0mreduction\u001b[0m\u001b[1;33m(\u001b[0m\u001b[0maxis\u001b[0m\u001b[1;33m=\u001b[0m\u001b[0maxis\u001b[0m\u001b[1;33m,\u001b[0m \u001b[0mout\u001b[0m\u001b[1;33m=\u001b[0m\u001b[0mout\u001b[0m\u001b[1;33m,\u001b[0m \u001b[1;33m**\u001b[0m\u001b[0mpasskwargs\u001b[0m\u001b[1;33m)\u001b[0m\u001b[1;33m\u001b[0m\u001b[1;33m\u001b[0m\u001b[0m\n\u001b[0;32m     89\u001b[0m \u001b[1;33m\u001b[0m\u001b[0m\n\u001b[1;32m---> 90\u001b[1;33m     \u001b[1;32mreturn\u001b[0m \u001b[0mufunc\u001b[0m\u001b[1;33m.\u001b[0m\u001b[0mreduce\u001b[0m\u001b[1;33m(\u001b[0m\u001b[0mobj\u001b[0m\u001b[1;33m,\u001b[0m \u001b[0maxis\u001b[0m\u001b[1;33m,\u001b[0m \u001b[0mdtype\u001b[0m\u001b[1;33m,\u001b[0m \u001b[0mout\u001b[0m\u001b[1;33m,\u001b[0m \u001b[1;33m**\u001b[0m\u001b[0mpasskwargs\u001b[0m\u001b[1;33m)\u001b[0m\u001b[1;33m\u001b[0m\u001b[1;33m\u001b[0m\u001b[0m\n\u001b[0m\u001b[0;32m     91\u001b[0m \u001b[1;33m\u001b[0m\u001b[0m\n\u001b[0;32m     92\u001b[0m \u001b[1;33m\u001b[0m\u001b[0m\n",
      "\u001b[1;31mTypeError\u001b[0m: only integer scalar arrays can be converted to a scalar index"
     ]
    }
   ],
   "source": [
    "np.all(x_train_pred==y_words_train , x_train_pred=='thin')"
   ]
  },
  {
   "cell_type": "code",
   "execution_count": null,
   "metadata": {},
   "outputs": [],
   "source": [
    "np.all(x_train_pred==y_words_train and x_train_pred=='thin').sum()/(x_train_pred=='thin').sum()"
   ]
  },
  {
   "cell_type": "code",
   "execution_count": null,
   "metadata": {},
   "outputs": [],
   "source": [
    "(x_test_pred==y_words_test).sum()/x_test_pred.shape[0]*100"
   ]
  },
  {
   "cell_type": "code",
   "execution_count": null,
   "metadata": {},
   "outputs": [],
   "source": [
    "(x_val_pred==y_words_val).sum()/x_val_pred.shape[0]*100"
   ]
  },
  {
   "cell_type": "code",
   "execution_count": null,
   "metadata": {},
   "outputs": [],
   "source": []
  },
  {
   "cell_type": "code",
   "execution_count": null,
   "metadata": {},
   "outputs": [],
   "source": []
  }
 ],
 "metadata": {
  "kernelspec": {
   "display_name": "Python 3",
   "language": "python",
   "name": "python3"
  },
  "language_info": {
   "codemirror_mode": {
    "name": "ipython",
    "version": 3
   },
   "file_extension": ".py",
   "mimetype": "text/x-python",
   "name": "python",
   "nbconvert_exporter": "python",
   "pygments_lexer": "ipython3",
   "version": "3.7.6"
  }
 },
 "nbformat": 4,
 "nbformat_minor": 4
}
